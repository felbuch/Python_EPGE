{
 "cells": [
  {
   "cell_type": "markdown",
   "metadata": {},
   "source": [
    "## Tipos de dados\n",
    "\n",
    "### Python como uma calculadora\n",
    "\n",
    "Considere as seguintes variáveis:"
   ]
  },
  {
   "cell_type": "code",
   "execution_count": 2,
   "metadata": {},
   "outputs": [],
   "source": [
    "a = 123\n",
    "b = 456"
   ]
  },
  {
   "cell_type": "markdown",
   "metadata": {},
   "source": [
    "Calcule:\n",
    "\n",
    "1. $a + b$"
   ]
  },
  {
   "cell_type": "code",
   "execution_count": 7,
   "metadata": {},
   "outputs": [
    {
     "name": "stdout",
     "output_type": "stream",
     "text": [
      "579\n"
     ]
    },
    {
     "data": {
      "text/plain": [
       "'\\n#Em forma de função\\ndef soma(c,d):\\n    return c + d\\n\\nsoma(a,b)\\n'"
      ]
     },
     "execution_count": 7,
     "metadata": {},
     "output_type": "execute_result"
    }
   ],
   "source": [
    "print(a+b)\n",
    "\n",
    "'''\n",
    "#Em forma de função\n",
    "def soma(c,d):\n",
    "    return c + d\n",
    "\n",
    "soma(a,b)\n",
    "'''"
   ]
  },
  {
   "cell_type": "markdown",
   "metadata": {},
   "source": [
    "2. $a - b$"
   ]
  },
  {
   "cell_type": "code",
   "execution_count": 9,
   "metadata": {},
   "outputs": [
    {
     "name": "stdout",
     "output_type": "stream",
     "text": [
      "-333\n"
     ]
    },
    {
     "data": {
      "text/plain": [
       "'\\n#Em forma de função\\ndef subtracao(c,d):\\n    return c-d\\n\\nsubtracao(a,b)\\n'"
      ]
     },
     "execution_count": 9,
     "metadata": {},
     "output_type": "execute_result"
    }
   ],
   "source": [
    "print(a-b)\n",
    "\n",
    "'''\n",
    "#Em forma de função\n",
    "def subtracao(c,d):\n",
    "    return c-d\n",
    "\n",
    "subtracao(a,b)\n",
    "'''"
   ]
  },
  {
   "cell_type": "markdown",
   "metadata": {},
   "source": [
    "3. $a \\cdot b$"
   ]
  },
  {
   "cell_type": "code",
   "execution_count": 10,
   "metadata": {},
   "outputs": [
    {
     "name": "stdout",
     "output_type": "stream",
     "text": [
      "168264\n"
     ]
    },
    {
     "data": {
      "text/plain": [
       "'\\n#Em forma de função\\ndef mult(c,d):\\n    return c*d\\n\\nmult(a,b)\\n'"
      ]
     },
     "execution_count": 10,
     "metadata": {},
     "output_type": "execute_result"
    }
   ],
   "source": [
    "print(a*b)\n",
    "\n",
    "'''\n",
    "#Em forma de função\n",
    "def mult(c,d):\n",
    "    return c*d\n",
    "\n",
    "mult(a,b)\n",
    "'''"
   ]
  },
  {
   "cell_type": "markdown",
   "metadata": {},
   "source": [
    "4. $a^b$"
   ]
  },
  {
   "cell_type": "code",
   "execution_count": 14,
   "metadata": {},
   "outputs": [
    {
     "data": {
      "text/plain": [
       "99250068772098856700831462057469632637295940819886900519816298881382867104749399077921128661426144638055424236936271872492800352741649902118143819672601569998100120790496759517636465445895625741609866209900500198407153244604778968016963028050310261417615914468729918240685487878617645976939063464357986165711730976399478507649228686341466967167910126653342134942744851463899927487092486610977146112763567101672645953132196481439339873017088140414661271198500333255713096142335151414630651683065518784081203678487703002802082091236603519026256880624499681781387227574035484831271515683123742149095569260463609655977700938844580611931246495166208695540313698140011638027322566252689780838136351828795314272162111222231170901715612355701347552371530013693855379834865667060014643302459100429783653966913783002290784283455628283355470529932956051484477129333881159930212758687602795088579230431661696010232187390436601614145603241902386663442520160735566561"
      ]
     },
     "execution_count": 14,
     "metadata": {},
     "output_type": "execute_result"
    }
   ],
   "source": [
    "print(a**b)\n",
    "\n",
    "'''\n",
    "#Em forma de função\n",
    "def expon(c,d):\n",
    "    return c**d\n",
    "\n",
    "expon(a,b)\n",
    "'''"
   ]
  },
  {
   "cell_type": "markdown",
   "metadata": {},
   "source": [
    "5. \n",
    "$\\frac{a}{b}$"
   ]
  },
  {
   "cell_type": "code",
   "execution_count": 15,
   "metadata": {},
   "outputs": [
    {
     "data": {
      "text/plain": [
       "0.26973684210526316"
      ]
     },
     "execution_count": 15,
     "metadata": {},
     "output_type": "execute_result"
    }
   ],
   "source": [
    "print(a/b)\n",
    "\n",
    "'''\n",
    "#Em forma de função\n",
    "def div(c,d):\n",
    "    return c/d\n",
    "\n",
    "div(a,b)\n",
    "'''"
   ]
  },
  {
   "cell_type": "markdown",
   "metadata": {},
   "source": [
    "6. O resto da divisão de b por a"
   ]
  },
  {
   "cell_type": "code",
   "execution_count": 16,
   "metadata": {},
   "outputs": [
    {
     "data": {
      "text/plain": [
       "87"
      ]
     },
     "execution_count": 16,
     "metadata": {},
     "output_type": "execute_result"
    }
   ],
   "source": [
    "print(b%a)\n",
    "\n",
    "'''\n",
    "#Em forma de função\n",
    "def rest(c,d):\n",
    "    return d%c\n",
    "\n",
    "rest(a,b)\n",
    "'''"
   ]
  },
  {
   "cell_type": "markdown",
   "metadata": {},
   "source": [
    "7. A parte inteira da divisão de b por a"
   ]
  },
  {
   "cell_type": "code",
   "execution_count": 11,
   "metadata": {},
   "outputs": [
    {
     "name": "stdout",
     "output_type": "stream",
     "text": [
      "3\n"
     ]
    },
    {
     "data": {
      "text/plain": [
       "'\\n#Em forma de função\\ndef divint(c,d):\\n    return c//d\\n\\ndivint(b,a)\\n'"
      ]
     },
     "execution_count": 11,
     "metadata": {},
     "output_type": "execute_result"
    }
   ],
   "source": [
    "print(b//a)\n",
    "\n",
    "'''\n",
    "#Em forma de função\n",
    "def divint(c,d):\n",
    "    return c//d\n",
    "\n",
    "divint(b,a)\n",
    "'''"
   ]
  },
  {
   "cell_type": "markdown",
   "metadata": {},
   "source": [
    "8. Verdadeiro ou falso? $a^b > b^a$"
   ]
  },
  {
   "cell_type": "code",
   "execution_count": 12,
   "metadata": {},
   "outputs": [
    {
     "name": "stdout",
     "output_type": "stream",
     "text": [
      "True\n"
     ]
    },
    {
     "data": {
      "text/plain": [
       "'\\n#Em forma de função\\ndef exptrue(c,d):\\n    return c**d > d**c\\n\\nexptrue(a,b)\\n'"
      ]
     },
     "execution_count": 12,
     "metadata": {},
     "output_type": "execute_result"
    }
   ],
   "source": [
    "print(a**b > b**a)\n",
    "\n",
    "'''\n",
    "#Em forma de função\n",
    "def exptrue(c,d):\n",
    "    return c**d > d**c\n",
    "\n",
    "exptrue(a,b)\n",
    "'''"
   ]
  },
  {
   "cell_type": "markdown",
   "metadata": {},
   "source": [
    "### A rose by any other name would smell as sweet\n",
    "\n",
    "1. Crie uma variável _a_ que contenha um integer 1. Use o comando `type` para mostrar que _a_ é um integer."
   ]
  },
  {
   "cell_type": "code",
   "execution_count": 19,
   "metadata": {},
   "outputs": [
    {
     "data": {
      "text/plain": [
       "int"
      ]
     },
     "execution_count": 19,
     "metadata": {},
     "output_type": "execute_result"
    }
   ],
   "source": [
    "a = 1\n",
    "type(a)"
   ]
  },
  {
   "cell_type": "markdown",
   "metadata": {},
   "source": [
    "2. Crie uma variável _b_ que contenha um float 1. Use o comando `type` para mostrar que _a_ é um float."
   ]
  },
  {
   "cell_type": "code",
   "execution_count": 20,
   "metadata": {},
   "outputs": [
    {
     "data": {
      "text/plain": [
       "float"
      ]
     },
     "execution_count": 20,
     "metadata": {},
     "output_type": "execute_result"
    }
   ],
   "source": [
    "b = 1.0\n",
    "type(b)\n"
   ]
  },
  {
   "cell_type": "markdown",
   "metadata": {},
   "source": [
    "3. Crie uma variável _c_ que contenha um string 1. Use o comando `type` para mostrar que _a_ é um string."
   ]
  },
  {
   "cell_type": "code",
   "execution_count": 21,
   "metadata": {},
   "outputs": [
    {
     "data": {
      "text/plain": [
       "str"
      ]
     },
     "execution_count": 21,
     "metadata": {},
     "output_type": "execute_result"
    }
   ],
   "source": [
    "c = \"1\"\n",
    "type(c)\n"
   ]
  },
  {
   "cell_type": "markdown",
   "metadata": {},
   "source": [
    "### Operações com strings\n",
    "\n",
    "1. Use as variáveis abaixo e uma operação matemática para fazer o nome de uma cantora."
   ]
  },
  {
   "cell_type": "code",
   "execution_count": 22,
   "metadata": {},
   "outputs": [
    {
     "data": {
      "text/plain": [
       "'Lady Gaga'"
      ]
     },
     "execution_count": 22,
     "metadata": {},
     "output_type": "execute_result"
    }
   ],
   "source": [
    "a = 'Lady'\n",
    "b = ' '\n",
    "c = 'Gaga'"
   ]
  },
  {
   "cell_type": "code",
   "execution_count": 23,
   "metadata": {},
   "outputs": [
    {
     "data": {
      "text/plain": [
       "'Lady Gaga'"
      ]
     },
     "execution_count": 23,
     "metadata": {},
     "output_type": "execute_result"
    }
   ],
   "source": [
    "a+b+c\n"
   ]
  },
  {
   "cell_type": "markdown",
   "metadata": {},
   "source": [
    "2.Use as variáveis abaixo para escrever a frase: \"in the shalalalalalalow\""
   ]
  },
  {
   "cell_type": "code",
   "execution_count": 25,
   "metadata": {},
   "outputs": [],
   "source": [
    "a = 'in the sha'\n",
    "b = 'la'\n",
    "c = 'low'"
   ]
  },
  {
   "cell_type": "code",
   "execution_count": 26,
   "metadata": {},
   "outputs": [
    {
     "data": {
      "text/plain": [
       "'in the shalalalalalalow'"
      ]
     },
     "execution_count": 26,
     "metadata": {},
     "output_type": "execute_result"
    }
   ],
   "source": [
    "a+5*b+c\n"
   ]
  },
  {
   "cell_type": "markdown",
   "metadata": {},
   "source": [
    "3. A variável `letra` é um string que contém a letra de _Shallow_. Use a função `len` para contar quantos caracteres a letra tem"
   ]
  },
  {
   "cell_type": "code",
   "execution_count": 28,
   "metadata": {},
   "outputs": [],
   "source": [
    "letra = '''Tell me somethin', girl\n",
    "Are you happy in this modern world?\n",
    "Or do you need more?\n",
    "Is there somethin' else you're searchin' for?\n",
    "\n",
    "I'm fallin'\n",
    "In all the good times I find myself longin' for change\n",
    "And in the bad times, I fear myself\n",
    "\n",
    "Tell me something, boy\n",
    "Aren't you tired tryin' to fill that void?\n",
    "Or do you need more?\n",
    "Ain't it hard keepin' it so hardcore?\n",
    "\n",
    "I'm falling\n",
    "In all the good times I find myself longing for change\n",
    "And in the bad times, I fear myself\n",
    "\n",
    "I'm off the deep end, watch as I dive in\n",
    "I'll never meet the ground\n",
    "Crash through the surface, where they can't hurt us\n",
    "We're far from the shallow now\n",
    "\n",
    "In the sha-ha-sha-ha-llow\n",
    "In the sha-ha-sha-la-la-la-llow\n",
    "In the sha-ha-sha-ha-llow\n",
    "We're far from the shallow now\n",
    "\n",
    "Oh, ha-ah-ah\n",
    "Ah, ha-ah-ah, oh, ah\n",
    "Ha-ah-ah-ah\n",
    "\n",
    "I'm off the deep end, watch as I dive in\n",
    "I'll never meet the ground\n",
    "Crash through the surface, where they can't hurt us\n",
    "We're far from the shallow now\n",
    "\n",
    "In the sha-ha-sha-ha-llow\n",
    "In the sha-ha-sha-la-la-la-llow\n",
    "In the sha-ha-sha-ha-llow\n",
    "We're far from the shallow now'''"
   ]
  },
  {
   "cell_type": "code",
   "execution_count": 29,
   "metadata": {},
   "outputs": [
    {
     "data": {
      "text/plain": [
       "1043"
      ]
     },
     "execution_count": 29,
     "metadata": {},
     "output_type": "execute_result"
    }
   ],
   "source": [
    "len(letra)\n"
   ]
  },
  {
   "cell_type": "markdown",
   "metadata": {},
   "source": [
    "4. Selecione os últimos 30 caracteres da letra (isso é, do caracter 1013, até o final)."
   ]
  },
  {
   "cell_type": "code",
   "execution_count": 36,
   "metadata": {},
   "outputs": [
    {
     "data": {
      "text/plain": [
       "\"We're far from the shallow now\""
      ]
     },
     "execution_count": 36,
     "metadata": {},
     "output_type": "execute_result"
    }
   ],
   "source": [
    "letra[-30:]"
   ]
  },
  {
   "cell_type": "markdown",
   "metadata": {},
   "source": [
    "### Formatação de strings\n",
    "\n",
    "Em Data Science, é comum querermos mostrar na tela um string com os resultados do modelo. Algo do tipo:\n",
    "\n",
    "> Modelo 1: Precisao = 91.3%. Acurácia = 90.1%\n",
    "\n",
    "Use as informações abaixo para construir um string como o acima. Use 1 casa decimal e exprima os resultados como porcentagens."
   ]
  },
  {
   "cell_type": "code",
   "execution_count": 40,
   "metadata": {},
   "outputs": [],
   "source": [
    "modelo = 1\n",
    "precisao = 91.310579284\n",
    "acuracia = 90.102378192"
   ]
  },
  {
   "cell_type": "code",
   "execution_count": 46,
   "metadata": {},
   "outputs": [
    {
     "name": "stdout",
     "output_type": "stream",
     "text": [
      "1: Precisao = 91.3. Acurácia = 90.102378192\n"
     ]
    }
   ],
   "source": [
    "precisao = round(precisao,1)\n",
    "acuracaia = round(acuracia,1)\n",
    "\n",
    "print(f\"{modelo}: Precisao = {precisao}. Acurácia = {acuracia}\")"
   ]
  }
 ],
 "metadata": {
  "kernelspec": {
   "display_name": "Python 3 (ipykernel)",
   "language": "python",
   "name": "python3"
  },
  "language_info": {
   "codemirror_mode": {
    "name": "ipython",
    "version": 3
   },
   "file_extension": ".py",
   "mimetype": "text/x-python",
   "name": "python",
   "nbconvert_exporter": "python",
   "pygments_lexer": "ipython3",
   "version": "3.9.12"
  }
 },
 "nbformat": 4,
 "nbformat_minor": 4
}
