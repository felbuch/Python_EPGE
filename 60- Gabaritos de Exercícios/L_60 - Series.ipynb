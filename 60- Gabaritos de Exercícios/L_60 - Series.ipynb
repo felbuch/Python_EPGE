{
 "cells": [
  {
   "cell_type": "markdown",
   "metadata": {},
   "source": [
    "## Bitcoin\n",
    "\n",
    "Antes da gente começar, rode essas células. Elas vão criar as séries que vamos usar nesse exercício:"
   ]
  },
  {
   "cell_type": "code",
   "execution_count": null,
   "metadata": {},
   "outputs": [],
   "source": [
    "!pip install investpy"
   ]
  },
  {
   "cell_type": "code",
   "execution_count": null,
   "metadata": {},
   "outputs": [],
   "source": [
    "import pandas as pd\n",
    "import investpy"
   ]
  },
  {
   "cell_type": "code",
   "execution_count": 10,
   "metadata": {},
   "outputs": [
    {
     "ename": "ConnectionError",
     "evalue": "ERR#0015: error 403, try again later.",
     "output_type": "error",
     "traceback": [
      "\u001b[1;31m---------------------------------------------------------------------------\u001b[0m",
      "\u001b[1;31mConnectionError\u001b[0m                           Traceback (most recent call last)",
      "Input \u001b[1;32mIn [10]\u001b[0m, in \u001b[0;36m<cell line: 1>\u001b[1;34m()\u001b[0m\n\u001b[1;32m----> 1\u001b[0m bitcoin \u001b[38;5;241m=\u001b[39m \u001b[43minvestpy\u001b[49m\u001b[38;5;241;43m.\u001b[39;49m\u001b[43mget_crypto_recent_data\u001b[49m\u001b[43m(\u001b[49m\u001b[43mcrypto\u001b[49m\u001b[38;5;241;43m=\u001b[39;49m\u001b[38;5;124;43m'\u001b[39;49m\u001b[38;5;124;43mbitcoin\u001b[39;49m\u001b[38;5;124;43m'\u001b[39;49m\u001b[43m)\u001b[49m \n\u001b[0;32m      2\u001b[0m preco \u001b[38;5;241m=\u001b[39m bitcoin[\u001b[38;5;124m'\u001b[39m\u001b[38;5;124mClose\u001b[39m\u001b[38;5;124m'\u001b[39m]\n\u001b[0;32m      3\u001b[0m retorno \u001b[38;5;241m=\u001b[39m preco\u001b[38;5;241m.\u001b[39mpct_change()\n",
      "File \u001b[1;32mG:\\FGV\\Anaconda\\lib\\site-packages\\investpy\\crypto.py:287\u001b[0m, in \u001b[0;36mget_crypto_recent_data\u001b[1;34m(crypto, as_json, order, interval)\u001b[0m\n\u001b[0;32m    284\u001b[0m req \u001b[38;5;241m=\u001b[39m requests\u001b[38;5;241m.\u001b[39mpost(url, headers\u001b[38;5;241m=\u001b[39mhead, data\u001b[38;5;241m=\u001b[39mparams)\n\u001b[0;32m    286\u001b[0m \u001b[38;5;28;01mif\u001b[39;00m req\u001b[38;5;241m.\u001b[39mstatus_code \u001b[38;5;241m!=\u001b[39m \u001b[38;5;241m200\u001b[39m:\n\u001b[1;32m--> 287\u001b[0m     \u001b[38;5;28;01mraise\u001b[39;00m \u001b[38;5;167;01mConnectionError\u001b[39;00m(\n\u001b[0;32m    288\u001b[0m         \u001b[38;5;124m\"\u001b[39m\u001b[38;5;124mERR#0015: error \u001b[39m\u001b[38;5;124m\"\u001b[39m \u001b[38;5;241m+\u001b[39m \u001b[38;5;28mstr\u001b[39m(req\u001b[38;5;241m.\u001b[39mstatus_code) \u001b[38;5;241m+\u001b[39m \u001b[38;5;124m\"\u001b[39m\u001b[38;5;124m, try again later.\u001b[39m\u001b[38;5;124m\"\u001b[39m\n\u001b[0;32m    289\u001b[0m     )\n\u001b[0;32m    291\u001b[0m root_ \u001b[38;5;241m=\u001b[39m fromstring(req\u001b[38;5;241m.\u001b[39mtext)\n\u001b[0;32m    292\u001b[0m path_ \u001b[38;5;241m=\u001b[39m root_\u001b[38;5;241m.\u001b[39mxpath(\u001b[38;5;124m\"\u001b[39m\u001b[38;5;124m.//table[@id=\u001b[39m\u001b[38;5;124m'\u001b[39m\u001b[38;5;124mcurr_table\u001b[39m\u001b[38;5;124m'\u001b[39m\u001b[38;5;124m]/tbody/tr\u001b[39m\u001b[38;5;124m\"\u001b[39m)\n",
      "\u001b[1;31mConnectionError\u001b[0m: ERR#0015: error 403, try again later."
     ]
    }
   ],
   "source": [
    "bitcoin = investpy.get_crypto_recent_data(crypto='bitcoin') \n",
    "preco = bitcoin['Close']\n",
    "retorno = preco.pct_change()\n",
    "dolar = investpy.get_currency_cross_recent_data('USD/BRL')['Close']"
   ]
  },
  {
   "cell_type": "markdown",
   "metadata": {},
   "source": [
    "As séries `preco`, `volume` e `retorno` trazem o preço, o volume negociado e o retorno diário do Bitcoin ao longo do último mês. A série `dolar` traz a série do valor diário do dólar."
   ]
  },
  {
   "cell_type": "markdown",
   "metadata": {},
   "source": [
    "1. Quantos dias temos na série de retorno? Em quantos desses dias o retorno do Bitcoin foi positivo?"
   ]
  },
  {
   "cell_type": "code",
   "execution_count": 4,
   "metadata": {},
   "outputs": [],
   "source": [
    "#Resposta\n"
   ]
  },
  {
   "cell_type": "code",
   "execution_count": 5,
   "metadata": {},
   "outputs": [],
   "source": [
    "#Resposta\n"
   ]
  },
  {
   "cell_type": "markdown",
   "metadata": {},
   "source": [
    "O preço do Bitcoin está em dólar. Queremos convertê-lo para reais usando o valor do dólar em cada dia.  \n",
    "\n",
    "Antes de fazermos isso...\n",
    "\n",
    "2. Qual o valor do dólar mais recente disponível na série `dolar`?"
   ]
  },
  {
   "cell_type": "code",
   "execution_count": 6,
   "metadata": {},
   "outputs": [],
   "source": [
    "#Resposta\n"
   ]
  },
  {
   "cell_type": "markdown",
   "metadata": {},
   "source": [
    "3. Converta a série `preço` do Bitcoin para o Real. Para isso, você deve _multiplicar_ o preço do Bitcoin em dólar pelo preço do dólar em cada dia. Chame a nova serie de `preco_real`"
   ]
  },
  {
   "cell_type": "code",
   "execution_count": 7,
   "metadata": {},
   "outputs": [],
   "source": [
    "#Resposta\n"
   ]
  },
  {
   "cell_type": "markdown",
   "metadata": {},
   "source": [
    "Ótimo! Agora eu vou calcular pra você o retorno diário do Bitcoin em reais:"
   ]
  },
  {
   "cell_type": "code",
   "execution_count": 8,
   "metadata": {},
   "outputs": [],
   "source": [
    "#Resposta\n"
   ]
  },
  {
   "cell_type": "markdown",
   "metadata": {},
   "source": [
    "Você vai aprender a medir o risco de uma ação quando estudar Finanças. Por enquanto, vamos usar esta medida daqui:\n",
    "\n",
    "$$\n",
    "\\text{Risco} = \\left(\\frac{\\text{valor máximo do retorno} - \\text{valor mínimo do retorno}}{\\text{valor médio do retorno}} \\right)\\times 100\n",
    "$$\n",
    "\n",
    "4. Calcule esse valor para duas séries:\n",
    "* `retorno`, que mede o retorno diário do Bitcoin em dólar (ou seja, para o investidor americano)\n",
    "* `retorno_real`, que mede o retorno diário do Bitcoin em reais (ou seja, para o investidor brasileiro)\n",
    "\n",
    "Qual é maior?"
   ]
  },
  {
   "cell_type": "code",
   "execution_count": 9,
   "metadata": {},
   "outputs": [],
   "source": [
    "#Para a série em dólar\n"
   ]
  },
  {
   "cell_type": "code",
   "execution_count": 10,
   "metadata": {},
   "outputs": [],
   "source": [
    "#Para a série em reais\n"
   ]
  },
  {
   "cell_type": "markdown",
   "metadata": {},
   "source": [
    "Por que o risco em real é maior do que o risco em dólar?\n",
    "\n",
    "Parabéns! Você acaba de aprender o que é **risco cambial** de um investimento! :)"
   ]
  }
 ],
 "metadata": {
  "kernelspec": {
   "display_name": "Python 3 (ipykernel)",
   "language": "python",
   "name": "python3"
  },
  "language_info": {
   "codemirror_mode": {
    "name": "ipython",
    "version": 3
   },
   "file_extension": ".py",
   "mimetype": "text/x-python",
   "name": "python",
   "nbconvert_exporter": "python",
   "pygments_lexer": "ipython3",
   "version": "3.9.12"
  }
 },
 "nbformat": 4,
 "nbformat_minor": 4
}
