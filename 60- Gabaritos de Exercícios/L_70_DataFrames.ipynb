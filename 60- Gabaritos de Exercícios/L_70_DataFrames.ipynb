{
 "cells": [
  {
   "cell_type": "markdown",
   "metadata": {},
   "source": [
    "### Pandas\n",
    "\n",
    "Importe o pacote `pandas`. Chame-o de `pd`."
   ]
  },
  {
   "cell_type": "code",
   "execution_count": 1,
   "metadata": {},
   "outputs": [],
   "source": [
    "import pandas as pd\n"
   ]
  },
  {
   "cell_type": "markdown",
   "metadata": {},
   "source": [
    "## Milionários\n",
    "\n",
    "O link abaixo contém um csv com dados sobre milionários.\n",
    "\n",
    "1. Importe o csv como um dataframe chamado `milionarios`. Quantas linhas e colunas tem esse dataframe?\n",
    "\n"
   ]
  },
  {
   "cell_type": "code",
   "execution_count": 2,
   "metadata": {},
   "outputs": [],
   "source": [
    "url = 'https://corgis-edu.github.io/corgis/datasets/csv/billionaires/billionaires.csv'"
   ]
  },
  {
   "cell_type": "code",
   "execution_count": 7,
   "metadata": {},
   "outputs": [],
   "source": [
    "milionarios = pd.read_csv(url)\n"
   ]
  },
  {
   "cell_type": "code",
   "execution_count": 9,
   "metadata": {},
   "outputs": [
    {
     "name": "stdout",
     "output_type": "stream",
     "text": [
      "(2614, 22)\n"
     ]
    }
   ],
   "source": [
    "df = pd.DataFrame(milionarios)\n",
    "print(df.shape)"
   ]
  },
  {
   "cell_type": "markdown",
   "metadata": {},
   "source": [
    "2. Mostre seus primeiros 5 elementos."
   ]
  },
  {
   "cell_type": "code",
   "execution_count": 10,
   "metadata": {},
   "outputs": [
    {
     "name": "stdout",
     "output_type": "stream",
     "text": [
      "             name  rank  year  company.founded        company.name  \\\n",
      "0      Bill Gates     1  1996             1975           Microsoft   \n",
      "1      Bill Gates     1  2001             1975           Microsoft   \n",
      "2      Bill Gates     1  2014             1975           Microsoft   \n",
      "3  Warren Buffett     2  1996             1962  Berkshire Hathaway   \n",
      "4  Warren Buffett     2  2001             1962  Berkshire Hathaway   \n",
      "\n",
      "  company.relationship company.sector company.type  demographics.age  \\\n",
      "0              founder       Software          new                40   \n",
      "1              founder       Software          new                45   \n",
      "2              founder       Software          new                58   \n",
      "3              founder        Finance          new                65   \n",
      "4              founder        Finance          new                70   \n",
      "\n",
      "  demographics.gender  ...  location.gdp location.region          wealth.type  \\\n",
      "0                male  ...  8.100000e+12   North America  founder non-finance   \n",
      "1                male  ...  1.060000e+13   North America  founder non-finance   \n",
      "2                male  ...  0.000000e+00   North America  founder non-finance   \n",
      "3                male  ...  8.100000e+12   North America  founder non-finance   \n",
      "4                male  ...  1.060000e+13   North America  founder non-finance   \n",
      "\n",
      "  wealth.worth in billions wealth.how.category  wealth.how.from emerging  \\\n",
      "0                     18.5         New Sectors                      True   \n",
      "1                     58.7         New Sectors                      True   \n",
      "2                     76.0         New Sectors                      True   \n",
      "3                     15.0      Traded Sectors                      True   \n",
      "4                     32.3      Traded Sectors                      True   \n",
      "\n",
      "   wealth.how.industry  wealth.how.inherited wealth.how.was founder  \\\n",
      "0  Technology-Computer         not inherited                   True   \n",
      "1  Technology-Computer         not inherited                   True   \n",
      "2  Technology-Computer         not inherited                   True   \n",
      "3             Consumer         not inherited                   True   \n",
      "4             Consumer         not inherited                   True   \n",
      "\n",
      "  wealth.how.was political  \n",
      "0                     True  \n",
      "1                     True  \n",
      "2                     True  \n",
      "3                     True  \n",
      "4                     True  \n",
      "\n",
      "[5 rows x 22 columns]\n"
     ]
    }
   ],
   "source": [
    "print(df.head(5))\n"
   ]
  },
  {
   "cell_type": "markdown",
   "metadata": {},
   "source": [
    "2. Mostre 5 linhas aleatórias do dataframe"
   ]
  },
  {
   "cell_type": "code",
   "execution_count": 11,
   "metadata": {},
   "outputs": [
    {
     "data": {
      "text/html": [
       "<div>\n",
       "<style scoped>\n",
       "    .dataframe tbody tr th:only-of-type {\n",
       "        vertical-align: middle;\n",
       "    }\n",
       "\n",
       "    .dataframe tbody tr th {\n",
       "        vertical-align: top;\n",
       "    }\n",
       "\n",
       "    .dataframe thead th {\n",
       "        text-align: right;\n",
       "    }\n",
       "</style>\n",
       "<table border=\"1\" class=\"dataframe\">\n",
       "  <thead>\n",
       "    <tr style=\"text-align: right;\">\n",
       "      <th></th>\n",
       "      <th>name</th>\n",
       "      <th>rank</th>\n",
       "      <th>year</th>\n",
       "      <th>company.founded</th>\n",
       "      <th>company.name</th>\n",
       "      <th>company.relationship</th>\n",
       "      <th>company.sector</th>\n",
       "      <th>company.type</th>\n",
       "      <th>demographics.age</th>\n",
       "      <th>demographics.gender</th>\n",
       "      <th>...</th>\n",
       "      <th>location.gdp</th>\n",
       "      <th>location.region</th>\n",
       "      <th>wealth.type</th>\n",
       "      <th>wealth.worth in billions</th>\n",
       "      <th>wealth.how.category</th>\n",
       "      <th>wealth.how.from emerging</th>\n",
       "      <th>wealth.how.industry</th>\n",
       "      <th>wealth.how.inherited</th>\n",
       "      <th>wealth.how.was founder</th>\n",
       "      <th>wealth.how.was political</th>\n",
       "    </tr>\n",
       "  </thead>\n",
       "  <tbody>\n",
       "    <tr>\n",
       "      <th>2535</th>\n",
       "      <td>An Kang</td>\n",
       "      <td>1565</td>\n",
       "      <td>2014</td>\n",
       "      <td>1992</td>\n",
       "      <td>Hualan Biological Engineering</td>\n",
       "      <td>founder</td>\n",
       "      <td>pharmaceuticals</td>\n",
       "      <td>new</td>\n",
       "      <td>65</td>\n",
       "      <td>male</td>\n",
       "      <td>...</td>\n",
       "      <td>0.000000e+00</td>\n",
       "      <td>East Asia</td>\n",
       "      <td>founder non-finance</td>\n",
       "      <td>1.0</td>\n",
       "      <td>New Sectors</td>\n",
       "      <td>True</td>\n",
       "      <td>Technology-Medical</td>\n",
       "      <td>not inherited</td>\n",
       "      <td>True</td>\n",
       "      <td>True</td>\n",
       "    </tr>\n",
       "    <tr>\n",
       "      <th>904</th>\n",
       "      <td>Robert Rowling</td>\n",
       "      <td>295</td>\n",
       "      <td>2014</td>\n",
       "      <td>1980</td>\n",
       "      <td>Tana Exploration Company</td>\n",
       "      <td>relation</td>\n",
       "      <td>oil</td>\n",
       "      <td>new</td>\n",
       "      <td>60</td>\n",
       "      <td>male</td>\n",
       "      <td>...</td>\n",
       "      <td>0.000000e+00</td>\n",
       "      <td>North America</td>\n",
       "      <td>self-made finance</td>\n",
       "      <td>4.9</td>\n",
       "      <td>Financial</td>\n",
       "      <td>True</td>\n",
       "      <td>Diversified financial</td>\n",
       "      <td>not inherited</td>\n",
       "      <td>True</td>\n",
       "      <td>True</td>\n",
       "    </tr>\n",
       "    <tr>\n",
       "      <th>684</th>\n",
       "      <td>Moores family</td>\n",
       "      <td>227</td>\n",
       "      <td>1996</td>\n",
       "      <td>1932</td>\n",
       "      <td>Littlewoods</td>\n",
       "      <td>NaN</td>\n",
       "      <td>retail</td>\n",
       "      <td>new</td>\n",
       "      <td>0</td>\n",
       "      <td>NaN</td>\n",
       "      <td>...</td>\n",
       "      <td>1.310000e+12</td>\n",
       "      <td>Europe</td>\n",
       "      <td>inherited</td>\n",
       "      <td>1.8</td>\n",
       "      <td>Non-Traded Sectors</td>\n",
       "      <td>True</td>\n",
       "      <td>Retail, Restaurant</td>\n",
       "      <td>father</td>\n",
       "      <td>True</td>\n",
       "      <td>True</td>\n",
       "    </tr>\n",
       "    <tr>\n",
       "      <th>1897</th>\n",
       "      <td>Dulce Pugliese de Godoy Bueno</td>\n",
       "      <td>931</td>\n",
       "      <td>2014</td>\n",
       "      <td>1972</td>\n",
       "      <td>Amil</td>\n",
       "      <td>founder</td>\n",
       "      <td>healthcare management</td>\n",
       "      <td>new</td>\n",
       "      <td>66</td>\n",
       "      <td>female</td>\n",
       "      <td>...</td>\n",
       "      <td>0.000000e+00</td>\n",
       "      <td>Latin America</td>\n",
       "      <td>founder non-finance</td>\n",
       "      <td>1.9</td>\n",
       "      <td>Financial</td>\n",
       "      <td>True</td>\n",
       "      <td>Real Estate</td>\n",
       "      <td>not inherited</td>\n",
       "      <td>True</td>\n",
       "      <td>True</td>\n",
       "    </tr>\n",
       "    <tr>\n",
       "      <th>1263</th>\n",
       "      <td>Daniel Ziff</td>\n",
       "      <td>419</td>\n",
       "      <td>1996</td>\n",
       "      <td>1927</td>\n",
       "      <td>Ziff Davis Inc</td>\n",
       "      <td>relation</td>\n",
       "      <td>publishing</td>\n",
       "      <td>new</td>\n",
       "      <td>24</td>\n",
       "      <td>male</td>\n",
       "      <td>...</td>\n",
       "      <td>8.100000e+12</td>\n",
       "      <td>North America</td>\n",
       "      <td>inherited</td>\n",
       "      <td>1.0</td>\n",
       "      <td>Financial</td>\n",
       "      <td>True</td>\n",
       "      <td>Hedge funds</td>\n",
       "      <td>3rd generation</td>\n",
       "      <td>True</td>\n",
       "      <td>True</td>\n",
       "    </tr>\n",
       "  </tbody>\n",
       "</table>\n",
       "<p>5 rows × 22 columns</p>\n",
       "</div>"
      ],
      "text/plain": [
       "                               name  rank  year  company.founded  \\\n",
       "2535                        An Kang  1565  2014             1992   \n",
       "904                  Robert Rowling   295  2014             1980   \n",
       "684                   Moores family   227  1996             1932   \n",
       "1897  Dulce Pugliese de Godoy Bueno   931  2014             1972   \n",
       "1263                    Daniel Ziff   419  1996             1927   \n",
       "\n",
       "                       company.name company.relationship  \\\n",
       "2535  Hualan Biological Engineering              founder   \n",
       "904        Tana Exploration Company             relation   \n",
       "684                     Littlewoods                  NaN   \n",
       "1897                           Amil              founder   \n",
       "1263                 Ziff Davis Inc             relation   \n",
       "\n",
       "             company.sector company.type  demographics.age  \\\n",
       "2535        pharmaceuticals          new                65   \n",
       "904                     oil          new                60   \n",
       "684                  retail          new                 0   \n",
       "1897  healthcare management          new                66   \n",
       "1263             publishing          new                24   \n",
       "\n",
       "     demographics.gender  ...  location.gdp location.region  \\\n",
       "2535                male  ...  0.000000e+00       East Asia   \n",
       "904                 male  ...  0.000000e+00   North America   \n",
       "684                  NaN  ...  1.310000e+12          Europe   \n",
       "1897              female  ...  0.000000e+00   Latin America   \n",
       "1263                male  ...  8.100000e+12   North America   \n",
       "\n",
       "              wealth.type wealth.worth in billions wealth.how.category  \\\n",
       "2535  founder non-finance                      1.0         New Sectors   \n",
       "904     self-made finance                      4.9           Financial   \n",
       "684             inherited                      1.8  Non-Traded Sectors   \n",
       "1897  founder non-finance                      1.9           Financial   \n",
       "1263            inherited                      1.0           Financial   \n",
       "\n",
       "      wealth.how.from emerging    wealth.how.industry  wealth.how.inherited  \\\n",
       "2535                      True     Technology-Medical         not inherited   \n",
       "904                       True  Diversified financial         not inherited   \n",
       "684                       True     Retail, Restaurant                father   \n",
       "1897                      True            Real Estate         not inherited   \n",
       "1263                      True            Hedge funds        3rd generation   \n",
       "\n",
       "     wealth.how.was founder wealth.how.was political  \n",
       "2535                   True                     True  \n",
       "904                    True                     True  \n",
       "684                    True                     True  \n",
       "1897                   True                     True  \n",
       "1263                   True                     True  \n",
       "\n",
       "[5 rows x 22 columns]"
      ]
     },
     "execution_count": 11,
     "metadata": {},
     "output_type": "execute_result"
    }
   ],
   "source": [
    "df.sample(5)"
   ]
  },
  {
   "cell_type": "markdown",
   "metadata": {},
   "source": [
    "3. Mostre um dataframe contendo apenas os dados do Bill Gates."
   ]
  },
  {
   "cell_type": "code",
   "execution_count": 17,
   "metadata": {},
   "outputs": [
    {
     "name": "stdout",
     "output_type": "stream",
     "text": [
      "         name  rank  year  company.founded company.name company.relationship  \\\n",
      "0  Bill Gates     1  1996             1975    Microsoft              founder   \n",
      "1  Bill Gates     1  2001             1975    Microsoft              founder   \n",
      "2  Bill Gates     1  2014             1975    Microsoft              founder   \n",
      "\n",
      "  company.sector company.type  demographics.age demographics.gender  ...  \\\n",
      "0       Software          new                40                male  ...   \n",
      "1       Software          new                45                male  ...   \n",
      "2       Software          new                58                male  ...   \n",
      "\n",
      "   location.gdp location.region          wealth.type wealth.worth in billions  \\\n",
      "0  8.100000e+12   North America  founder non-finance                     18.5   \n",
      "1  1.060000e+13   North America  founder non-finance                     58.7   \n",
      "2  0.000000e+00   North America  founder non-finance                     76.0   \n",
      "\n",
      "  wealth.how.category  wealth.how.from emerging  wealth.how.industry  \\\n",
      "0         New Sectors                      True  Technology-Computer   \n",
      "1         New Sectors                      True  Technology-Computer   \n",
      "2         New Sectors                      True  Technology-Computer   \n",
      "\n",
      "   wealth.how.inherited wealth.how.was founder wealth.how.was political  \n",
      "0         not inherited                   True                     True  \n",
      "1         not inherited                   True                     True  \n",
      "2         not inherited                   True                     True  \n",
      "\n",
      "[3 rows x 22 columns]\n"
     ]
    }
   ],
   "source": [
    "filtro = df.loc[df['name'] == 'Bill Gates']\n",
    "print(filtro)"
   ]
  },
  {
   "cell_type": "markdown",
   "metadata": {},
   "source": [
    "4. Qual é o ano mais recente da base? Crie um dataframe chamado `milionarios_2014` onde você filtra apenas as linhas referentes àquele ano. Mostre as 5 primeiras linhas desse dataframe.\n",
    "\n",
    "Nós usaremos este dataframe daqui para frente."
   ]
  },
  {
   "cell_type": "code",
   "execution_count": 18,
   "metadata": {},
   "outputs": [
    {
     "name": "stdout",
     "output_type": "stream",
     "text": [
      "                  name  rank  year  company.founded  \\\n",
      "2           Bill Gates     1  2014             1975   \n",
      "5     Carlos Slim Helu     2  2014             1990   \n",
      "8       Amancio Ortega     3  2014             1975   \n",
      "11      Warren Buffett     4  2014             1839   \n",
      "14       Larry Ellison     5  2014             1977   \n",
      "...                ...   ...   ...              ...   \n",
      "2609       Wu Chung-Yi  1565  2014             1991   \n",
      "2610          Wu Xiong  1565  2014             1999   \n",
      "2611         Yang Keng  1565  2014                0   \n",
      "2612     Zdenek Bakala  1565  2014             1994   \n",
      "2613       Zhu Wenchen  1565  2014             1999   \n",
      "\n",
      "                         company.name company.relationship  \\\n",
      "2                           Microsoft              founder   \n",
      "5                              Telmex              founder   \n",
      "8                                Zara              founder   \n",
      "11                 Berkshire Hathaway              founder   \n",
      "14                             Oracle              founder   \n",
      "...                               ...                  ...   \n",
      "2609                           Tingyi             investor   \n",
      "2610  Biostime International Holdings                owner   \n",
      "2611                    Blue Ray Corp             chairman   \n",
      "2612                   Patria Finance              founder   \n",
      "2613       Furen Pharmaceutical Group             chairman   \n",
      "\n",
      "          company.sector   company.type  demographics.age demographics.gender  \\\n",
      "2               Software            new                58                male   \n",
      "5         Communications  privatization                74                male   \n",
      "8                Fashion            new                77                male   \n",
      "11               Finance        aquired                83                male   \n",
      "14              software            new                69                male   \n",
      "...                  ...            ...               ...                 ...   \n",
      "2609  beverages and food            new                55                male   \n",
      "2610      infant formula            new                 0                male   \n",
      "2611         real estate            new                53                male   \n",
      "2612                coal            new                53                male   \n",
      "2613     pharmaceuticals            new                48                male   \n",
      "\n",
      "      ... location.gdp location.region               wealth.type  \\\n",
      "2     ...          0.0   North America       founder non-finance   \n",
      "5     ...          0.0   Latin America  privatized and resources   \n",
      "8     ...          0.0          Europe       founder non-finance   \n",
      "11    ...          0.0   North America       founder non-finance   \n",
      "14    ...          0.0   North America       founder non-finance   \n",
      "...   ...          ...             ...                       ...   \n",
      "2609  ...          0.0       East Asia                 executive   \n",
      "2610  ...          0.0       East Asia                 executive   \n",
      "2611  ...          0.0       East Asia         self-made finance   \n",
      "2612  ...          0.0          Europe  privatized and resources   \n",
      "2613  ...          0.0       East Asia                 executive   \n",
      "\n",
      "     wealth.worth in billions wealth.how.category  wealth.how.from emerging  \\\n",
      "2                        76.0         New Sectors                      True   \n",
      "5                        72.0  Non-Traded Sectors                      True   \n",
      "8                        64.0  Non-Traded Sectors                      True   \n",
      "11                       58.2      Traded Sectors                      True   \n",
      "14                       48.0         New Sectors                      True   \n",
      "...                       ...                 ...                       ...   \n",
      "2609                      1.0      Traded Sectors                      True   \n",
      "2610                      1.0      Traded Sectors                      True   \n",
      "2611                      1.0           Financial                      True   \n",
      "2612                      1.0    Resource Related                      True   \n",
      "2613                      1.0         New Sectors                      True   \n",
      "\n",
      "          wealth.how.industry  wealth.how.inherited wealth.how.was founder  \\\n",
      "2         Technology-Computer         not inherited                   True   \n",
      "5                       Media         not inherited                   True   \n",
      "8          Retail, Restaurant         not inherited                   True   \n",
      "11                   Consumer         not inherited                   True   \n",
      "14        Technology-Computer         not inherited                   True   \n",
      "...                       ...                   ...                    ...   \n",
      "2609  Non-consumer industrial         not inherited                   True   \n",
      "2610                 Consumer         not inherited                   True   \n",
      "2611              Real Estate         not inherited                   True   \n",
      "2612        Mining and metals         not inherited                   True   \n",
      "2613       Technology-Medical         not inherited                   True   \n",
      "\n",
      "     wealth.how.was political  \n",
      "2                        True  \n",
      "5                        True  \n",
      "8                        True  \n",
      "11                       True  \n",
      "14                       True  \n",
      "...                       ...  \n",
      "2609                     True  \n",
      "2610                     True  \n",
      "2611                     True  \n",
      "2612                     True  \n",
      "2613                     True  \n",
      "\n",
      "[1653 rows x 22 columns]\n"
     ]
    }
   ],
   "source": [
    "milionarios_2014 = df.loc[df['year']==2014]\n",
    "print(milionarios_2014)"
   ]
  },
  {
   "cell_type": "code",
   "execution_count": 19,
   "metadata": {},
   "outputs": [
    {
     "name": "stdout",
     "output_type": "stream",
     "text": [
      "                name  rank  year  company.founded        company.name  \\\n",
      "2         Bill Gates     1  2014             1975           Microsoft   \n",
      "5   Carlos Slim Helu     2  2014             1990              Telmex   \n",
      "8     Amancio Ortega     3  2014             1975                Zara   \n",
      "11    Warren Buffett     4  2014             1839  Berkshire Hathaway   \n",
      "14     Larry Ellison     5  2014             1977              Oracle   \n",
      "\n",
      "   company.relationship   company.sector   company.type  demographics.age  \\\n",
      "2               founder         Software            new                58   \n",
      "5               founder   Communications  privatization                74   \n",
      "8               founder          Fashion            new                77   \n",
      "11              founder          Finance        aquired                83   \n",
      "14              founder         software            new                69   \n",
      "\n",
      "   demographics.gender  ... location.gdp location.region  \\\n",
      "2                 male  ...          0.0   North America   \n",
      "5                 male  ...          0.0   Latin America   \n",
      "8                 male  ...          0.0          Europe   \n",
      "11                male  ...          0.0   North America   \n",
      "14                male  ...          0.0   North America   \n",
      "\n",
      "                 wealth.type wealth.worth in billions wealth.how.category  \\\n",
      "2        founder non-finance                     76.0         New Sectors   \n",
      "5   privatized and resources                     72.0  Non-Traded Sectors   \n",
      "8        founder non-finance                     64.0  Non-Traded Sectors   \n",
      "11       founder non-finance                     58.2      Traded Sectors   \n",
      "14       founder non-finance                     48.0         New Sectors   \n",
      "\n",
      "    wealth.how.from emerging  wealth.how.industry  wealth.how.inherited  \\\n",
      "2                       True  Technology-Computer         not inherited   \n",
      "5                       True                Media         not inherited   \n",
      "8                       True   Retail, Restaurant         not inherited   \n",
      "11                      True             Consumer         not inherited   \n",
      "14                      True  Technology-Computer         not inherited   \n",
      "\n",
      "   wealth.how.was founder wealth.how.was political  \n",
      "2                    True                     True  \n",
      "5                    True                     True  \n",
      "8                    True                     True  \n",
      "11                   True                     True  \n",
      "14                   True                     True  \n",
      "\n",
      "[5 rows x 22 columns]\n"
     ]
    }
   ],
   "source": [
    "print(milionarios_2014.head(5))"
   ]
  },
  {
   "cell_type": "markdown",
   "metadata": {},
   "source": [
    "5. A coluna `location.citizenship` identifica a cidadania do milionário. Liste os 5 países do mundo com mais milionários e o número de milionários em cada um desses países."
   ]
  },
  {
   "cell_type": "code",
   "execution_count": 10,
   "metadata": {},
   "outputs": [],
   "source": [
    "#Resposta\n"
   ]
  },
  {
   "cell_type": "markdown",
   "metadata": {},
   "source": [
    "## Covid\n",
    "\n",
    "Você já deve ter visto o [dashboard](https://coronavirus.jhu.edu/map.html) da universidade de John Hopkins mapeando o coronavirus. Os dados que eles utilizam estão [aqui](https://github.com/CSSEGISandData/COVID-19). Vamos pegar uma das bases de dados que eles utilizam. Esta:"
   ]
  },
  {
   "cell_type": "code",
   "execution_count": 11,
   "metadata": {},
   "outputs": [],
   "source": [
    "link_covid = 'https://raw.githubusercontent.com/CSSEGISandData/COVID-19/master/csse_covid_19_data/csse_covid_19_time_series/time_series_covid19_deaths_global.csv'"
   ]
  },
  {
   "cell_type": "markdown",
   "metadata": {},
   "source": [
    "1. Importe a base de dados como um dataframe chamado `covid`"
   ]
  },
  {
   "cell_type": "code",
   "execution_count": 12,
   "metadata": {},
   "outputs": [],
   "source": [
    "#Resposta\n"
   ]
  },
  {
   "cell_type": "markdown",
   "metadata": {},
   "source": [
    "2. Mostre os primeiros 5 elementos desse dataframe"
   ]
  },
  {
   "cell_type": "code",
   "execution_count": 13,
   "metadata": {},
   "outputs": [],
   "source": [
    "#Resposta\n"
   ]
  },
  {
   "cell_type": "markdown",
   "metadata": {},
   "source": [
    "3. Quantos casos o Brasil tinha no dia 7 de Setembro de 2020?\n",
    "\n",
    "Note que a base de dados é americana. Assim, Brasil se escreve \"Brazil\" e 7 de Setembro se escreve \"9/7/20\""
   ]
  },
  {
   "cell_type": "code",
   "execution_count": 14,
   "metadata": {},
   "outputs": [],
   "source": [
    "#Resposta\n"
   ]
  },
  {
   "cell_type": "markdown",
   "metadata": {},
   "source": [
    "## Spotify\n",
    "\n",
    "O link a seguir tem uma base da Spotify com dados sobre músicas disponíveis nesse aplicativo.\n",
    "\n",
    "1. Importe a base como um dataframe chamado `Spotify`. Mostre as 5 primeiras linhas."
   ]
  },
  {
   "cell_type": "code",
   "execution_count": 15,
   "metadata": {},
   "outputs": [],
   "source": [
    "url = 'https://corgis-edu.github.io/corgis/datasets/csv/music/music.csv'"
   ]
  },
  {
   "cell_type": "code",
   "execution_count": 16,
   "metadata": {},
   "outputs": [],
   "source": [
    "#Resposta\n"
   ]
  },
  {
   "cell_type": "code",
   "execution_count": 17,
   "metadata": {},
   "outputs": [],
   "source": [
    "#Resposta\n"
   ]
  },
  {
   "cell_type": "markdown",
   "metadata": {},
   "source": [
    "2. Essa base tem quantas linhas e quantas colunas?"
   ]
  },
  {
   "cell_type": "code",
   "execution_count": 18,
   "metadata": {},
   "outputs": [],
   "source": [
    "#Resposta\n"
   ]
  },
  {
   "cell_type": "markdown",
   "metadata": {},
   "source": [
    "3. Quais são as colunas dessa base?"
   ]
  },
  {
   "cell_type": "code",
   "execution_count": 19,
   "metadata": {},
   "outputs": [],
   "source": [
    "#Resposta\n"
   ]
  },
  {
   "cell_type": "markdown",
   "metadata": {},
   "source": [
    "4. Cada linha corresponde a uma música e o identificador dessa música é a variável `song.id`. Transforme essa variável em um índice da base spotify."
   ]
  },
  {
   "cell_type": "code",
   "execution_count": 20,
   "metadata": {},
   "outputs": [],
   "source": [
    "#Resposta\n"
   ]
  },
  {
   "cell_type": "markdown",
   "metadata": {},
   "source": [
    "5. Crie um dataframe contendo as seguintes colunas:\n",
    "    * O nome do artista (`artist.name`)\n",
    "    * O ano da música (`song.year`)\n",
    "\n",
    "Chame esse dataframe de `producao_do_artista`.\n"
   ]
  },
  {
   "cell_type": "code",
   "execution_count": 21,
   "metadata": {},
   "outputs": [],
   "source": [
    "#Resposta\n"
   ]
  },
  {
   "cell_type": "markdown",
   "metadata": {},
   "source": [
    "6. Quando o ano da autoria da música é desconhecido, ele aparece como zero. Crie um dataframe que contenha apenas as linhas onde o ano da música não é zero. Chame esse dataframe de `producao_do_artista`."
   ]
  },
  {
   "cell_type": "code",
   "execution_count": 22,
   "metadata": {},
   "outputs": [],
   "source": [
    "#Resposta\n"
   ]
  },
  {
   "cell_type": "markdown",
   "metadata": {},
   "source": [
    "7. Use o comando `.groupby` e `.count()` para contar quantas músicas foram compostas em cada ano. Salve isso no dataframe `musicas_por_ano`."
   ]
  },
  {
   "cell_type": "code",
   "execution_count": 23,
   "metadata": {},
   "outputs": [],
   "source": [
    "#Resposta\n"
   ]
  },
  {
   "cell_type": "markdown",
   "metadata": {},
   "source": [
    "8. Mude o nome da coluna de `musicas_por_ano` de `artist.name` para `numero_de_musicas`"
   ]
  },
  {
   "cell_type": "code",
   "execution_count": 24,
   "metadata": {},
   "outputs": [],
   "source": [
    "#Resposta\n"
   ]
  },
  {
   "cell_type": "markdown",
   "metadata": {},
   "source": [
    "Só de brincadeira, rode o comando abaixo e veja o que aparece:"
   ]
  },
  {
   "cell_type": "code",
   "execution_count": 25,
   "metadata": {},
   "outputs": [],
   "source": [
    "musicas_por_ano.plot(figsize=(20,6),title='músicas por ano');"
   ]
  }
 ],
 "metadata": {
  "kernelspec": {
   "display_name": "Python 3 (ipykernel)",
   "language": "python",
   "name": "python3"
  },
  "language_info": {
   "codemirror_mode": {
    "name": "ipython",
    "version": 3
   },
   "file_extension": ".py",
   "mimetype": "text/x-python",
   "name": "python",
   "nbconvert_exporter": "python",
   "pygments_lexer": "ipython3",
   "version": "3.9.12"
  }
 },
 "nbformat": 4,
 "nbformat_minor": 4
}
