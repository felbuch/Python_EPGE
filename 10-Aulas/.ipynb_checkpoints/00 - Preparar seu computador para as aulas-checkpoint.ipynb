{
 "cells": [
  {
   "cell_type": "markdown",
   "metadata": {},
   "source": [
    "## Como preparar seu computador para o curso\n",
    "\n",
    "Neste curso, vamos utilizar muito Python.  \n",
    "O local onde vamos escrever e rodar o nosso código se chama Jupyter Notebook.  \n",
    "Vamos baixar os dois.  \n",
    "\n",
    "A forma mais fácil de instalar o Python e o Jupyter Notebook no seu computador é instalando o Anaconda.  \n",
    "\n",
    "Ao instalar o Anaconda, você baixa o Python, o Jupyter Notebook, e mais vários pacotes que você vai utilizar ao longo do seu curso na FGV (não só essa disciplina agora).\n",
    "\n",
    "Para instalar o Anaconda, basta seguir as instruções abaixo.  \n",
    "Identifique o seu sistema operacional (Windows, MacOS,...), clique no link, e siga as instruções.\n",
    "\n",
    "* [Instale o Anaconda no Windows](https://docs.anaconda.com/anaconda/install/windows/)\n",
    "* [Instale o Anaconda no Apple (mac-OS)](https://docs.anaconda.com/anaconda/install/mac-os/)\n",
    "\n",
    "Se você preferir, existem vários vídeos no YouTube ensinando como instalar o Anaconda (como [este para Windows](https://www.youtube.com/watch?v=BP4D-yaxw6E) ou [este para mac OS](https://www.youtube.com/watch?v=V6ZAv7hBH6Y)). Basta encontrar um que você goste, e seguir as instruções!\n",
    "\n",
    "Quando você tiver instalado o Anaconda, descubra como abrir o Jupyter Notebook.  \n",
    "Nós vamos utilizar ele _muito_ (tipo: MUITO) durante as próximas aulas.\n",
    "\n",
    "Só uma dica:\n",
    "\n",
    "Instalar o Anaconda pode demorar um bocado! É muita coisa para o teu computador instalar e, por isso, ele demora. Não deixe para fazer isso logo antes da aula. Faça assim que puder. Deixe o Anaconda instalando e vá fazer outra coisa que não precise do computador..."
   ]
  },
  {
   "cell_type": "markdown",
   "metadata": {},
   "source": [
    "## Eu posso fazer o curso sem instalar nada no meu computador?\n",
    "\n",
    "Pode! No [Google Colab](https://colab.research.google.com/), você pode rodar um Jupyter Notebook sem ter nada instalado no seu computador. Basta ter uma conta na Google (um e-mail do gmail, por exemplo).  \n",
    "\n",
    "Tudo o que veremos no curso -- inclusive provas e trabalhos -- podem ser rodados no Google Colab.\n",
    "\n",
    "Assim como o Anaconda, o Google Colab já vem com vários pacotes pré-instalados. Porém, caso você queira instalar algum outro pacote, terá que instalá-lo novamente cada vez que quiser utilizá-lo. Isso porque você está"
   ]
  },
  {
   "cell_type": "code",
   "execution_count": null,
   "metadata": {},
   "outputs": [],
   "source": []
  }
 ],
 "metadata": {
  "kernelspec": {
   "display_name": "Python 3 (ipykernel)",
   "language": "python",
   "name": "python3"
  },
  "language_info": {
   "codemirror_mode": {
    "name": "ipython",
    "version": 3
   },
   "file_extension": ".py",
   "mimetype": "text/x-python",
   "name": "python",
   "nbconvert_exporter": "python",
   "pygments_lexer": "ipython3",
   "version": "3.9.12"
  }
 },
 "nbformat": 4,
 "nbformat_minor": 4
}
