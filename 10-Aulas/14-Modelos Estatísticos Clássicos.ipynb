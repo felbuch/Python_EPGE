{
 "cells": [
  {
   "cell_type": "markdown",
   "id": "407078b4-195e-4d11-b14e-c9194bec9c30",
   "metadata": {},
   "source": [
    "# Modelos Estatísticos Clássicos\n",
    "\n",
    "* [x] Análise Exploratória de Dados\n",
    "* [x] Testes de hipótese\n",
    "* [x] Regressão Linear\n",
    "* [x] Regressão Logística\n",
    "* [x] Modelos Lineares Generalizados\n",
    "    * [x] Regressão Logística (de novo, mas de um jeito novo)\n",
    "    * [x] Regressão de Poisson\n",
    "* [x] Séries Temporais:\n",
    "    * [x] ACF e PACF\n",
    "    * [x] Teste de Raiz Unitária \n",
    "    * [x] ARIMA\n",
    "    * [x] Auto-Arima\n",
    "* [x] Bootstrapping\n",
    "* [x] Ajuste de uma curva genérica a um conjunto de pontos\n",
    "* [x] Simulações de Monte Carlo"
   ]
  },
  {
   "cell_type": "markdown",
   "id": "264bf88b-a368-4c05-8c42-9b770bdadbca",
   "metadata": {},
   "source": [
    "# Importa pacotes de uso geral"
   ]
  },
  {
   "cell_type": "code",
   "execution_count": 146,
   "id": "2e23c564-8303-4940-abb9-069453dd0372",
   "metadata": {},
   "outputs": [],
   "source": [
    "import pandas as pd\n",
    "import numpy as np\n",
    "import seaborn as sns\n",
    "import matplotlib.pyplot as plt\n",
    "\n",
    "import warnings\n",
    "warnings.simplefilter(action='ignore') #, category=FutureWarning)"
   ]
  },
  {
   "cell_type": "markdown",
   "id": "092c795a-2473-437f-a1e8-cf369133bf2a",
   "metadata": {},
   "source": [
    "# Importa dados"
   ]
  },
  {
   "cell_type": "code",
   "execution_count": 3,
   "id": "19d13c16-2ec7-4d94-891e-2605ef51cfee",
   "metadata": {},
   "outputs": [
    {
     "data": {
      "text/html": [
       "<div>\n",
       "<style scoped>\n",
       "    .dataframe tbody tr th:only-of-type {\n",
       "        vertical-align: middle;\n",
       "    }\n",
       "\n",
       "    .dataframe tbody tr th {\n",
       "        vertical-align: top;\n",
       "    }\n",
       "\n",
       "    .dataframe thead th {\n",
       "        text-align: right;\n",
       "    }\n",
       "</style>\n",
       "<table border=\"1\" class=\"dataframe\">\n",
       "  <thead>\n",
       "    <tr style=\"text-align: right;\">\n",
       "      <th></th>\n",
       "      <th>Mês</th>\n",
       "      <th>Preço</th>\n",
       "      <th>Área</th>\n",
       "      <th>Quartos</th>\n",
       "      <th>Idade</th>\n",
       "      <th>Localização</th>\n",
       "      <th>Corretora</th>\n",
       "    </tr>\n",
       "  </thead>\n",
       "  <tbody>\n",
       "    <tr>\n",
       "      <th>0</th>\n",
       "      <td>Março</td>\n",
       "      <td>92500</td>\n",
       "      <td>1605</td>\n",
       "      <td>3</td>\n",
       "      <td>6</td>\n",
       "      <td>Dallas</td>\n",
       "      <td>Outra corretora</td>\n",
       "    </tr>\n",
       "    <tr>\n",
       "      <th>1</th>\n",
       "      <td>Março</td>\n",
       "      <td>143800</td>\n",
       "      <td>2741</td>\n",
       "      <td>4</td>\n",
       "      <td>5</td>\n",
       "      <td>Dallas</td>\n",
       "      <td>Outra corretora</td>\n",
       "    </tr>\n",
       "    <tr>\n",
       "      <th>2</th>\n",
       "      <td>Março</td>\n",
       "      <td>130500</td>\n",
       "      <td>2393</td>\n",
       "      <td>3</td>\n",
       "      <td>7</td>\n",
       "      <td>Dallas</td>\n",
       "      <td>Outra corretora</td>\n",
       "    </tr>\n",
       "    <tr>\n",
       "      <th>3</th>\n",
       "      <td>Março</td>\n",
       "      <td>123100</td>\n",
       "      <td>2209</td>\n",
       "      <td>4</td>\n",
       "      <td>8</td>\n",
       "      <td>Dallas</td>\n",
       "      <td>Outra corretora</td>\n",
       "    </tr>\n",
       "    <tr>\n",
       "      <th>4</th>\n",
       "      <td>Março</td>\n",
       "      <td>98800</td>\n",
       "      <td>1544</td>\n",
       "      <td>3</td>\n",
       "      <td>7</td>\n",
       "      <td>Dallas</td>\n",
       "      <td>Outra corretora</td>\n",
       "    </tr>\n",
       "  </tbody>\n",
       "</table>\n",
       "</div>"
      ],
      "text/plain": [
       "     Mês   Preço  Área  Quartos  Idade Localização        Corretora\n",
       "0  Março   92500  1605        3      6      Dallas  Outra corretora\n",
       "1  Março  143800  2741        4      5      Dallas  Outra corretora\n",
       "2  Março  130500  2393        3      7      Dallas  Outra corretora\n",
       "3  Março  123100  2209        4      8      Dallas  Outra corretora\n",
       "4  Março   98800  1544        3      7      Dallas  Outra corretora"
      ]
     },
     "execution_count": 3,
     "metadata": {},
     "output_type": "execute_result"
    }
   ],
   "source": [
    "df = pd.read_excel('dados/imoveis.xls')\n",
    "df.head()"
   ]
  },
  {
   "cell_type": "markdown",
   "id": "ceaab6cc-f0b9-4ed6-9089-a8c1556f8533",
   "metadata": {},
   "source": [
    "# O problema de negócio\n",
    "\n",
    "A corretora Easton está sendo acusada de praticar _dumping_!  \n",
    "O que dizem os dados?"
   ]
  },
  {
   "cell_type": "code",
   "execution_count": 4,
   "id": "1e7fc233-d807-45f6-9b0c-e1ce463231dc",
   "metadata": {},
   "outputs": [
    {
     "data": {
      "text/html": [
       "<div>\n",
       "<style scoped>\n",
       "    .dataframe tbody tr th:only-of-type {\n",
       "        vertical-align: middle;\n",
       "    }\n",
       "\n",
       "    .dataframe tbody tr th {\n",
       "        vertical-align: top;\n",
       "    }\n",
       "\n",
       "    .dataframe thead th {\n",
       "        text-align: right;\n",
       "    }\n",
       "</style>\n",
       "<table border=\"1\" class=\"dataframe\">\n",
       "  <thead>\n",
       "    <tr style=\"text-align: right;\">\n",
       "      <th></th>\n",
       "      <th>Preço</th>\n",
       "    </tr>\n",
       "    <tr>\n",
       "      <th>Corretora</th>\n",
       "      <th></th>\n",
       "    </tr>\n",
       "  </thead>\n",
       "  <tbody>\n",
       "    <tr>\n",
       "      <th>Easton</th>\n",
       "      <td>87112.0</td>\n",
       "    </tr>\n",
       "    <tr>\n",
       "      <th>Outra corretora</th>\n",
       "      <td>94118.0</td>\n",
       "    </tr>\n",
       "  </tbody>\n",
       "</table>\n",
       "</div>"
      ],
      "text/plain": [
       "                   Preço\n",
       "Corretora               \n",
       "Easton           87112.0\n",
       "Outra corretora  94118.0"
      ]
     },
     "execution_count": 4,
     "metadata": {},
     "output_type": "execute_result"
    }
   ],
   "source": [
    "df[['Corretora','Preço']].groupby('Corretora').mean().round()"
   ]
  },
  {
   "cell_type": "markdown",
   "id": "e2e4973d-abba-454b-9c16-b77c7da4197f",
   "metadata": {},
   "source": [
    "# Testes de hipótese"
   ]
  },
  {
   "cell_type": "code",
   "execution_count": 5,
   "id": "a3cbc816-35af-481d-b44f-e94a7c30348c",
   "metadata": {},
   "outputs": [],
   "source": [
    "precos_easton = df.loc[df.Corretora == 'Easton', 'Preço']\n",
    "precos_outras = df.loc[df.Corretora != 'Easton', 'Preço']"
   ]
  },
  {
   "cell_type": "code",
   "execution_count": 6,
   "id": "4844638a-18e8-4f8c-bfa6-8a5008e985b5",
   "metadata": {},
   "outputs": [],
   "source": [
    "from scipy.stats import shapiro, levene, ttest_ind, median_test"
   ]
  },
  {
   "cell_type": "code",
   "execution_count": 7,
   "id": "6362e7e0-5157-417e-a3a4-11e00ae42566",
   "metadata": {},
   "outputs": [
    {
     "name": "stdout",
     "output_type": "stream",
     "text": [
      "ShapiroResult(statistic=0.9495605230331421, pvalue=0.035451386123895645)\n",
      "ShapiroResult(statistic=0.989581286907196, pvalue=0.002065914450213313)\n"
     ]
    }
   ],
   "source": [
    "print(shapiro(precos_easton))\n",
    "print(shapiro(precos_outras))"
   ]
  },
  {
   "cell_type": "code",
   "execution_count": 8,
   "id": "aff5db92-91f6-48d0-9709-674334b4d18a",
   "metadata": {},
   "outputs": [
    {
     "name": "stdout",
     "output_type": "stream",
     "text": [
      "0.0032194401914435755\n"
     ]
    }
   ],
   "source": [
    "_, p, _, _ = median_test(precos_easton, precos_outras)\n",
    "print(p)"
   ]
  },
  {
   "cell_type": "markdown",
   "id": "bf9a761c-2a7b-488f-932f-f78c2d414a24",
   "metadata": {},
   "source": [
    "E se tivéssemos preços normais e quiséssemos fazer um teste de comparação de médias?"
   ]
  },
  {
   "cell_type": "code",
   "execution_count": 9,
   "id": "7b85de07-98c8-4427-9e81-653bd62692ab",
   "metadata": {},
   "outputs": [
    {
     "data": {
      "text/plain": [
       "LeveneResult(statistic=7.137938346307354, pvalue=0.007785507943627083)"
      ]
     },
     "execution_count": 9,
     "metadata": {},
     "output_type": "execute_result"
    }
   ],
   "source": [
    "#Teste de igualdade entre variâncias populacionais\n",
    "levene(precos_easton, precos_outras)"
   ]
  },
  {
   "cell_type": "code",
   "execution_count": 10,
   "id": "ef090237-6595-4d81-8c71-a99f5610b31b",
   "metadata": {},
   "outputs": [
    {
     "data": {
      "text/plain": [
       "Ttest_indResult(statistic=-3.0791112401030927, pvalue=0.0015278028735895924)"
      ]
     },
     "execution_count": 10,
     "metadata": {},
     "output_type": "execute_result"
    }
   ],
   "source": [
    "#Teste de hipótese de comparação de médias de amostras independentes\n",
    "ttest_ind(precos_easton, precos_outras, alternative = 'less', equal_var=False)"
   ]
  },
  {
   "cell_type": "markdown",
   "id": "84314bf8-4913-48da-b2d8-dd1b37233eb9",
   "metadata": {},
   "source": [
    "# Preparação dos dados"
   ]
  },
  {
   "cell_type": "code",
   "execution_count": 11,
   "id": "6636399a-80c0-4c66-b4a7-712be24606fd",
   "metadata": {},
   "outputs": [
    {
     "data": {
      "text/plain": [
       "Mês            object\n",
       "Preço           int64\n",
       "Área            int64\n",
       "Quartos         int64\n",
       "Idade           int64\n",
       "Localização    object\n",
       "Corretora      object\n",
       "dtype: object"
      ]
     },
     "execution_count": 11,
     "metadata": {},
     "output_type": "execute_result"
    }
   ],
   "source": [
    "df.dtypes"
   ]
  },
  {
   "cell_type": "code",
   "execution_count": 12,
   "id": "dceda921-6546-451d-a666-03aa608e51cf",
   "metadata": {},
   "outputs": [
    {
     "data": {
      "text/html": [
       "<div>\n",
       "<style scoped>\n",
       "    .dataframe tbody tr th:only-of-type {\n",
       "        vertical-align: middle;\n",
       "    }\n",
       "\n",
       "    .dataframe tbody tr th {\n",
       "        vertical-align: top;\n",
       "    }\n",
       "\n",
       "    .dataframe thead th {\n",
       "        text-align: right;\n",
       "    }\n",
       "</style>\n",
       "<table border=\"1\" class=\"dataframe\">\n",
       "  <thead>\n",
       "    <tr style=\"text-align: right;\">\n",
       "      <th></th>\n",
       "      <th>Preço</th>\n",
       "      <th>Área</th>\n",
       "      <th>Quartos</th>\n",
       "      <th>Idade</th>\n",
       "      <th>Mês_Abril</th>\n",
       "      <th>Mês_Junho</th>\n",
       "      <th>Mês_Maio</th>\n",
       "      <th>Mês_Março</th>\n",
       "      <th>Localização_Dallas</th>\n",
       "      <th>Localização_Demais municípios da Região Metropolitana</th>\n",
       "      <th>Localização_Fort Worth</th>\n",
       "      <th>Corretora_Easton</th>\n",
       "      <th>Corretora_Outra corretora</th>\n",
       "    </tr>\n",
       "  </thead>\n",
       "  <tbody>\n",
       "    <tr>\n",
       "      <th>0</th>\n",
       "      <td>92500</td>\n",
       "      <td>1605</td>\n",
       "      <td>3</td>\n",
       "      <td>6</td>\n",
       "      <td>0</td>\n",
       "      <td>0</td>\n",
       "      <td>0</td>\n",
       "      <td>1</td>\n",
       "      <td>1</td>\n",
       "      <td>0</td>\n",
       "      <td>0</td>\n",
       "      <td>0</td>\n",
       "      <td>1</td>\n",
       "    </tr>\n",
       "    <tr>\n",
       "      <th>1</th>\n",
       "      <td>143800</td>\n",
       "      <td>2741</td>\n",
       "      <td>4</td>\n",
       "      <td>5</td>\n",
       "      <td>0</td>\n",
       "      <td>0</td>\n",
       "      <td>0</td>\n",
       "      <td>1</td>\n",
       "      <td>1</td>\n",
       "      <td>0</td>\n",
       "      <td>0</td>\n",
       "      <td>0</td>\n",
       "      <td>1</td>\n",
       "    </tr>\n",
       "    <tr>\n",
       "      <th>2</th>\n",
       "      <td>130500</td>\n",
       "      <td>2393</td>\n",
       "      <td>3</td>\n",
       "      <td>7</td>\n",
       "      <td>0</td>\n",
       "      <td>0</td>\n",
       "      <td>0</td>\n",
       "      <td>1</td>\n",
       "      <td>1</td>\n",
       "      <td>0</td>\n",
       "      <td>0</td>\n",
       "      <td>0</td>\n",
       "      <td>1</td>\n",
       "    </tr>\n",
       "    <tr>\n",
       "      <th>3</th>\n",
       "      <td>123100</td>\n",
       "      <td>2209</td>\n",
       "      <td>4</td>\n",
       "      <td>8</td>\n",
       "      <td>0</td>\n",
       "      <td>0</td>\n",
       "      <td>0</td>\n",
       "      <td>1</td>\n",
       "      <td>1</td>\n",
       "      <td>0</td>\n",
       "      <td>0</td>\n",
       "      <td>0</td>\n",
       "      <td>1</td>\n",
       "    </tr>\n",
       "    <tr>\n",
       "      <th>4</th>\n",
       "      <td>98800</td>\n",
       "      <td>1544</td>\n",
       "      <td>3</td>\n",
       "      <td>7</td>\n",
       "      <td>0</td>\n",
       "      <td>0</td>\n",
       "      <td>0</td>\n",
       "      <td>1</td>\n",
       "      <td>1</td>\n",
       "      <td>0</td>\n",
       "      <td>0</td>\n",
       "      <td>0</td>\n",
       "      <td>1</td>\n",
       "    </tr>\n",
       "  </tbody>\n",
       "</table>\n",
       "</div>"
      ],
      "text/plain": [
       "    Preço  Área  Quartos  Idade  Mês_Abril  Mês_Junho  Mês_Maio  Mês_Março  \\\n",
       "0   92500  1605        3      6          0          0         0          1   \n",
       "1  143800  2741        4      5          0          0         0          1   \n",
       "2  130500  2393        3      7          0          0         0          1   \n",
       "3  123100  2209        4      8          0          0         0          1   \n",
       "4   98800  1544        3      7          0          0         0          1   \n",
       "\n",
       "   Localização_Dallas  Localização_Demais municípios da Região Metropolitana  \\\n",
       "0                   1                                                  0       \n",
       "1                   1                                                  0       \n",
       "2                   1                                                  0       \n",
       "3                   1                                                  0       \n",
       "4                   1                                                  0       \n",
       "\n",
       "   Localização_Fort Worth  Corretora_Easton  Corretora_Outra corretora  \n",
       "0                       0                 0                          1  \n",
       "1                       0                 0                          1  \n",
       "2                       0                 0                          1  \n",
       "3                       0                 0                          1  \n",
       "4                       0                 0                          1  "
      ]
     },
     "execution_count": 12,
     "metadata": {},
     "output_type": "execute_result"
    }
   ],
   "source": [
    "df = pd.get_dummies(df, dtype='int64')\n",
    "df.head()"
   ]
  },
  {
   "cell_type": "code",
   "execution_count": 13,
   "id": "df28f575-c107-4fc1-840e-6e4d44c7d686",
   "metadata": {},
   "outputs": [
    {
     "data": {
      "text/plain": [
       "Preço                                                    int64\n",
       "Área                                                     int64\n",
       "Quartos                                                  int64\n",
       "Idade                                                    int64\n",
       "Mês_Abril                                                int64\n",
       "Mês_Junho                                                int64\n",
       "Mês_Maio                                                 int64\n",
       "Mês_Março                                                int64\n",
       "Localização_Dallas                                       int64\n",
       "Localização_Demais municípios da Região Metropolitana    int64\n",
       "Localização_Fort Worth                                   int64\n",
       "Corretora_Easton                                         int64\n",
       "Corretora_Outra corretora                                int64\n",
       "dtype: object"
      ]
     },
     "execution_count": 13,
     "metadata": {},
     "output_type": "execute_result"
    }
   ],
   "source": [
    "df.dtypes"
   ]
  },
  {
   "cell_type": "code",
   "execution_count": 14,
   "id": "ea0cd296-c215-497f-a847-8f0dddac644d",
   "metadata": {},
   "outputs": [],
   "source": [
    "df = df.drop(columns=['Mês_Março','Localização_Demais municípios da Região Metropolitana','Corretora_Outra corretora'])"
   ]
  },
  {
   "cell_type": "code",
   "execution_count": 15,
   "id": "e70dd2e7-97f8-4637-8bf6-ff45a4bc3622",
   "metadata": {},
   "outputs": [
    {
     "data": {
      "text/plain": [
       "Preço                     int64\n",
       "Área                      int64\n",
       "Quartos                   int64\n",
       "Idade                     int64\n",
       "Mês_Abril                 int64\n",
       "Mês_Junho                 int64\n",
       "Mês_Maio                  int64\n",
       "Localização_Dallas        int64\n",
       "Localização_Fort Worth    int64\n",
       "Corretora_Easton          int64\n",
       "dtype: object"
      ]
     },
     "execution_count": 15,
     "metadata": {},
     "output_type": "execute_result"
    }
   ],
   "source": [
    "df.dtypes"
   ]
  },
  {
   "cell_type": "markdown",
   "id": "96e1d155-175b-47f7-ba7c-4eecf2cb01e6",
   "metadata": {},
   "source": [
    "# EDA"
   ]
  },
  {
   "cell_type": "code",
   "execution_count": 16,
   "id": "e5118665-d80e-46d0-abab-0b4f5b6a866c",
   "metadata": {},
   "outputs": [],
   "source": [
    "#!pip install pandas_profiling"
   ]
  },
  {
   "cell_type": "code",
   "execution_count": 17,
   "id": "5fd7e76b-cc30-40b9-aa6f-3553fb2c3192",
   "metadata": {},
   "outputs": [
    {
     "ename": "ModuleNotFoundError",
     "evalue": "No module named 'pandas_profiling'",
     "output_type": "error",
     "traceback": [
      "\u001b[1;31m---------------------------------------------------------------------------\u001b[0m",
      "\u001b[1;31mModuleNotFoundError\u001b[0m                       Traceback (most recent call last)",
      "\u001b[1;32m~\\AppData\\Local\\Temp\\ipykernel_21720\\2274191625.py\u001b[0m in \u001b[0;36m<module>\u001b[1;34m\u001b[0m\n\u001b[1;32m----> 1\u001b[1;33m \u001b[1;32mfrom\u001b[0m \u001b[0mpandas_profiling\u001b[0m \u001b[1;32mimport\u001b[0m \u001b[0mProfileReport\u001b[0m\u001b[1;33m\u001b[0m\u001b[1;33m\u001b[0m\u001b[0m\n\u001b[0m",
      "\u001b[1;31mModuleNotFoundError\u001b[0m: No module named 'pandas_profiling'"
     ]
    }
   ],
   "source": [
    "from pandas_profiling import ProfileReport"
   ]
  },
  {
   "cell_type": "code",
   "execution_count": null,
   "id": "e207daf5-48cf-4731-8235-8ade56081aa9",
   "metadata": {},
   "outputs": [],
   "source": [
    "#ProfileReport(df)"
   ]
  },
  {
   "cell_type": "markdown",
   "id": "58fb9255-24af-4f00-b1a0-598eca23aa10",
   "metadata": {},
   "source": [
    "Alternativas ao pandas_profilling:\n",
    "\n",
    "* [SweetViz](https://pypi.org/project/sweetviz/)\n",
    "* [AutoViz](https://pypi.org/project/autoviz/)\n",
    "* [DTale](https://pypi.org/project/dtale/)\n",
    "* [Pandas GUI](https://pypi.org/project/pandasgui/)\n",
    "* [BitRook](https://www.bitrook.com/)\n",
    "* [Lux](https://lux-api.readthedocs.io/en/latest/source/getting_started/overview.html)"
   ]
  },
  {
   "cell_type": "markdown",
   "id": "3012a174-8bef-4410-a46a-f6054ac27d45",
   "metadata": {},
   "source": [
    "# Regressão Linear"
   ]
  },
  {
   "cell_type": "code",
   "execution_count": 19,
   "id": "5dbf5aea-d748-429c-a6cc-5416ce7ddd8d",
   "metadata": {
    "tags": []
   },
   "outputs": [],
   "source": [
    "import statsmodels.api as sm"
   ]
  },
  {
   "cell_type": "code",
   "execution_count": 19,
   "id": "046f2441-1684-4239-8e4c-d3d2bc9e9af6",
   "metadata": {},
   "outputs": [],
   "source": [
    "y = df['Preço']\n",
    "X = df.drop(columns=['Preço'])"
   ]
  },
  {
   "cell_type": "code",
   "execution_count": 20,
   "id": "4f4b4ed2-415b-4110-86c5-0af6cdda430a",
   "metadata": {},
   "outputs": [
    {
     "data": {
      "text/html": [
       "<div>\n",
       "<style scoped>\n",
       "    .dataframe tbody tr th:only-of-type {\n",
       "        vertical-align: middle;\n",
       "    }\n",
       "\n",
       "    .dataframe tbody tr th {\n",
       "        vertical-align: top;\n",
       "    }\n",
       "\n",
       "    .dataframe thead th {\n",
       "        text-align: right;\n",
       "    }\n",
       "</style>\n",
       "<table border=\"1\" class=\"dataframe\">\n",
       "  <thead>\n",
       "    <tr style=\"text-align: right;\">\n",
       "      <th></th>\n",
       "      <th>const</th>\n",
       "      <th>Área</th>\n",
       "      <th>Quartos</th>\n",
       "      <th>Idade</th>\n",
       "      <th>Mês_Abril</th>\n",
       "      <th>Mês_Junho</th>\n",
       "      <th>Mês_Maio</th>\n",
       "      <th>Localização_Dallas</th>\n",
       "      <th>Localização_Fort Worth</th>\n",
       "      <th>Corretora_Easton</th>\n",
       "    </tr>\n",
       "  </thead>\n",
       "  <tbody>\n",
       "    <tr>\n",
       "      <th>0</th>\n",
       "      <td>1.0</td>\n",
       "      <td>1605</td>\n",
       "      <td>3</td>\n",
       "      <td>6</td>\n",
       "      <td>0</td>\n",
       "      <td>0</td>\n",
       "      <td>0</td>\n",
       "      <td>1</td>\n",
       "      <td>0</td>\n",
       "      <td>0</td>\n",
       "    </tr>\n",
       "    <tr>\n",
       "      <th>1</th>\n",
       "      <td>1.0</td>\n",
       "      <td>2741</td>\n",
       "      <td>4</td>\n",
       "      <td>5</td>\n",
       "      <td>0</td>\n",
       "      <td>0</td>\n",
       "      <td>0</td>\n",
       "      <td>1</td>\n",
       "      <td>0</td>\n",
       "      <td>0</td>\n",
       "    </tr>\n",
       "    <tr>\n",
       "      <th>2</th>\n",
       "      <td>1.0</td>\n",
       "      <td>2393</td>\n",
       "      <td>3</td>\n",
       "      <td>7</td>\n",
       "      <td>0</td>\n",
       "      <td>0</td>\n",
       "      <td>0</td>\n",
       "      <td>1</td>\n",
       "      <td>0</td>\n",
       "      <td>0</td>\n",
       "    </tr>\n",
       "    <tr>\n",
       "      <th>3</th>\n",
       "      <td>1.0</td>\n",
       "      <td>2209</td>\n",
       "      <td>4</td>\n",
       "      <td>8</td>\n",
       "      <td>0</td>\n",
       "      <td>0</td>\n",
       "      <td>0</td>\n",
       "      <td>1</td>\n",
       "      <td>0</td>\n",
       "      <td>0</td>\n",
       "    </tr>\n",
       "    <tr>\n",
       "      <th>4</th>\n",
       "      <td>1.0</td>\n",
       "      <td>1544</td>\n",
       "      <td>3</td>\n",
       "      <td>7</td>\n",
       "      <td>0</td>\n",
       "      <td>0</td>\n",
       "      <td>0</td>\n",
       "      <td>1</td>\n",
       "      <td>0</td>\n",
       "      <td>0</td>\n",
       "    </tr>\n",
       "  </tbody>\n",
       "</table>\n",
       "</div>"
      ],
      "text/plain": [
       "   const  Área  Quartos  Idade  Mês_Abril  Mês_Junho  Mês_Maio  \\\n",
       "0    1.0  1605        3      6          0          0         0   \n",
       "1    1.0  2741        4      5          0          0         0   \n",
       "2    1.0  2393        3      7          0          0         0   \n",
       "3    1.0  2209        4      8          0          0         0   \n",
       "4    1.0  1544        3      7          0          0         0   \n",
       "\n",
       "   Localização_Dallas  Localização_Fort Worth  Corretora_Easton  \n",
       "0                   1                       0                 0  \n",
       "1                   1                       0                 0  \n",
       "2                   1                       0                 0  \n",
       "3                   1                       0                 0  \n",
       "4                   1                       0                 0  "
      ]
     },
     "execution_count": 20,
     "metadata": {},
     "output_type": "execute_result"
    }
   ],
   "source": [
    "X = sm.add_constant(X)\n",
    "X.head()"
   ]
  },
  {
   "cell_type": "code",
   "execution_count": 21,
   "id": "bb55b0b9-93e1-4dd4-867a-e28bac0797e5",
   "metadata": {},
   "outputs": [
    {
     "name": "stdout",
     "output_type": "stream",
     "text": [
      "                            OLS Regression Results                            \n",
      "==============================================================================\n",
      "Dep. Variable:                  Preço   R-squared:                       0.920\n",
      "Model:                            OLS   Adj. R-squared:                  0.918\n",
      "Method:                 Least Squares   F-statistic:                     648.2\n",
      "Date:                Fri, 10 Feb 2023   Prob (F-statistic):          5.73e-272\n",
      "Time:                        20:32:29   Log-Likelihood:                -5155.0\n",
      "No. Observations:                 518   AIC:                         1.033e+04\n",
      "Df Residuals:                     508   BIC:                         1.037e+04\n",
      "Df Model:                           9                                         \n",
      "Covariance Type:            nonrobust                                         \n",
      "==========================================================================================\n",
      "                             coef    std err          t      P>|t|      [0.025      0.975]\n",
      "------------------------------------------------------------------------------------------\n",
      "const                   1.044e+04   1625.853      6.424      0.000    7250.122    1.36e+04\n",
      "Área                      38.4564      0.873     44.033      0.000      36.741      40.172\n",
      "Quartos                  810.2802    470.632      1.722      0.086    -114.344    1734.904\n",
      "Idade                    -89.8676    108.986     -0.825      0.410    -303.986     124.251\n",
      "Mês_Abril              -2040.1219    624.519     -3.267      0.001   -3267.081    -813.163\n",
      "Mês_Junho              -8953.3282    640.232    -13.985      0.000   -1.02e+04   -7695.501\n",
      "Mês_Maio               -5507.3452    631.474     -8.721      0.000   -6747.968   -4266.723\n",
      "Localização_Dallas      2.458e+04    605.065     40.624      0.000    2.34e+04    2.58e+04\n",
      "Localização_Fort Worth  5007.3305    638.419      7.843      0.000    3753.064    6261.597\n",
      "Corretora_Easton        -495.4435    789.703     -0.627      0.531   -2046.930    1056.043\n",
      "==============================================================================\n",
      "Omnibus:                        0.243   Durbin-Watson:                   2.051\n",
      "Prob(Omnibus):                  0.886   Jarque-Bera (JB):                0.355\n",
      "Skew:                           0.016   Prob(JB):                        0.837\n",
      "Kurtosis:                       2.876   Cond. No.                     1.42e+04\n",
      "==============================================================================\n",
      "\n",
      "Notes:\n",
      "[1] Standard Errors assume that the covariance matrix of the errors is correctly specified.\n",
      "[2] The condition number is large, 1.42e+04. This might indicate that there are\n",
      "strong multicollinearity or other numerical problems.\n"
     ]
    }
   ],
   "source": [
    "linreg = sm.OLS(y, X).fit()\n",
    "print(linreg.summary())"
   ]
  },
  {
   "cell_type": "code",
   "execution_count": 22,
   "id": "623fe575-2089-4f9c-b0a6-95c7b0c947fd",
   "metadata": {},
   "outputs": [
    {
     "data": {
      "text/plain": [
       "0   -6138.642227\n",
       "1     574.757773\n",
       "2    1647.594780\n",
       "3     603.156889\n",
       "4    2597.064805\n",
       "dtype: float64"
      ]
     },
     "execution_count": 22,
     "metadata": {},
     "output_type": "execute_result"
    }
   ],
   "source": [
    "linreg.resid.head()"
   ]
  },
  {
   "cell_type": "code",
   "execution_count": 23,
   "id": "5feb540c-b1b2-4485-882a-e2458d4648ea",
   "metadata": {},
   "outputs": [
    {
     "data": {
      "text/plain": [
       "<seaborn.axisgrid.FacetGrid at 0x24d9e2f2c70>"
      ]
     },
     "execution_count": 23,
     "metadata": {},
     "output_type": "execute_result"
    },
    {
     "data": {
      "image/png": "[encoded data removed]",
      "text/plain": [
       "<Figure size 500x500 with 1 Axes>"
      ]
     },
     "metadata": {},
     "output_type": "display_data"
    }
   ],
   "source": [
    "#Histograma dos resíduos\n",
    "sns.displot(linreg.resid)"
   ]
  },
  {
   "cell_type": "code",
   "execution_count": 24,
   "id": "45566e34-5219-482f-b513-cd8ec730c411",
   "metadata": {},
   "outputs": [
    {
     "data": {
      "text/plain": [
       "ShapiroResult(statistic=0.9973931312561035, pvalue=0.5946245193481445)"
      ]
     },
     "execution_count": 24,
     "metadata": {},
     "output_type": "execute_result"
    }
   ],
   "source": [
    "#Teste da normalidade dos resíduos\n",
    "shapiro(linreg.resid)"
   ]
  },
  {
   "cell_type": "code",
   "execution_count": 25,
   "id": "e6c74fb8-b50f-4628-ba07-17d5cb9219c3",
   "metadata": {},
   "outputs": [
    {
     "data": {
      "text/plain": [
       "<AxesSubplot:>"
      ]
     },
     "execution_count": 25,
     "metadata": {},
     "output_type": "execute_result"
    }
   ],
   "source": [
    "#Diagrama de dispersão dos resíduos\n",
    "sns.regplot(linreg.fittedvalues, linreg.resid)"
   ]
  },
  {
   "cell_type": "code",
   "execution_count": 26,
   "id": "73bd664f-107d-47fa-b00d-5c7e9478f0d4",
   "metadata": {},
   "outputs": [
    {
     "data": {
      "text/html": [
       "<div>\n",
       "<style scoped>\n",
       "    .dataframe tbody tr th:only-of-type {\n",
       "        vertical-align: middle;\n",
       "    }\n",
       "\n",
       "    .dataframe tbody tr th {\n",
       "        vertical-align: top;\n",
       "    }\n",
       "\n",
       "    .dataframe thead th {\n",
       "        text-align: right;\n",
       "    }\n",
       "</style>\n",
       "<table border=\"1\" class=\"dataframe\">\n",
       "  <thead>\n",
       "    <tr style=\"text-align: right;\">\n",
       "      <th></th>\n",
       "      <th>dfb_const</th>\n",
       "      <th>dfb_Área</th>\n",
       "      <th>dfb_Quartos</th>\n",
       "      <th>dfb_Idade</th>\n",
       "      <th>dfb_Mês_Abril</th>\n",
       "      <th>dfb_Mês_Junho</th>\n",
       "      <th>dfb_Mês_Maio</th>\n",
       "      <th>dfb_Localização_Dallas</th>\n",
       "      <th>dfb_Localização_Fort Worth</th>\n",
       "      <th>dfb_Corretora_Easton</th>\n",
       "      <th>cooks_d</th>\n",
       "      <th>standard_resid</th>\n",
       "      <th>hat_diag</th>\n",
       "      <th>dffits_internal</th>\n",
       "      <th>student_resid</th>\n",
       "      <th>dffits</th>\n",
       "    </tr>\n",
       "  </thead>\n",
       "  <tbody>\n",
       "    <tr>\n",
       "      <th>0</th>\n",
       "      <td>-0.045203</td>\n",
       "      <td>0.052295</td>\n",
       "      <td>-0.031712</td>\n",
       "      <td>-0.001635</td>\n",
       "      <td>0.069411</td>\n",
       "      <td>0.071148</td>\n",
       "      <td>0.067029</td>\n",
       "      <td>-0.034842</td>\n",
       "      <td>0.005162</td>\n",
       "      <td>0.002813</td>\n",
       "      <td>0.001583</td>\n",
       "      <td>-1.203561</td>\n",
       "      <td>0.010810</td>\n",
       "      <td>-0.125818</td>\n",
       "      <td>-1.204094</td>\n",
       "      <td>-0.125874</td>\n",
       "    </tr>\n",
       "    <tr>\n",
       "      <th>1</th>\n",
       "      <td>-0.007487</td>\n",
       "      <td>0.010531</td>\n",
       "      <td>-0.000473</td>\n",
       "      <td>-0.003011</td>\n",
       "      <td>-0.006348</td>\n",
       "      <td>-0.005586</td>\n",
       "      <td>-0.006057</td>\n",
       "      <td>0.004769</td>\n",
       "      <td>0.001451</td>\n",
       "      <td>-0.000801</td>\n",
       "      <td>0.000030</td>\n",
       "      <td>0.113377</td>\n",
       "      <td>0.022789</td>\n",
       "      <td>0.017314</td>\n",
       "      <td>0.113267</td>\n",
       "      <td>0.017297</td>\n",
       "    </tr>\n",
       "    <tr>\n",
       "      <th>2</th>\n",
       "      <td>-0.010205</td>\n",
       "      <td>0.029697</td>\n",
       "      <td>-0.019785</td>\n",
       "      <td>0.007125</td>\n",
       "      <td>-0.018373</td>\n",
       "      <td>-0.016344</td>\n",
       "      <td>-0.017531</td>\n",
       "      <td>0.011056</td>\n",
       "      <td>0.001278</td>\n",
       "      <td>-0.001161</td>\n",
       "      <td>0.000189</td>\n",
       "      <td>0.324164</td>\n",
       "      <td>0.017701</td>\n",
       "      <td>0.043516</td>\n",
       "      <td>0.323878</td>\n",
       "      <td>0.043477</td>\n",
       "    </tr>\n",
       "    <tr>\n",
       "      <th>3</th>\n",
       "      <td>-0.005530</td>\n",
       "      <td>0.000110</td>\n",
       "      <td>0.005964</td>\n",
       "      <td>0.004536</td>\n",
       "      <td>-0.007011</td>\n",
       "      <td>-0.006495</td>\n",
       "      <td>-0.006679</td>\n",
       "      <td>0.004711</td>\n",
       "      <td>0.000405</td>\n",
       "      <td>-0.000552</td>\n",
       "      <td>0.000022</td>\n",
       "      <td>0.118516</td>\n",
       "      <td>0.015127</td>\n",
       "      <td>0.014688</td>\n",
       "      <td>0.118401</td>\n",
       "      <td>0.014674</td>\n",
       "    </tr>\n",
       "    <tr>\n",
       "      <th>4</th>\n",
       "      <td>0.017750</td>\n",
       "      <td>-0.027520</td>\n",
       "      <td>0.016194</td>\n",
       "      <td>0.011613</td>\n",
       "      <td>-0.029813</td>\n",
       "      <td>-0.030425</td>\n",
       "      <td>-0.028730</td>\n",
       "      <td>0.014738</td>\n",
       "      <td>-0.003072</td>\n",
       "      <td>-0.000911</td>\n",
       "      <td>0.000324</td>\n",
       "      <td>0.509579</td>\n",
       "      <td>0.012327</td>\n",
       "      <td>0.056930</td>\n",
       "      <td>0.509208</td>\n",
       "      <td>0.056888</td>\n",
       "    </tr>\n",
       "  </tbody>\n",
       "</table>\n",
       "</div>"
      ],
      "text/plain": [
       "   dfb_const  dfb_Área  dfb_Quartos  dfb_Idade  dfb_Mês_Abril  dfb_Mês_Junho  \\\n",
       "0  -0.045203  0.052295    -0.031712  -0.001635       0.069411       0.071148   \n",
       "1  -0.007487  0.010531    -0.000473  -0.003011      -0.006348      -0.005586   \n",
       "2  -0.010205  0.029697    -0.019785   0.007125      -0.018373      -0.016344   \n",
       "3  -0.005530  0.000110     0.005964   0.004536      -0.007011      -0.006495   \n",
       "4   0.017750 -0.027520     0.016194   0.011613      -0.029813      -0.030425   \n",
       "\n",
       "   dfb_Mês_Maio  dfb_Localização_Dallas  dfb_Localização_Fort Worth  \\\n",
       "0      0.067029               -0.034842                    0.005162   \n",
       "1     -0.006057                0.004769                    0.001451   \n",
       "2     -0.017531                0.011056                    0.001278   \n",
       "3     -0.006679                0.004711                    0.000405   \n",
       "4     -0.028730                0.014738                   -0.003072   \n",
       "\n",
       "   dfb_Corretora_Easton   cooks_d  standard_resid  hat_diag  dffits_internal  \\\n",
       "0              0.002813  0.001583       -1.203561  0.010810        -0.125818   \n",
       "1             -0.000801  0.000030        0.113377  0.022789         0.017314   \n",
       "2             -0.001161  0.000189        0.324164  0.017701         0.043516   \n",
       "3             -0.000552  0.000022        0.118516  0.015127         0.014688   \n",
       "4             -0.000911  0.000324        0.509579  0.012327         0.056930   \n",
       "\n",
       "   student_resid    dffits  \n",
       "0      -1.204094 -0.125874  \n",
       "1       0.113267  0.017297  \n",
       "2       0.323878  0.043477  \n",
       "3       0.118401  0.014674  \n",
       "4       0.509208  0.056888  "
      ]
     },
     "execution_count": 26,
     "metadata": {},
     "output_type": "execute_result"
    }
   ],
   "source": [
    "#Outliers e observações influentes\n",
    "#dfbetas, distância de cook, resíduos padronizados e studentizados, alavancagem e dffit \n",
    "linreg.get_influence().summary_frame().head()"
   ]
  },
  {
   "cell_type": "code",
   "execution_count": 27,
   "id": "8427ec2b-2d23-4d0c-ac00-58bbfee8d3c2",
   "metadata": {},
   "outputs": [
    {
     "data": {
      "text/html": [
       "<div>\n",
       "<style scoped>\n",
       "    .dataframe tbody tr th:only-of-type {\n",
       "        vertical-align: middle;\n",
       "    }\n",
       "\n",
       "    .dataframe tbody tr th {\n",
       "        vertical-align: top;\n",
       "    }\n",
       "\n",
       "    .dataframe thead th {\n",
       "        text-align: right;\n",
       "    }\n",
       "</style>\n",
       "<table border=\"1\" class=\"dataframe\">\n",
       "  <thead>\n",
       "    <tr style=\"text-align: right;\">\n",
       "      <th></th>\n",
       "      <th>mean</th>\n",
       "      <th>mean_se</th>\n",
       "      <th>mean_ci_lower</th>\n",
       "      <th>mean_ci_upper</th>\n",
       "      <th>obs_ci_lower</th>\n",
       "      <th>obs_ci_upper</th>\n",
       "    </tr>\n",
       "  </thead>\n",
       "  <tbody>\n",
       "    <tr>\n",
       "      <th>0</th>\n",
       "      <td>98638.642227</td>\n",
       "      <td>533.188254</td>\n",
       "      <td>97591.116715</td>\n",
       "      <td>99686.167739</td>\n",
       "      <td>88509.253197</td>\n",
       "      <td>108768.031256</td>\n",
       "    </tr>\n",
       "    <tr>\n",
       "      <th>1</th>\n",
       "      <td>143225.242227</td>\n",
       "      <td>774.156818</td>\n",
       "      <td>141704.299087</td>\n",
       "      <td>144746.185367</td>\n",
       "      <td>133036.008671</td>\n",
       "      <td>153414.475782</td>\n",
       "    </tr>\n",
       "    <tr>\n",
       "      <th>2</th>\n",
       "      <td>128852.405220</td>\n",
       "      <td>682.286102</td>\n",
       "      <td>127511.955400</td>\n",
       "      <td>130192.855039</td>\n",
       "      <td>118688.546792</td>\n",
       "      <td>139016.263647</td>\n",
       "    </tr>\n",
       "    <tr>\n",
       "      <th>3</th>\n",
       "      <td>122496.843111</td>\n",
       "      <td>630.731692</td>\n",
       "      <td>121257.679394</td>\n",
       "      <td>123736.006829</td>\n",
       "      <td>112345.846159</td>\n",
       "      <td>132647.840064</td>\n",
       "    </tr>\n",
       "    <tr>\n",
       "      <th>4</th>\n",
       "      <td>96202.935195</td>\n",
       "      <td>569.373521</td>\n",
       "      <td>95084.318486</td>\n",
       "      <td>97321.551904</td>\n",
       "      <td>86065.947686</td>\n",
       "      <td>106339.922704</td>\n",
       "    </tr>\n",
       "  </tbody>\n",
       "</table>\n",
       "</div>"
      ],
      "text/plain": [
       "            mean     mean_se  mean_ci_lower  mean_ci_upper   obs_ci_lower  \\\n",
       "0   98638.642227  533.188254   97591.116715   99686.167739   88509.253197   \n",
       "1  143225.242227  774.156818  141704.299087  144746.185367  133036.008671   \n",
       "2  128852.405220  682.286102  127511.955400  130192.855039  118688.546792   \n",
       "3  122496.843111  630.731692  121257.679394  123736.006829  112345.846159   \n",
       "4   96202.935195  569.373521   95084.318486   97321.551904   86065.947686   \n",
       "\n",
       "    obs_ci_upper  \n",
       "0  108768.031256  \n",
       "1  153414.475782  \n",
       "2  139016.263647  \n",
       "3  132647.840064  \n",
       "4  106339.922704  "
      ]
     },
     "execution_count": 27,
     "metadata": {},
     "output_type": "execute_result"
    }
   ],
   "source": [
    "linreg.get_prediction(X).summary_frame().head()"
   ]
  },
  {
   "cell_type": "markdown",
   "id": "140fef06-c1ff-4e9b-95e1-4e859b14688e",
   "metadata": {
    "tags": []
   },
   "source": [
    "# Regressão Logística"
   ]
  },
  {
   "cell_type": "code",
   "execution_count": 28,
   "id": "8c3cab66-754c-4938-890a-cd7aa7cb5700",
   "metadata": {},
   "outputs": [],
   "source": [
    "X = df[['Área', 'Quartos', 'Idade', 'Localização_Dallas', 'Localização_Fort Worth']]\n",
    "y = df['Corretora_Easton']"
   ]
  },
  {
   "cell_type": "code",
   "execution_count": 29,
   "id": "9f09ff9b-acf9-4ee3-8d7f-e8bd93a30ad5",
   "metadata": {},
   "outputs": [
    {
     "data": {
      "text/html": [
       "<div>\n",
       "<style scoped>\n",
       "    .dataframe tbody tr th:only-of-type {\n",
       "        vertical-align: middle;\n",
       "    }\n",
       "\n",
       "    .dataframe tbody tr th {\n",
       "        vertical-align: top;\n",
       "    }\n",
       "\n",
       "    .dataframe thead th {\n",
       "        text-align: right;\n",
       "    }\n",
       "</style>\n",
       "<table border=\"1\" class=\"dataframe\">\n",
       "  <thead>\n",
       "    <tr style=\"text-align: right;\">\n",
       "      <th></th>\n",
       "      <th>const</th>\n",
       "      <th>Área</th>\n",
       "      <th>Quartos</th>\n",
       "      <th>Idade</th>\n",
       "      <th>Localização_Dallas</th>\n",
       "      <th>Localização_Fort Worth</th>\n",
       "    </tr>\n",
       "  </thead>\n",
       "  <tbody>\n",
       "    <tr>\n",
       "      <th>0</th>\n",
       "      <td>1.0</td>\n",
       "      <td>1605</td>\n",
       "      <td>3</td>\n",
       "      <td>6</td>\n",
       "      <td>1</td>\n",
       "      <td>0</td>\n",
       "    </tr>\n",
       "    <tr>\n",
       "      <th>1</th>\n",
       "      <td>1.0</td>\n",
       "      <td>2741</td>\n",
       "      <td>4</td>\n",
       "      <td>5</td>\n",
       "      <td>1</td>\n",
       "      <td>0</td>\n",
       "    </tr>\n",
       "    <tr>\n",
       "      <th>2</th>\n",
       "      <td>1.0</td>\n",
       "      <td>2393</td>\n",
       "      <td>3</td>\n",
       "      <td>7</td>\n",
       "      <td>1</td>\n",
       "      <td>0</td>\n",
       "    </tr>\n",
       "    <tr>\n",
       "      <th>3</th>\n",
       "      <td>1.0</td>\n",
       "      <td>2209</td>\n",
       "      <td>4</td>\n",
       "      <td>8</td>\n",
       "      <td>1</td>\n",
       "      <td>0</td>\n",
       "    </tr>\n",
       "    <tr>\n",
       "      <th>4</th>\n",
       "      <td>1.0</td>\n",
       "      <td>1544</td>\n",
       "      <td>3</td>\n",
       "      <td>7</td>\n",
       "      <td>1</td>\n",
       "      <td>0</td>\n",
       "    </tr>\n",
       "  </tbody>\n",
       "</table>\n",
       "</div>"
      ],
      "text/plain": [
       "   const  Área  Quartos  Idade  Localização_Dallas  Localização_Fort Worth\n",
       "0    1.0  1605        3      6                   1                       0\n",
       "1    1.0  2741        4      5                   1                       0\n",
       "2    1.0  2393        3      7                   1                       0\n",
       "3    1.0  2209        4      8                   1                       0\n",
       "4    1.0  1544        3      7                   1                       0"
      ]
     },
     "execution_count": 29,
     "metadata": {},
     "output_type": "execute_result"
    }
   ],
   "source": [
    "X = sm.add_constant(X)\n",
    "X.head()"
   ]
  },
  {
   "cell_type": "code",
   "execution_count": 30,
   "id": "5895562b-9da2-446a-ad11-c00bd033c7eb",
   "metadata": {},
   "outputs": [
    {
     "name": "stdout",
     "output_type": "stream",
     "text": [
      "Optimization terminated successfully.\n",
      "         Current function value: 0.287061\n",
      "         Iterations 7\n",
      "                           Logit Regression Results                           \n",
      "==============================================================================\n",
      "Dep. Variable:       Corretora_Easton   No. Observations:                  518\n",
      "Model:                          Logit   Df Residuals:                      512\n",
      "Method:                           MLE   Df Model:                            5\n",
      "Date:                Fri, 10 Feb 2023   Pseudo R-squ.:                 0.08299\n",
      "Time:                        20:32:34   Log-Likelihood:                -148.70\n",
      "converged:                       True   LL-Null:                       -162.16\n",
      "Covariance Type:            nonrobust   LLR p-value:                 5.925e-05\n",
      "==========================================================================================\n",
      "                             coef    std err          z      P>|z|      [0.025      0.975]\n",
      "------------------------------------------------------------------------------------------\n",
      "const                     -2.3486      1.072     -2.191      0.028      -4.449      -0.248\n",
      "Área                       0.0001      0.001      0.239      0.811      -0.001       0.001\n",
      "Quartos                    0.1355      0.315      0.430      0.667      -0.482       0.753\n",
      "Idade                     -0.0341      0.076     -0.449      0.653      -0.183       0.115\n",
      "Localização_Dallas        -1.6459      0.477     -3.451      0.001      -2.581      -0.711\n",
      "Localização_Fort Worth     0.2406      0.353      0.682      0.495      -0.451       0.932\n",
      "==========================================================================================\n"
     ]
    }
   ],
   "source": [
    "logreg = sm.Logit(y,X).fit()\n",
    "print(logreg.summary())"
   ]
  },
  {
   "cell_type": "markdown",
   "id": "837c1767-1b50-43fe-9ba4-e69a19fb6a07",
   "metadata": {},
   "source": [
    "# Modelos Lineares Generalizados (GLM)\n",
    "\n",
    "## Brevíssima revisão \n",
    "\n",
    "Regressão tradicional (notação simplificada):\n",
    "\n",
    "$$\n",
    "y = \\beta_0 + \\beta_1X_1 + ...\n",
    "$$\n",
    "\n",
    "O que acontece se...\n",
    "\n",
    "* $y \\in \\{0,1\\}$? (sim/não)\n",
    "* $y \\in \\{0,1,2,3,...\\}$? (contagem)\n",
    "* $y \\in (0; 1)$?  (porcentagem)\n",
    "* $y \\in \\{Classe 1, Classe 2, Classe 3 ,...\\}$ (classificação)\n",
    "* $y \\in \\{Nível 1, Nível 2, Nível 3 ,...\\}$ (classificação ordinal)\n",
    "\n",
    "> Uma regressão linear simples exige que y possa (em teoria, pelo menos) ser qualquer número real!\n",
    "\n",
    "Solução:\n",
    "\n",
    "Usar uma função $g(\\cdot)$ que transforme os valores de $y$ em números reais: \n",
    "\n",
    "$$\n",
    "g: (\\text{valores possíveis para y}) \\rightarrow \\mathbb{R}\n",
    "$$\n",
    "\n",
    "Assim, poderemos fazer (notação simplificada):\n",
    "\n",
    "$$\n",
    "g(y) = \\beta_0 + \\beta_1X_1 + ...\n",
    "$$\n",
    "\n",
    "Esta é a expressão geral do __modelo de regressão linear generalizados__.\n",
    "\n",
    "Dependendo da escolha de $g$ teremos modelos diferentes, com aplicações distintas:\n",
    "\n",
    "* Regressão Logit / Probit\n",
    "* Regressão ordinal\n",
    "* Regressão de Poisson / Binomial Negativa\n",
    "* Regressão Beta\n",
    "* Regressão Tweedie\n",
    "* Regressões com inflação (ZIP e BZOI)\n",
    "* etc.\n"
   ]
  },
  {
   "cell_type": "markdown",
   "id": "eebc6e09-e6fa-403d-ab02-a11a6be362f0",
   "metadata": {},
   "source": [
    "## Regressão Logística (de novo)"
   ]
  },
  {
   "cell_type": "code",
   "execution_count": 31,
   "id": "4868cad0-8186-4432-b6f2-81570a88fe03",
   "metadata": {},
   "outputs": [
    {
     "name": "stdout",
     "output_type": "stream",
     "text": [
      "                 Generalized Linear Model Regression Results                  \n",
      "==============================================================================\n",
      "Dep. Variable:       Corretora_Easton   No. Observations:                  518\n",
      "Model:                            GLM   Df Residuals:                      512\n",
      "Model Family:                Binomial   Df Model:                            5\n",
      "Link Function:                  Logit   Scale:                          1.0000\n",
      "Method:                          IRLS   Log-Likelihood:                -148.70\n",
      "Date:                Fri, 10 Feb 2023   Deviance:                       297.40\n",
      "Time:                        20:32:37   Pearson chi2:                     520.\n",
      "No. Iterations:                     6   Pseudo R-squ. (CS):            0.05063\n",
      "Covariance Type:            nonrobust                                         \n",
      "==========================================================================================\n",
      "                             coef    std err          z      P>|z|      [0.025      0.975]\n",
      "------------------------------------------------------------------------------------------\n",
      "const                     -2.3486      1.072     -2.191      0.028      -4.449      -0.248\n",
      "Área                       0.0001      0.001      0.239      0.811      -0.001       0.001\n",
      "Quartos                    0.1355      0.315      0.430      0.667      -0.482       0.753\n",
      "Idade                     -0.0341      0.076     -0.449      0.653      -0.183       0.115\n",
      "Localização_Dallas        -1.6459      0.477     -3.451      0.001      -2.581      -0.711\n",
      "Localização_Fort Worth     0.2406      0.353      0.682      0.495      -0.451       0.932\n",
      "==========================================================================================\n"
     ]
    }
   ],
   "source": [
    "#Logit de novo, mas chamando como um caso particular de GLM...\n",
    "logit_2 = sm.GLM(y, X, family=sm.families.Binomial()).fit()\n",
    "print(logit_2.summary())"
   ]
  },
  {
   "cell_type": "markdown",
   "id": "8ff0f162-7c46-4fc0-a7aa-d2919baa422b",
   "metadata": {},
   "source": [
    "## Regressão de Poisson"
   ]
  },
  {
   "cell_type": "code",
   "execution_count": 32,
   "id": "d6d13930-a2b8-4ff2-95aa-0caf0841044b",
   "metadata": {},
   "outputs": [
    {
     "name": "stdout",
     "output_type": "stream",
     "text": [
      "                 Generalized Linear Model Regression Results                  \n",
      "==============================================================================\n",
      "Dep. Variable:                Quartos   No. Observations:                  518\n",
      "Model:                            GLM   Df Residuals:                      515\n",
      "Model Family:                 Poisson   Df Model:                            2\n",
      "Link Function:                    Log   Scale:                          1.0000\n",
      "Method:                          IRLS   Log-Likelihood:                -879.40\n",
      "Date:                Fri, 10 Feb 2023   Deviance:                       205.24\n",
      "Time:                        20:32:38   Pearson chi2:                     237.\n",
      "No. Iterations:                     4   Pseudo R-squ. (CS):            -0.3033\n",
      "Covariance Type:            nonrobust                                         \n",
      "==========================================================================================\n",
      "                             coef    std err          z      P>|z|      [0.025      0.975]\n",
      "------------------------------------------------------------------------------------------\n",
      "Idade                      0.1201      0.008     15.614      0.000       0.105       0.135\n",
      "Localização_Dallas         0.3493      0.063      5.569      0.000       0.226       0.472\n",
      "Localização_Fort Worth     0.3265      0.069      4.730      0.000       0.191       0.462\n",
      "==========================================================================================\n"
     ]
    }
   ],
   "source": [
    "y = df['Quartos']\n",
    "X = df[['Idade','Localização_Dallas','Localização_Fort Worth']]\n",
    "\n",
    "poisson = sm.GLM(y, X, family=sm.families.Poisson()).fit()\n",
    "print(poisson.summary())"
   ]
  },
  {
   "cell_type": "markdown",
   "id": "f4aebe0c-fee3-4df4-ade7-dc3893da6da3",
   "metadata": {},
   "source": [
    "# Séries temporais"
   ]
  },
  {
   "cell_type": "markdown",
   "id": "6e71ead6-0baa-4241-af72-d4a3cdab1720",
   "metadata": {},
   "source": [
    "## Brevíssima revisão\n",
    "\n",
    "### Estacionariedade\n",
    "\n",
    "* Forte\n",
    "* Fraca\n",
    "    * $E(y_t)$ é o mesmo, independentemente do valor de $t$\n",
    "    * $V(y_t)$ é o mesmo, independentemente do valor de $t$\n",
    "    * $Cov(y_{t1}, y_{t2})$ não depende nem de $t_1$ nem de $t_2$ mas apenas de quanto tempo se passou entre $t_1$ e $t_2$\n",
    "\n",
    "### AR(1)\n",
    "\n",
    "$$\n",
    "y_t = \\rho y_{t-1} + \\epsilon_t  \n",
    "$$\n",
    "\n",
    "$$\n",
    "\\epsilon \\sim N(0,\\sigma^2)\n",
    "$$\n",
    "\n",
    "Supondo estacionariedade da série...\n",
    "\n",
    "* Como você espera que seja a correlação de $y_t$ com ...\n",
    "    * $y_{t-1}$? \n",
    "    * $y_{t-2}$? \n",
    "    * $y_{t-3}$? \n",
    "    * $y_{t-200}$?\n",
    "* Como você espera que seja a variância desta série com...\n",
    "    * $\\rho = 0$?\n",
    "    * $\\rho = 1000$? (é razoável?)\n",
    "    * $\\rho = 0.5$? \n",
    "    * $\\rho = -0.5$?\n",
    "\n",
    "\n",
    "$$\n",
    "E(y_t) = E(y_{t-1}) \\implies E(y_t) = \\rho E(y_t) = 0\n",
    "$$\n",
    "\n",
    "(e se houver tendência?)\n",
    "\n",
    "$$\n",
    "V(y_t) = V(y_{t-1}) \\implies V(y_t) = \\rho^2 V(y_t) + \\sigma^2 \\implies V(y_t) = \\frac{\\sigma^2}{1-\\rho^2}\n",
    "$$\n",
    "\n",
    "Ou seja, devemos ter $ |\\rho| < 1$ para série estacionária.\n",
    "\n",
    "$$\n",
    "\\begin{align}\n",
    "\\gamma(h) \\equiv &Cov(y_t; y_{t-h}) = \\\\\n",
    "&Cov(\\rho y_{t-1} + \\epsilon_{t}; y_{t-h})= \\\\\n",
    "&\\rho Cov(y_{t-1};y_{t-h}) + Cov(\\epsilon_{t}; y_{t-h}) =\\\\\n",
    "&\\rho \\gamma(h-1)\n",
    "\\end{align}\n",
    "$$\n",
    "\n",
    "como $\\gamma(0) = V(y_t)$, resulta que $\\gamma(0), \\gamma(1), \\gamma(2), ...$ formam uma P.G. com razão $\\rho$ e primeiro termo $V(y_t) = \\frac{\\sigma^2}{1-\\rho^2}$. Como $|\\rho| < 1$, essa P.G. se parece com um decaimento exponencial.\n",
    "\n",
    "### MA(1)\n",
    "\n",
    "$$\n",
    "y_t = \\rho \\epsilon_{t-1} + \\epsilon_t  \n",
    "$$\n",
    "\n",
    "$$\n",
    "\\epsilon \\sim N(0,\\sigma^2)\n",
    "$$\n",
    "\n",
    "Supondo estacionariedade da série...\n",
    "\n",
    "* Como você espera que seja a correlação de $y_t$ com ...\n",
    "    * $y_{t-1}$? \n",
    "    * $y_{t-2}$? \n",
    "    * $y_{t-3}$? \n",
    "    * $y_{t-200}$?\n",
    "* Como você espera que seja a variância desta série com...\n",
    "    * $\\rho = 0$?\n",
    "    * $\\rho = 1000$? (é razoável?)\n",
    "    * $\\rho = 0.5$? \n",
    "    * $\\rho = -0.5$?\n",
    "\n",
    "### ARMA(1,1)\n",
    "\n",
    "ARMA = AR + MA\n",
    "\n",
    "$$\n",
    "y_t = AR(1) + MA(1) = \\rho y_{t-1} + \\phi \\epsilon_{t-1} + \\epsilon_t\n",
    "$$"
   ]
  },
  {
   "cell_type": "markdown",
   "id": "2d3892a1-c8ef-47fd-bf80-f6b37b2f93fe",
   "metadata": {},
   "source": [
    "### Determinação das ordens dos modelos usando ACF e PACF"
   ]
  },
  {
   "cell_type": "markdown",
   "id": "c16ab45c-45b3-4958-acdb-18a1a5f6c12e",
   "metadata": {},
   "source": [
    "![image.png](attachment:529799d2-705e-4b0e-ba94-7458fc094367.png)"
   ]
  },
  {
   "cell_type": "markdown",
   "id": "7375e670-87fe-47cb-8b31-029af61f3aea",
   "metadata": {},
   "source": [
    "### ARIMA(1,1,1)\n",
    "\n",
    "* Diferenciação como forma de eliminação de tendência\n",
    "* Ordem de integração de uma série temporal\n",
    "* ARIMA = AR + I de \"integração\" + MA\n",
    "* Prós e contras da diferenciação como forma de eliminação da tendência\n",
    "  \n",
    "Exemplo para um Ruído Branco:\n",
    "$$\n",
    "V(\\epsilon_t - \\epsilon_{t-1}) = V(\\epsilon_t) + V(\\epsilon_{t-1}) = 2\\sigma^2 > \\sigma^2\n",
    "$$"
   ]
  },
  {
   "cell_type": "markdown",
   "id": "4f6bee20-9c6c-49d7-a664-736df2206da2",
   "metadata": {},
   "source": [
    "### A questão da Raiz Unitária\n",
    "\n",
    "$$\n",
    "y_t = y_{t-1} + \\epsilon_{t}\n",
    "$$\n",
    "\n",
    "* Consequências da raiz unitária\n",
    "* Teste de Dickey-Fuller Aumentado"
   ]
  },
  {
   "cell_type": "markdown",
   "id": "6469668c-ea9d-49c8-9f53-fd63db49c97f",
   "metadata": {},
   "source": [
    "## Python!"
   ]
  },
  {
   "cell_type": "markdown",
   "id": "63acca40-c6f4-4236-a48c-308660da4d7d",
   "metadata": {},
   "source": [
    "O módulo `tsa` permite desenvolver modelos em séries temporais"
   ]
  },
  {
   "cell_type": "code",
   "execution_count": 207,
   "id": "ce45eeee-09ad-48b7-abea-d0dae4ae7af6",
   "metadata": {},
   "outputs": [
    {
     "data": {
      "text/html": [
       "<div>\n",
       "<style scoped>\n",
       "    .dataframe tbody tr th:only-of-type {\n",
       "        vertical-align: middle;\n",
       "    }\n",
       "\n",
       "    .dataframe tbody tr th {\n",
       "        vertical-align: top;\n",
       "    }\n",
       "\n",
       "    .dataframe thead th {\n",
       "        text-align: right;\n",
       "    }\n",
       "</style>\n",
       "<table border=\"1\" class=\"dataframe\">\n",
       "  <thead>\n",
       "    <tr style=\"text-align: right;\">\n",
       "      <th></th>\n",
       "      <th>Open</th>\n",
       "    </tr>\n",
       "    <tr>\n",
       "      <th>Date</th>\n",
       "      <th></th>\n",
       "    </tr>\n",
       "  </thead>\n",
       "  <tbody>\n",
       "    <tr>\n",
       "      <th>2019-04-09</th>\n",
       "      <td>29.03</td>\n",
       "    </tr>\n",
       "    <tr>\n",
       "      <th>2019-04-10</th>\n",
       "      <td>29.55</td>\n",
       "    </tr>\n",
       "    <tr>\n",
       "      <th>2019-04-11</th>\n",
       "      <td>28.70</td>\n",
       "    </tr>\n",
       "    <tr>\n",
       "      <th>2019-04-12</th>\n",
       "      <td>26.47</td>\n",
       "    </tr>\n",
       "    <tr>\n",
       "      <th>2019-04-15</th>\n",
       "      <td>26.35</td>\n",
       "    </tr>\n",
       "  </tbody>\n",
       "</table>\n",
       "</div>"
      ],
      "text/plain": [
       "             Open\n",
       "Date             \n",
       "2019-04-09  29.03\n",
       "2019-04-10  29.55\n",
       "2019-04-11  28.70\n",
       "2019-04-12  26.47\n",
       "2019-04-15  26.35"
      ]
     },
     "execution_count": 207,
     "metadata": {},
     "output_type": "execute_result"
    }
   ],
   "source": [
    "petr4 = pd.read_csv(\"https://raw.githubusercontent.com/cunhamaicon/petr4/master/PETR4.csv\",\n",
    "                   usecols=[\"Date\",\"Open\"] #, index_col='Date', parse_dates=True\n",
    "                   )\n",
    "\n",
    "petr4 = petr4.fillna(method=\"ffill\")\n",
    "petr4 = petr4.set_index(\"Date\")\n",
    "petr4 = petr4['2004-01-01':]\n",
    "petr4.tail()\n"
   ]
  },
  {
   "cell_type": "code",
   "execution_count": 208,
   "id": "8cea5dec-a970-4ab2-97df-08d010a1a9cd",
   "metadata": {},
   "outputs": [
    {
     "data": {
      "text/plain": [
       "<AxesSubplot:xlabel='Date'>"
      ]
     },
     "execution_count": 208,
     "metadata": {},
     "output_type": "execute_result"
    },
    {
     "data": {
      "image/png": "[encoded data removed]",
      "text/plain": [
       "<Figure size 640x480 with 1 Axes>"
      ]
     },
     "metadata": {},
     "output_type": "display_data"
    }
   ],
   "source": [
    "petr4.plot()"
   ]
  },
  {
   "cell_type": "code",
   "execution_count": 216,
   "id": "d442410f-6c36-4266-8c5c-cc6fda451a9e",
   "metadata": {},
   "outputs": [
    {
     "data": {
      "text/plain": [
       "<AxesSubplot:xlabel='Date'>"
      ]
     },
     "execution_count": 216,
     "metadata": {},
     "output_type": "execute_result"
    },
    {
     "data": {
      "image/png": "[encoded data removed]",
      "text/plain": [
       "<Figure size 640x480 with 1 Axes>"
      ]
     },
     "metadata": {},
     "output_type": "display_data"
    }
   ],
   "source": [
    "r_dia = petr4.pct_change().dropna()\n",
    "r_dia.plot()"
   ]
  },
  {
   "cell_type": "code",
   "execution_count": 218,
   "id": "3a7d0f72-998c-4fe4-a6b9-0e15ac4f516d",
   "metadata": {},
   "outputs": [
    {
     "data": {
      "text/plain": [
       "array([[<AxesSubplot:title={'center':'Open'}>]], dtype=object)"
      ]
     },
     "execution_count": 218,
     "metadata": {},
     "output_type": "execute_result"
    },
    {
     "data": {
      "image/png": "[encoded data removed]",
      "text/plain": [
       "<Figure size 640x480 with 1 Axes>"
      ]
     },
     "metadata": {},
     "output_type": "display_data"
    }
   ],
   "source": [
    "r_dia.hist(bins=100)"
   ]
  },
  {
   "cell_type": "markdown",
   "id": "41e8b89b-f1cb-4fb7-a5f9-d37abeb3395d",
   "metadata": {},
   "source": [
    "## Autoccorelação e autocorrelação parcial (ACF e PACF)"
   ]
  },
  {
   "cell_type": "code",
   "execution_count": 219,
   "id": "22e5def3-7953-4106-b10b-3b00b9dd1db7",
   "metadata": {},
   "outputs": [
    {
     "data": {
      "image/png": "[encoded data removed]",
      "text/plain": [
       "<Figure size 640x480 with 1 Axes>"
      ]
     },
     "metadata": {},
     "output_type": "display_data"
    }
   ],
   "source": [
    "pd.Series(sm.tsa.acf(petr4)).plot(kind='bar');"
   ]
  },
  {
   "cell_type": "code",
   "execution_count": 220,
   "id": "c0022bee-6dd7-4fd4-94ff-aaf5a08bde83",
   "metadata": {},
   "outputs": [
    {
     "data": {
      "image/png": "[encoded data removed]",
      "text/plain": [
       "<Figure size 640x480 with 1 Axes>"
      ]
     },
     "metadata": {},
     "output_type": "display_data"
    }
   ],
   "source": [
    "pd.Series(sm.tsa.pacf(petr4, nlags=22)).plot(kind='bar');"
   ]
  },
  {
   "cell_type": "markdown",
   "id": "689bcbfd-5240-4982-8e57-a718f6f4b4c2",
   "metadata": {},
   "source": [
    "## Teste de Raiz Unitária"
   ]
  },
  {
   "cell_type": "code",
   "execution_count": 221,
   "id": "adbc2d65-7faa-4ee3-bfd8-48057e2214e0",
   "metadata": {},
   "outputs": [],
   "source": [
    "from statsmodels.tsa.stattools import adfuller"
   ]
  },
  {
   "cell_type": "code",
   "execution_count": 224,
   "id": "f761c612-09c8-4cde-a758-7723edc8b97d",
   "metadata": {},
   "outputs": [
    {
     "data": {
      "text/plain": [
       "0.246930231152106"
      ]
     },
     "execution_count": 224,
     "metadata": {},
     "output_type": "execute_result"
    }
   ],
   "source": [
    "_, p, _, _, _, _ = adfuller(petr4)\n",
    "p"
   ]
  },
  {
   "cell_type": "code",
   "execution_count": 225,
   "id": "6c69c6ac-50df-4317-846b-40153578ebb2",
   "metadata": {},
   "outputs": [
    {
     "data": {
      "text/plain": [
       "(-2.094009483742224,\n",
       " 0.246930231152106,\n",
       " 13,\n",
       " 3800,\n",
       " {'1%': -3.4320720323340317,\n",
       "  '5%': -2.8623008992061525,\n",
       "  '10%': -2.567175036634349},\n",
       " 6800.108581113797)"
      ]
     },
     "execution_count": 225,
     "metadata": {},
     "output_type": "execute_result"
    }
   ],
   "source": [
    "adfuller(petr4)"
   ]
  },
  {
   "cell_type": "markdown",
   "id": "4fda24b3-5ec3-4b68-adc1-9043b304edea",
   "metadata": {},
   "source": [
    "## AR, MA, ARMA e ARIMA"
   ]
  },
  {
   "cell_type": "code",
   "execution_count": 226,
   "id": "5a558eba-f641-4276-9f4b-2c03c681aedb",
   "metadata": {},
   "outputs": [
    {
     "data": {
      "text/html": [
       "<div>\n",
       "<style scoped>\n",
       "    .dataframe tbody tr th:only-of-type {\n",
       "        vertical-align: middle;\n",
       "    }\n",
       "\n",
       "    .dataframe tbody tr th {\n",
       "        vertical-align: top;\n",
       "    }\n",
       "\n",
       "    .dataframe thead th {\n",
       "        text-align: right;\n",
       "    }\n",
       "</style>\n",
       "<table border=\"1\" class=\"dataframe\">\n",
       "  <thead>\n",
       "    <tr style=\"text-align: right;\">\n",
       "      <th></th>\n",
       "      <th>Date</th>\n",
       "      <th>Open</th>\n",
       "    </tr>\n",
       "  </thead>\n",
       "  <tbody>\n",
       "    <tr>\n",
       "      <th>0</th>\n",
       "      <td>2004-01-01</td>\n",
       "      <td>9.62</td>\n",
       "    </tr>\n",
       "    <tr>\n",
       "      <th>1</th>\n",
       "      <td>2004-01-02</td>\n",
       "      <td>9.55</td>\n",
       "    </tr>\n",
       "    <tr>\n",
       "      <th>2</th>\n",
       "      <td>2004-01-05</td>\n",
       "      <td>9.99</td>\n",
       "    </tr>\n",
       "    <tr>\n",
       "      <th>3</th>\n",
       "      <td>2004-01-06</td>\n",
       "      <td>10.63</td>\n",
       "    </tr>\n",
       "    <tr>\n",
       "      <th>4</th>\n",
       "      <td>2004-01-07</td>\n",
       "      <td>11.00</td>\n",
       "    </tr>\n",
       "    <tr>\n",
       "      <th>...</th>\n",
       "      <td>...</td>\n",
       "      <td>...</td>\n",
       "    </tr>\n",
       "    <tr>\n",
       "      <th>3809</th>\n",
       "      <td>2019-04-09</td>\n",
       "      <td>29.03</td>\n",
       "    </tr>\n",
       "    <tr>\n",
       "      <th>3810</th>\n",
       "      <td>2019-04-10</td>\n",
       "      <td>29.55</td>\n",
       "    </tr>\n",
       "    <tr>\n",
       "      <th>3811</th>\n",
       "      <td>2019-04-11</td>\n",
       "      <td>28.70</td>\n",
       "    </tr>\n",
       "    <tr>\n",
       "      <th>3812</th>\n",
       "      <td>2019-04-12</td>\n",
       "      <td>26.47</td>\n",
       "    </tr>\n",
       "    <tr>\n",
       "      <th>3813</th>\n",
       "      <td>2019-04-15</td>\n",
       "      <td>26.35</td>\n",
       "    </tr>\n",
       "  </tbody>\n",
       "</table>\n",
       "<p>3814 rows × 2 columns</p>\n",
       "</div>"
      ],
      "text/plain": [
       "            Date   Open\n",
       "0     2004-01-01   9.62\n",
       "1     2004-01-02   9.55\n",
       "2     2004-01-05   9.99\n",
       "3     2004-01-06  10.63\n",
       "4     2004-01-07  11.00\n",
       "...          ...    ...\n",
       "3809  2019-04-09  29.03\n",
       "3810  2019-04-10  29.55\n",
       "3811  2019-04-11  28.70\n",
       "3812  2019-04-12  26.47\n",
       "3813  2019-04-15  26.35\n",
       "\n",
       "[3814 rows x 2 columns]"
      ]
     },
     "execution_count": 226,
     "metadata": {},
     "output_type": "execute_result"
    }
   ],
   "source": [
    "y = petr4.reset_index()\n",
    "y"
   ]
  },
  {
   "cell_type": "code",
   "execution_count": 230,
   "id": "d9813eb8-f3a5-4995-9729-79797c24f73b",
   "metadata": {},
   "outputs": [
    {
     "name": "stdout",
     "output_type": "stream",
     "text": [
      "                               SARIMAX Results                                \n",
      "==============================================================================\n",
      "Dep. Variable:                   Open   No. Observations:                 3814\n",
      "Model:                 ARIMA(1, 0, 0)   Log Likelihood               -3437.382\n",
      "Date:                Fri, 10 Feb 2023   AIC                           6882.764\n",
      "Time:                        22:00:00   BIC                           6907.750\n",
      "Sample:                             0   HQIC                          6891.642\n",
      "                               - 3814                                         \n",
      "Covariance Type:                  opg                                         \n",
      "==============================================================================\n",
      "                 coef    std err          z      P>|z|      [0.025      0.975]\n",
      "------------------------------------------------------------------------------\n",
      "x1             0.0273      0.008      3.258      0.001       0.011       0.044\n",
      "x2         -6.867e-06   2.45e-06     -2.799      0.005   -1.17e-05   -2.06e-06\n",
      "ar.L1          0.9985      0.001   1104.637      0.000       0.997       1.000\n",
      "sigma2         0.3546      0.003    141.336      0.000       0.350       0.359\n",
      "===================================================================================\n",
      "Ljung-Box (L1) (Q):                  31.18   Jarque-Bera (JB):             57392.45\n",
      "Prob(Q):                              0.00   Prob(JB):                         0.00\n",
      "Heteroskedasticity (H):               0.50   Skew:                             0.06\n",
      "Prob(H) (two-sided):                  0.00   Kurtosis:                        22.00\n",
      "===================================================================================\n",
      "\n",
      "Warnings:\n",
      "[1] Covariance matrix calculated using the outer product of gradients (complex-step).\n"
     ]
    }
   ],
   "source": [
    "arima = sm.tsa.arima.ARIMA(petr4, order=(1, 0, 0), trend=[0, 1,1]).fit()\n",
    "print(arima.summary())"
   ]
  },
  {
   "cell_type": "code",
   "execution_count": 231,
   "id": "fa5ae89c-d868-40a7-963e-1f925a7263c8",
   "metadata": {},
   "outputs": [
    {
     "name": "stdout",
     "output_type": "stream",
     "text": [
      "                               SARIMAX Results                                \n",
      "==============================================================================\n",
      "Dep. Variable:                   Open   No. Observations:                 3814\n",
      "Model:              ARIMA(1, 1, 0, 2)   Log Likelihood               -4568.772\n",
      "Date:                Fri, 10 Feb 2023   AIC                           9145.544\n",
      "Time:                        22:00:03   BIC                           9170.528\n",
      "Sample:                             0   HQIC                          9154.422\n",
      "                               - 3814                                         \n",
      "Covariance Type:                  opg                                         \n",
      "==============================================================================\n",
      "                 coef    std err          z      P>|z|      [0.025      0.975]\n",
      "------------------------------------------------------------------------------\n",
      "x1             0.0085      0.013      0.642      0.521      -0.017       0.034\n",
      "x2          -1.06e-06   3.28e-06     -0.323      0.746   -7.49e-06    5.37e-06\n",
      "ar.S.L2       -0.0332      0.007     -4.576      0.000      -0.047      -0.019\n",
      "sigma2         0.6435      0.006    114.957      0.000       0.633       0.654\n",
      "===================================================================================\n",
      "Ljung-Box (L1) (Q):                 818.15   Jarque-Bera (JB):             25204.19\n",
      "Prob(Q):                              0.00   Prob(JB):                         0.00\n",
      "Heteroskedasticity (H):               0.51   Skew:                             0.12\n",
      "Prob(H) (two-sided):                  0.00   Kurtosis:                        15.59\n",
      "===================================================================================\n",
      "\n",
      "Warnings:\n",
      "[1] Covariance matrix calculated using the outer product of gradients (complex-step).\n"
     ]
    }
   ],
   "source": [
    "sarima = sm.tsa.arima.ARIMA(petr4, seasonal_order=(1, 1, 0, 2), trend=[0, 1,1]).fit()\n",
    "print(sarima.summary())"
   ]
  },
  {
   "cell_type": "markdown",
   "id": "809aa7de-53e5-4ec9-8044-d878259fc54e",
   "metadata": {},
   "source": [
    "Análise dos resultados:\n",
    "* Independência serial dos resíduos\n",
    "* Heteroscedasticidade\n",
    "* Normalidade dos resíduos\n",
    "* Assimetria\n",
    "* Curtose\n",
    "* Premissas do modelos satisfeitas?\n",
    "(supondo que sim, apenas para fins didáticos, continuamos a análise:)\n",
    "* quais coeficientes são significantes?\n",
    "* analise dos coeficientes significantes"
   ]
  },
  {
   "cell_type": "code",
   "execution_count": 232,
   "id": "e1d07eba-f17d-4fca-a33f-bd3fe3b9bb31",
   "metadata": {},
   "outputs": [
    {
     "data": {
      "image/png": "[encoded data removed]",
      "text/plain": [
       "<Figure size 1500x600 with 4 Axes>"
      ]
     },
     "metadata": {},
     "output_type": "display_data"
    }
   ],
   "source": [
    "arima.plot_diagnostics(figsize=(15,6),lags=10);"
   ]
  },
  {
   "cell_type": "code",
   "execution_count": 233,
   "id": "10e3cb7d-2dfa-4d52-86c8-9f2c01c34efe",
   "metadata": {},
   "outputs": [
    {
     "data": {
      "text/plain": [
       "Date\n",
       "2004-01-01    9.592682\n",
       "2004-01-02   -0.083156\n",
       "2004-01-05    0.426715\n",
       "2004-01-06    0.627337\n",
       "2004-01-07    0.358255\n",
       "                ...   \n",
       "2019-04-09    0.031289\n",
       "2019-04-10    0.581295\n",
       "2019-04-11   -0.787887\n",
       "2019-04-12   -2.169091\n",
       "2019-04-15   -0.062329\n",
       "Length: 3814, dtype: float64"
      ]
     },
     "execution_count": 233,
     "metadata": {},
     "output_type": "execute_result"
    }
   ],
   "source": [
    "arima.resid"
   ]
  },
  {
   "cell_type": "code",
   "execution_count": 234,
   "id": "50098637-78fa-4405-8e5c-1e411f294f2c",
   "metadata": {},
   "outputs": [
    {
     "data": {
      "text/plain": [
       "3814    26.292455\n",
       "3815    26.234945\n",
       "3816    26.177468\n",
       "3817    26.120026\n",
       "3818    26.062618\n",
       "3819    26.005243\n",
       "3820    25.947903\n",
       "3821    25.890596\n",
       "3822    25.833322\n",
       "3823    25.776083\n",
       "Name: predicted_mean, dtype: float64"
      ]
     },
     "execution_count": 234,
     "metadata": {},
     "output_type": "execute_result"
    }
   ],
   "source": [
    "arima.forecast(steps=10)"
   ]
  },
  {
   "cell_type": "markdown",
   "id": "a749cb59-c0c8-4968-a6a4-2976f7380b9a",
   "metadata": {},
   "source": [
    "## Auto ARMA\n",
    "(só funciona para séries estacionárias - não é o nosso caso)"
   ]
  },
  {
   "cell_type": "code",
   "execution_count": 235,
   "id": "fb98e0a1-0319-4c7e-8a16-789913b8908d",
   "metadata": {},
   "outputs": [],
   "source": [
    "from statsmodels.tsa.stattools import arma_order_select_ic"
   ]
  },
  {
   "cell_type": "code",
   "execution_count": 237,
   "id": "aaffd7b3-a7b2-481b-ae7a-2263d7aaf364",
   "metadata": {},
   "outputs": [],
   "source": [
    "auto_arma = arma_order_select_ic(r_dia, max_ar=4, max_ma=2, ic=['aic','bic'])\n",
    "#Note que a otimização de MV não convergiu, como esperado.\n",
    "#Não deveríamos rodar essa função nesse caso. Fazemos apenas para apresentar a função."
   ]
  },
  {
   "cell_type": "code",
   "execution_count": 238,
   "id": "8297ce6a-e1b0-474b-a551-847bde1328f4",
   "metadata": {},
   "outputs": [
    {
     "data": {
      "text/html": [
       "<div>\n",
       "<style scoped>\n",
       "    .dataframe tbody tr th:only-of-type {\n",
       "        vertical-align: middle;\n",
       "    }\n",
       "\n",
       "    .dataframe tbody tr th {\n",
       "        vertical-align: top;\n",
       "    }\n",
       "\n",
       "    .dataframe thead th {\n",
       "        text-align: right;\n",
       "    }\n",
       "</style>\n",
       "<table border=\"1\" class=\"dataframe\">\n",
       "  <thead>\n",
       "    <tr style=\"text-align: right;\">\n",
       "      <th></th>\n",
       "      <th>0</th>\n",
       "      <th>1</th>\n",
       "      <th>2</th>\n",
       "    </tr>\n",
       "  </thead>\n",
       "  <tbody>\n",
       "    <tr>\n",
       "      <th>0</th>\n",
       "      <td>-16336.368306</td>\n",
       "      <td>-16363.036165</td>\n",
       "      <td>-16361.094614</td>\n",
       "    </tr>\n",
       "    <tr>\n",
       "      <th>1</th>\n",
       "      <td>-16362.959869</td>\n",
       "      <td>-16361.087407</td>\n",
       "      <td>-16359.314179</td>\n",
       "    </tr>\n",
       "    <tr>\n",
       "      <th>2</th>\n",
       "      <td>-16361.168183</td>\n",
       "      <td>-16359.113485</td>\n",
       "      <td>-16361.844216</td>\n",
       "    </tr>\n",
       "    <tr>\n",
       "      <th>3</th>\n",
       "      <td>-16361.089210</td>\n",
       "      <td>-16359.313068</td>\n",
       "      <td>-16358.709686</td>\n",
       "    </tr>\n",
       "    <tr>\n",
       "      <th>4</th>\n",
       "      <td>-16362.743999</td>\n",
       "      <td>-16360.560299</td>\n",
       "      <td>-16359.811448</td>\n",
       "    </tr>\n",
       "  </tbody>\n",
       "</table>\n",
       "</div>"
      ],
      "text/plain": [
       "              0             1             2\n",
       "0 -16336.368306 -16363.036165 -16361.094614\n",
       "1 -16362.959869 -16361.087407 -16359.314179\n",
       "2 -16361.168183 -16359.113485 -16361.844216\n",
       "3 -16361.089210 -16359.313068 -16358.709686\n",
       "4 -16362.743999 -16360.560299 -16359.811448"
      ]
     },
     "execution_count": 238,
     "metadata": {},
     "output_type": "execute_result"
    }
   ],
   "source": [
    "auto_arma.aic"
   ]
  },
  {
   "cell_type": "code",
   "execution_count": 239,
   "id": "79b9af16-8298-47d7-85ac-3e55607ba3ff",
   "metadata": {},
   "outputs": [
    {
     "data": {
      "text/html": [
       "<div>\n",
       "<style scoped>\n",
       "    .dataframe tbody tr th:only-of-type {\n",
       "        vertical-align: middle;\n",
       "    }\n",
       "\n",
       "    .dataframe tbody tr th {\n",
       "        vertical-align: top;\n",
       "    }\n",
       "\n",
       "    .dataframe thead th {\n",
       "        text-align: right;\n",
       "    }\n",
       "</style>\n",
       "<table border=\"1\" class=\"dataframe\">\n",
       "  <thead>\n",
       "    <tr style=\"text-align: right;\">\n",
       "      <th></th>\n",
       "      <th>0</th>\n",
       "      <th>1</th>\n",
       "      <th>2</th>\n",
       "    </tr>\n",
       "  </thead>\n",
       "  <tbody>\n",
       "    <tr>\n",
       "      <th>0</th>\n",
       "      <td>-16323.875963</td>\n",
       "      <td>-16344.297650</td>\n",
       "      <td>-16336.109928</td>\n",
       "    </tr>\n",
       "    <tr>\n",
       "      <th>1</th>\n",
       "      <td>-16344.221354</td>\n",
       "      <td>-16336.102721</td>\n",
       "      <td>-16328.083321</td>\n",
       "    </tr>\n",
       "    <tr>\n",
       "      <th>2</th>\n",
       "      <td>-16336.183497</td>\n",
       "      <td>-16327.882628</td>\n",
       "      <td>-16324.367186</td>\n",
       "    </tr>\n",
       "    <tr>\n",
       "      <th>3</th>\n",
       "      <td>-16329.858352</td>\n",
       "      <td>-16321.836039</td>\n",
       "      <td>-16314.986485</td>\n",
       "    </tr>\n",
       "    <tr>\n",
       "      <th>4</th>\n",
       "      <td>-16325.266970</td>\n",
       "      <td>-16316.837098</td>\n",
       "      <td>-16309.842076</td>\n",
       "    </tr>\n",
       "  </tbody>\n",
       "</table>\n",
       "</div>"
      ],
      "text/plain": [
       "              0             1             2\n",
       "0 -16323.875963 -16344.297650 -16336.109928\n",
       "1 -16344.221354 -16336.102721 -16328.083321\n",
       "2 -16336.183497 -16327.882628 -16324.367186\n",
       "3 -16329.858352 -16321.836039 -16314.986485\n",
       "4 -16325.266970 -16316.837098 -16309.842076"
      ]
     },
     "execution_count": 239,
     "metadata": {},
     "output_type": "execute_result"
    }
   ],
   "source": [
    "auto_arma.bic"
   ]
  },
  {
   "cell_type": "code",
   "execution_count": 240,
   "id": "01ca2891-2d90-40f4-92c4-cfe8c0626fc0",
   "metadata": {},
   "outputs": [
    {
     "data": {
      "text/plain": [
       "(0, 1)"
      ]
     },
     "execution_count": 240,
     "metadata": {},
     "output_type": "execute_result"
    }
   ],
   "source": [
    "#Melhor modelo segundo o AIC\n",
    "auto_arma.aic_min_order"
   ]
  },
  {
   "cell_type": "code",
   "execution_count": 241,
   "id": "27c743f7-5c8d-4782-9931-447beedc1d71",
   "metadata": {},
   "outputs": [
    {
     "data": {
      "text/plain": [
       "(0, 1)"
      ]
     },
     "execution_count": 241,
     "metadata": {},
     "output_type": "execute_result"
    }
   ],
   "source": [
    "#Melhor modelo segundo o BIC\n",
    "auto_arma.bic_min_order"
   ]
  },
  {
   "cell_type": "markdown",
   "id": "95f7a396-6ec8-4949-8a93-f5fa6a73441b",
   "metadata": {},
   "source": [
    "# Bootstraping\n",
    "\n",
    "Fornece intervalos de confiança e erros-padrão para parâmetros cujas distribuições amostrais não são conhecidas (ex.: distância interquartílica)"
   ]
  },
  {
   "cell_type": "code",
   "execution_count": 242,
   "id": "5c6fd66b-7f2b-4018-a4dc-e8798670a52e",
   "metadata": {},
   "outputs": [],
   "source": [
    "from scipy.stats import bootstrap"
   ]
  },
  {
   "cell_type": "code",
   "execution_count": 243,
   "id": "2638a524-4102-4c3a-a135-d67f0eaae8fc",
   "metadata": {},
   "outputs": [],
   "source": [
    "import numpy as np\n",
    "x = np.random.gamma(shape=3, scale=.1, size=10000)"
   ]
  },
  {
   "cell_type": "code",
   "execution_count": 244,
   "id": "c2b4f8d3-d321-4308-a173-192d7a2ba3d8",
   "metadata": {},
   "outputs": [
    {
     "data": {
      "image/png": "[encoded data removed]",
      "text/plain": [
       "<Figure size 500x500 with 1 Axes>"
      ]
     },
     "metadata": {},
     "output_type": "display_data"
    }
   ],
   "source": [
    "sns.displot(x);"
   ]
  },
  {
   "cell_type": "code",
   "execution_count": 245,
   "id": "b9e120fe-09a1-4226-9bd2-498c7e616b15",
   "metadata": {},
   "outputs": [],
   "source": [
    "def IQR(x, **kwargs):\n",
    "    Q3 = np.quantile(x, q=.75,**kwargs)\n",
    "    Q1 = np.quantile(x, q=.25, **kwargs)\n",
    "    return(Q3-Q1)"
   ]
  },
  {
   "cell_type": "code",
   "execution_count": 246,
   "id": "375d416d-6c0d-4c15-89ab-4e84c28dfa05",
   "metadata": {},
   "outputs": [
    {
     "data": {
      "text/plain": [
       "0.22111979707557194"
      ]
     },
     "execution_count": 246,
     "metadata": {},
     "output_type": "execute_result"
    }
   ],
   "source": [
    "IQR(x)"
   ]
  },
  {
   "cell_type": "code",
   "execution_count": 247,
   "id": "de1b1bae-d81b-46ae-b5a1-66c5f39464ef",
   "metadata": {},
   "outputs": [
    {
     "data": {
      "text/plain": [
       "(array([0.28037976, 0.33252102, 0.32630072, ..., 0.17743816, 0.27474339,\n",
       "        0.02290219]),)"
      ]
     },
     "execution_count": 247,
     "metadata": {},
     "output_type": "execute_result"
    }
   ],
   "source": [
    "x = (x,)  # amostras devem estar em uma sequência\n",
    "x"
   ]
  },
  {
   "cell_type": "code",
   "execution_count": 248,
   "id": "82deed78-3c99-4c80-b5e1-4c41cdd94bb4",
   "metadata": {},
   "outputs": [
    {
     "name": "stdout",
     "output_type": "stream",
     "text": [
      "BootstrapResult(confidence_interval=ConfidenceInterval(low=0.21508980094586438, high=0.22692758600300528), standard_error=0.0030765757335712764)\n"
     ]
    }
   ],
   "source": [
    "boot = bootstrap(x, IQR, confidence_level=0.95, n_resamples=1000)\n",
    "print(boot)"
   ]
  },
  {
   "cell_type": "code",
   "execution_count": 249,
   "id": "3e5f7416-eb9e-4936-b085-db6aa732feef",
   "metadata": {},
   "outputs": [
    {
     "name": "stdout",
     "output_type": "stream",
     "text": [
      "True\n"
     ]
    }
   ],
   "source": [
    "#Intervalo de confiança estimado contém valor verdadeiro?\n",
    "a, b = boot.confidence_interval\n",
    "print((IQR(x) > a) and (IQR(x) < b))"
   ]
  },
  {
   "cell_type": "markdown",
   "id": "46222b02-5807-4009-b99f-8f5d0614a2e9",
   "metadata": {},
   "source": [
    "## Value at Risk (VAR) empírico"
   ]
  },
  {
   "cell_type": "code",
   "execution_count": 250,
   "id": "c56252d1-5d2e-4123-a454-abb56080cd9b",
   "metadata": {},
   "outputs": [
    {
     "data": {
      "text/plain": [
       "<seaborn.axisgrid.FacetGrid at 0x14c28c5b940>"
      ]
     },
     "execution_count": 250,
     "metadata": {},
     "output_type": "execute_result"
    },
    {
     "data": {
      "image/png": "[encoded data removed]",
      "text/plain": [
       "<Figure size 587x500 with 1 Axes>"
      ]
     },
     "metadata": {},
     "output_type": "display_data"
    }
   ],
   "source": [
    "x = petr4.pct_change().dropna() #retorno diário\n",
    "sns.displot(x)"
   ]
  },
  {
   "cell_type": "code",
   "execution_count": 251,
   "id": "8a30bcc8-ad9a-48da-ab8f-3f1f376f1b1f",
   "metadata": {},
   "outputs": [],
   "source": [
    "def var5(x, **kwargs):\n",
    "    return(np.quantile(x,q=0.05,**kwargs))"
   ]
  },
  {
   "cell_type": "code",
   "execution_count": 252,
   "id": "bf449760-9900-4af8-bd31-6f4131ca60ca",
   "metadata": {},
   "outputs": [
    {
     "data": {
      "text/plain": [
       "-0.04015664834578956"
      ]
     },
     "execution_count": 252,
     "metadata": {},
     "output_type": "execute_result"
    }
   ],
   "source": [
    "var5(x)"
   ]
  },
  {
   "cell_type": "code",
   "execution_count": 253,
   "id": "59f213dd-ada2-456c-8b40-0a25233037bd",
   "metadata": {},
   "outputs": [
    {
     "name": "stdout",
     "output_type": "stream",
     "text": [
      "ConfidenceInterval(low=array([-0.04277129]), high=array([-0.03766799]))\n"
     ]
    }
   ],
   "source": [
    "x = (x,)\n",
    "boot = bootstrap(x, var5, confidence_level=0.95, n_resamples=1000)\n",
    "print(boot.confidence_interval)"
   ]
  },
  {
   "cell_type": "code",
   "execution_count": 278,
   "id": "1fe097c7-64bf-427d-95aa-c3cbcdd97d5a",
   "metadata": {},
   "outputs": [
    {
     "data": {
      "image/png": "[encoded data removed]",
      "text/plain": [
       "<Figure size 1000x600 with 1 Axes>"
      ]
     },
     "metadata": {},
     "output_type": "display_data"
    }
   ],
   "source": [
    "plt.figure(figsize=(10,6))\n",
    "sns.distplot(x)\n",
    "a, b = boot.confidence_interval\n",
    "plt.axvline(x=a, c='gray', ls='dashed')\n",
    "plt.axvline(x=b, c='gray', ls='dashed')\n",
    "plt.fill_betweenx((0,100),a,b, color='red', alpha=0.1)\n",
    "plt.ylim(0,25)\n",
    "plt.show()"
   ]
  },
  {
   "cell_type": "markdown",
   "id": "f629b868-2394-40ef-9ba9-07dc33da5f43",
   "metadata": {
    "tags": []
   },
   "source": [
    "# Ajuste de uma curva genérica a um conjunto de pontos"
   ]
  },
  {
   "cell_type": "code",
   "execution_count": 261,
   "id": "5cbbf0ab-419f-46ab-8665-3d5055e33cb1",
   "metadata": {},
   "outputs": [
    {
     "data": {
      "text/html": [
       "<div>\n",
       "<style scoped>\n",
       "    .dataframe tbody tr th:only-of-type {\n",
       "        vertical-align: middle;\n",
       "    }\n",
       "\n",
       "    .dataframe tbody tr th {\n",
       "        vertical-align: top;\n",
       "    }\n",
       "\n",
       "    .dataframe thead th {\n",
       "        text-align: right;\n",
       "    }\n",
       "</style>\n",
       "<table border=\"1\" class=\"dataframe\">\n",
       "  <thead>\n",
       "    <tr style=\"text-align: right;\">\n",
       "      <th></th>\n",
       "      <th>Value</th>\n",
       "    </tr>\n",
       "    <tr>\n",
       "      <th>Year</th>\n",
       "      <th></th>\n",
       "    </tr>\n",
       "  </thead>\n",
       "  <tbody>\n",
       "    <tr>\n",
       "      <th>1960</th>\n",
       "      <td>0.059184</td>\n",
       "    </tr>\n",
       "    <tr>\n",
       "      <th>1961</th>\n",
       "      <td>0.049557</td>\n",
       "    </tr>\n",
       "    <tr>\n",
       "      <th>1962</th>\n",
       "      <td>0.046685</td>\n",
       "    </tr>\n",
       "    <tr>\n",
       "      <th>1963</th>\n",
       "      <td>0.050097</td>\n",
       "    </tr>\n",
       "    <tr>\n",
       "      <th>1964</th>\n",
       "      <td>0.059062</td>\n",
       "    </tr>\n",
       "  </tbody>\n",
       "</table>\n",
       "</div>"
      ],
      "text/plain": [
       "         Value\n",
       "Year          \n",
       "1960  0.059184\n",
       "1961  0.049557\n",
       "1962  0.046685\n",
       "1963  0.050097\n",
       "1964  0.059062"
      ]
     },
     "execution_count": 261,
     "metadata": {},
     "output_type": "execute_result"
    }
   ],
   "source": [
    "#PIB da China de 1960 a 2014\n",
    "china = pd.read_csv('https://raw.githubusercontent.com/sudhanshu456/Machine-Learning-with-Python-IBM/master/Week%202/Data_set/china_gdp.csv', \n",
    "                    index_col='Year', sep=',', decimal='.')\n",
    "\n",
    "china['Value'] = china['Value'] / 1e12 #coloca os valores em trilhões \n",
    "\n",
    "china.head()"
   ]
  },
  {
   "cell_type": "code",
   "execution_count": 262,
   "id": "45ac6967-6885-4d02-8f39-71df5635b467",
   "metadata": {},
   "outputs": [
    {
     "data": {
      "text/plain": [
       "<AxesSubplot:xlabel='Year'>"
      ]
     },
     "execution_count": 262,
     "metadata": {},
     "output_type": "execute_result"
    },
    {
     "data": {
      "image/png": "[encoded data removed]",
      "text/plain": [
       "<Figure size 2000x600 with 1 Axes>"
      ]
     },
     "metadata": {},
     "output_type": "display_data"
    }
   ],
   "source": [
    "china.plot(figsize=(20,6), c='red')"
   ]
  },
  {
   "cell_type": "code",
   "execution_count": 263,
   "id": "0d1b93ce-11c8-415e-a554-3375a63e4851",
   "metadata": {},
   "outputs": [],
   "source": [
    "def f(x,a,b):\n",
    "    return(a * np.exp(b*(x-1960)))"
   ]
  },
  {
   "cell_type": "code",
   "execution_count": 264,
   "id": "74c230d3-7bf1-445b-8ea3-cdc2ae9b2d8a",
   "metadata": {},
   "outputs": [],
   "source": [
    "from scipy.optimize import curve_fit"
   ]
  },
  {
   "cell_type": "code",
   "execution_count": 265,
   "id": "43f6729f-445d-46f4-a7a9-f468ad831561",
   "metadata": {},
   "outputs": [],
   "source": [
    "X = china.index.to_numpy()\n",
    "y = china.Value.to_numpy()"
   ]
  },
  {
   "cell_type": "code",
   "execution_count": 266,
   "id": "ea388af3-e8e7-48e5-879b-1a28aacd055d",
   "metadata": {},
   "outputs": [],
   "source": [
    "popt, pcov = curve_fit(f, X, y, p0=(0,1))"
   ]
  },
  {
   "cell_type": "code",
   "execution_count": 267,
   "id": "b8ae8527-a126-40a9-b77f-5e5dbd1aef7b",
   "metadata": {},
   "outputs": [
    {
     "data": {
      "text/plain": [
       "(0.0024698043889228452, 0.15550483241633525)"
      ]
     },
     "execution_count": 267,
     "metadata": {},
     "output_type": "execute_result"
    }
   ],
   "source": [
    "a, b = popt\n",
    "a, b"
   ]
  },
  {
   "cell_type": "code",
   "execution_count": 268,
   "id": "b80c9c3b-809f-4b38-a391-ecc41a4729a4",
   "metadata": {},
   "outputs": [
    {
     "data": {
      "image/png": "[encoded data removed]",
      "text/plain": [
       "<Figure size 2000x600 with 1 Axes>"
      ]
     },
     "metadata": {},
     "output_type": "display_data"
    }
   ],
   "source": [
    "plt.figure(figsize=(20,6))\n",
    "plt.plot(china.index, china.Value, label='PIB China (real)', c='red')\n",
    "plt.plot(china.index, f(china.index, *popt), label='Curva modelada', c='gray', linewidth=2, linestyle='dashed')\n",
    "plt.legend()\n",
    "plt.show()"
   ]
  },
  {
   "cell_type": "code",
   "execution_count": 269,
   "id": "3145b961-d7c5-4fd1-9fbc-6ebfe9bdcecd",
   "metadata": {},
   "outputs": [
    {
     "data": {
      "text/plain": [
       "array([[ 1.48290400e-07, -1.16678097e-06],\n",
       "       [-1.16678097e-06,  9.21631794e-06]])"
      ]
     },
     "execution_count": 269,
     "metadata": {},
     "output_type": "execute_result"
    }
   ],
   "source": [
    "pcov"
   ]
  },
  {
   "cell_type": "code",
   "execution_count": 270,
   "id": "581801bc-2cb7-4718-9b07-40b349ebfd46",
   "metadata": {},
   "outputs": [
    {
     "data": {
      "text/plain": [
       "(0.00038508492616158325, 0.0030358389183137327)"
      ]
     },
     "execution_count": 270,
     "metadata": {},
     "output_type": "execute_result"
    }
   ],
   "source": [
    "#Erros-padrão dos coeficientes estimados\n",
    "sigma_a, sigma_b = np.sqrt(np.diag(pcov))\n",
    "sigma_a, sigma_b"
   ]
  },
  {
   "cell_type": "markdown",
   "id": "abff9a46-caa8-4d9b-8b25-4e4f4b8a6209",
   "metadata": {},
   "source": [
    "# Simulações de Monte Carlo"
   ]
  },
  {
   "cell_type": "markdown",
   "id": "0e5744ca-a6c2-442d-a41b-ab5b88a911c2",
   "metadata": {},
   "source": [
    "$$\n",
    "y = a \\cdot e^{b\\cdot x} \\implies T_{duplic} = \\frac{\\ln(2)}{b}\n",
    "$$"
   ]
  },
  {
   "cell_type": "code",
   "execution_count": 271,
   "id": "c1482b51-59e2-4c31-8842-78e34402ce7b",
   "metadata": {},
   "outputs": [],
   "source": [
    "def tempo_duplic(b):\n",
    "    return(np.log(2)/b)"
   ]
  },
  {
   "cell_type": "code",
   "execution_count": 272,
   "id": "6f216c60-ed51-4429-8e61-75c48b52e3db",
   "metadata": {},
   "outputs": [
    {
     "data": {
      "text/plain": [
       "4.457399617679871"
      ]
     },
     "execution_count": 272,
     "metadata": {},
     "output_type": "execute_result"
    }
   ],
   "source": [
    "#Usando a estimativa pontual de b...\n",
    "tempo_duplic(b)"
   ]
  },
  {
   "cell_type": "markdown",
   "id": "f4112b6d-2ba4-4248-b68f-29a7a6c5b687",
   "metadata": {},
   "source": [
    "O valor de $b$ é conhecido com incerteza.  \n",
    "Sabemos sua média e desvio-padrão. \n",
    "Vamos simular 1 milhão de valores para b e construir uma distribuição de probabilidades para o tempo de duplicação:"
   ]
  },
  {
   "cell_type": "code",
   "execution_count": 273,
   "id": "a3d9062f-f30c-41d2-be21-e853362f270d",
   "metadata": {},
   "outputs": [
    {
     "data": {
      "text/plain": [
       "array([0.15897595, 0.15444613, 0.15021272, 0.15834193, 0.1551474 ,\n",
       "       0.16004065, 0.1583437 , 0.16070253, 0.15708706, 0.16191686])"
      ]
     },
     "execution_count": 273,
     "metadata": {},
     "output_type": "execute_result"
    }
   ],
   "source": [
    "N = 10000000\n",
    "valores_simulados = np.random.normal(loc = popt[1], scale = sigma_b, size=N)\n",
    "valores_simulados[:10]"
   ]
  },
  {
   "cell_type": "code",
   "execution_count": 274,
   "id": "aaa2100e-272e-4795-a0e2-b516aeea590c",
   "metadata": {},
   "outputs": [
    {
     "data": {
      "text/plain": [
       "array([4.36007577, 4.48795444, 4.61443719, 4.3775339 , 4.46766859,\n",
       "       4.33106949, 4.37748512, 4.3132313 , 4.41250346, 4.28088333])"
      ]
     },
     "execution_count": 274,
     "metadata": {},
     "output_type": "execute_result"
    }
   ],
   "source": [
    "tempos_duplic_simulados = np.apply_along_axis(tempo_duplic,0, valores_simulados)\n",
    "tempos_duplic_simulados[:10]"
   ]
  },
  {
   "cell_type": "code",
   "execution_count": 275,
   "id": "8a97e657-1399-45e3-b25a-b1b0270a6783",
   "metadata": {},
   "outputs": [
    {
     "data": {
      "text/plain": [
       "count    10000000.00\n",
       "mean            4.46\n",
       "std             0.09\n",
       "min             4.06\n",
       "25%             4.40\n",
       "50%             4.46\n",
       "75%             4.52\n",
       "max             4.95\n",
       "dtype: float64"
      ]
     },
     "execution_count": 275,
     "metadata": {},
     "output_type": "execute_result"
    }
   ],
   "source": [
    "pd.Series(tempos_duplic_simulados).describe().round(2)"
   ]
  },
  {
   "cell_type": "code",
   "execution_count": 276,
   "id": "ab6de5a2-0494-46dc-9bde-e2ca3c48eee8",
   "metadata": {},
   "outputs": [
    {
     "data": {
      "image/png": "[encoded data removed]",
      "text/plain": [
       "<Figure size 500x500 with 1 Axes>"
      ]
     },
     "metadata": {},
     "output_type": "display_data"
    }
   ],
   "source": [
    "sns.displot(tempos_duplic_simulados);"
   ]
  },
  {
   "cell_type": "code",
   "execution_count": 277,
   "id": "8047f3e7-90eb-4729-9919-1bae467c78ea",
   "metadata": {},
   "outputs": [
    {
     "data": {
      "text/html": [
       "<div>\n",
       "<style scoped>\n",
       "    .dataframe tbody tr th:only-of-type {\n",
       "        vertical-align: middle;\n",
       "    }\n",
       "\n",
       "    .dataframe tbody tr th {\n",
       "        vertical-align: top;\n",
       "    }\n",
       "\n",
       "    .dataframe thead th {\n",
       "        text-align: right;\n",
       "    }\n",
       "</style>\n",
       "<table border=\"1\" class=\"dataframe\">\n",
       "  <thead>\n",
       "    <tr style=\"text-align: right;\">\n",
       "      <th></th>\n",
       "      <th>Value</th>\n",
       "    </tr>\n",
       "    <tr>\n",
       "      <th>Year</th>\n",
       "      <th></th>\n",
       "    </tr>\n",
       "  </thead>\n",
       "  <tbody>\n",
       "    <tr>\n",
       "      <th>2003</th>\n",
       "      <td>1.649929</td>\n",
       "    </tr>\n",
       "    <tr>\n",
       "      <th>2004</th>\n",
       "      <td>1.941746</td>\n",
       "    </tr>\n",
       "    <tr>\n",
       "      <th>2005</th>\n",
       "      <td>2.268599</td>\n",
       "    </tr>\n",
       "    <tr>\n",
       "      <th>2006</th>\n",
       "      <td>2.729784</td>\n",
       "    </tr>\n",
       "    <tr>\n",
       "      <th>2007</th>\n",
       "      <td>3.523094</td>\n",
       "    </tr>\n",
       "    <tr>\n",
       "      <th>2008</th>\n",
       "      <td>4.558431</td>\n",
       "    </tr>\n",
       "    <tr>\n",
       "      <th>2009</th>\n",
       "      <td>5.059420</td>\n",
       "    </tr>\n",
       "    <tr>\n",
       "      <th>2010</th>\n",
       "      <td>6.039659</td>\n",
       "    </tr>\n",
       "    <tr>\n",
       "      <th>2011</th>\n",
       "      <td>7.492432</td>\n",
       "    </tr>\n",
       "    <tr>\n",
       "      <th>2012</th>\n",
       "      <td>8.461623</td>\n",
       "    </tr>\n",
       "    <tr>\n",
       "      <th>2013</th>\n",
       "      <td>9.490603</td>\n",
       "    </tr>\n",
       "    <tr>\n",
       "      <th>2014</th>\n",
       "      <td>10.354832</td>\n",
       "    </tr>\n",
       "  </tbody>\n",
       "</table>\n",
       "</div>"
      ],
      "text/plain": [
       "          Value\n",
       "Year           \n",
       "2003   1.649929\n",
       "2004   1.941746\n",
       "2005   2.268599\n",
       "2006   2.729784\n",
       "2007   3.523094\n",
       "2008   4.558431\n",
       "2009   5.059420\n",
       "2010   6.039659\n",
       "2011   7.492432\n",
       "2012   8.461623\n",
       "2013   9.490603\n",
       "2014  10.354832"
      ]
     },
     "execution_count": 277,
     "metadata": {},
     "output_type": "execute_result"
    }
   ],
   "source": [
    "china.tail(12)"
   ]
  },
  {
   "cell_type": "code",
   "execution_count": null,
   "id": "ded15ad6-344e-4534-85ad-a0b0b1c230d5",
   "metadata": {},
   "outputs": [],
   "source": []
  }
 ],
 "metadata": {
  "kernelspec": {
   "display_name": "Python 3 (ipykernel)",
   "language": "python",
   "name": "python3"
  },
  "language_info": {
   "codemirror_mode": {
    "name": "ipython",
    "version": 3
   },
   "file_extension": ".py",
   "mimetype": "text/x-python",
   "name": "python",
   "nbconvert_exporter": "python",
   "pygments_lexer": "ipython3",
   "version": "3.9.13"
  }
 },
 "nbformat": 4,
 "nbformat_minor": 5
}
