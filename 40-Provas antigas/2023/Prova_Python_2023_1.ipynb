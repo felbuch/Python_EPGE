{
 "cells": [
  {
   "cell_type": "markdown",
   "id": "df9be10a-238a-4d92-9c2f-9e8c1ee98e4d",
   "metadata": {},
   "source": [
    "## Questão 1"
   ]
  },
  {
   "cell_type": "markdown",
   "id": "ea6e1ed1-8d9e-4ad0-9a0a-f1ce85398cd5",
   "metadata": {
    "execution": {
     "iopub.execute_input": "2023-03-08T22:54:51.334247Z",
     "iopub.status.busy": "2023-03-08T22:54:51.333591Z",
     "iopub.status.idle": "2023-03-08T22:54:51.341973Z",
     "shell.execute_reply": "2023-03-08T22:54:51.341105Z",
     "shell.execute_reply.started": "2023-03-08T22:54:51.334165Z"
    },
    "tags": []
   },
   "source": [
    "### (a)"
   ]
  },
  {
   "cell_type": "markdown",
   "id": "3be04d4b-95d8-4ba4-a047-36cf20fb7434",
   "metadata": {},
   "source": [
    "Um número narcisista é um número que é igual à soma de seus dígitos, cada um elevado ao número de dígitos.\n",
    "\n",
    "Então, por exemplo, 153 é um número narcisista, pois $1^3 + 5^3 + 3^3 = 153$.\n",
    "\n",
    "Similarmente, 1634 também o é, pois $1^4 + 6^4 + 3^4 + 4^4 = 1634$. \n",
    "\n",
    "O número 7 também é narcisista, pois $7^1 = 7$ (assim como os números 0,1,2,3,4,5,6,7,8 e 9).\n",
    "\n",
    "Cria uma função chamada `narc` que receba um número $n$ e retorne os booleanos `True` caso ele seja narcisista e `False` caso contrátio."
   ]
  },
  {
   "cell_type": "code",
   "execution_count": 19,
   "id": "650704f1-e2ab-4fb7-b700-1d95eef69d8f",
   "metadata": {
    "execution": {
     "iopub.execute_input": "2023-03-24T16:37:59.908687Z",
     "iopub.status.busy": "2023-03-24T16:37:59.908116Z",
     "iopub.status.idle": "2023-03-24T16:37:59.914490Z",
     "shell.execute_reply": "2023-03-24T16:37:59.913550Z",
     "shell.execute_reply.started": "2023-03-24T16:37:59.908649Z"
    },
    "tags": []
   },
   "outputs": [],
   "source": [
    "\n"
   ]
  },
  {
   "cell_type": "code",
   "execution_count": 20,
   "id": "7fedcd88-3665-4781-a6b4-b20a727fd6bb",
   "metadata": {
    "execution": {
     "iopub.execute_input": "2023-03-24T16:38:00.104278Z",
     "iopub.status.busy": "2023-03-24T16:38:00.103360Z",
     "iopub.status.idle": "2023-03-24T16:38:00.112484Z",
     "shell.execute_reply": "2023-03-24T16:38:00.111082Z",
     "shell.execute_reply.started": "2023-03-24T16:38:00.104223Z"
    },
    "tags": []
   },
   "outputs": [],
   "source": [
    "assert narc(4)\n",
    "assert narc(153)"
   ]
  },
  {
   "cell_type": "markdown",
   "id": "bdf94787-58cd-4a31-bd35-c8eb92859326",
   "metadata": {},
   "source": [
    "### (b)\n",
    "\n",
    "Utilizando a função do item anterior, faça uma função chamada `lista_narc` que receba um número inteiro $n$ e retorne uma lista com os $n$ primeiros números narcisistas.\n",
    "\n",
    "Você pode verificarVerifique sua resposta imprimindo os 11 primeiros números narcisistas. Sua resposta deve ser 0, 1, 2, 3, 4, 5, 6, 7, 8, 9, 153."
   ]
  },
  {
   "cell_type": "code",
   "execution_count": null,
   "id": "d3c1eaf1-24d6-46a5-87ae-8588c1ccf689",
   "metadata": {
    "tags": []
   },
   "outputs": [],
   "source": []
  },
  {
   "cell_type": "code",
   "execution_count": 1,
   "id": "8cc4e047-1b20-4d2a-86bc-a49261a97c85",
   "metadata": {
    "execution": {
     "iopub.execute_input": "2023-03-24T19:15:52.266435Z",
     "iopub.status.busy": "2023-03-24T19:15:52.265730Z",
     "iopub.status.idle": "2023-03-24T19:15:52.381695Z",
     "shell.execute_reply": "2023-03-24T19:15:52.379866Z",
     "shell.execute_reply.started": "2023-03-24T19:15:52.266331Z"
    },
    "tags": []
   },
   "outputs": [
    {
     "ename": "NameError",
     "evalue": "name 'lista_narc' is not defined",
     "output_type": "error",
     "traceback": [
      "\u001b[0;31m---------------------------------------------------------------------------\u001b[0m",
      "\u001b[0;31mNameError\u001b[0m                                 Traceback (most recent call last)",
      "\u001b[0;32m/tmp/ipykernel_1880/2970467390.py\u001b[0m in \u001b[0;36m<module>\u001b[0;34m\u001b[0m\n\u001b[0;32m----> 1\u001b[0;31m \u001b[0;32massert\u001b[0m \u001b[0mlista_narc\u001b[0m\u001b[0;34m(\u001b[0m\u001b[0;36m0\u001b[0m\u001b[0;34m)\u001b[0m \u001b[0;34m==\u001b[0m \u001b[0;34m[\u001b[0m\u001b[0;34m]\u001b[0m\u001b[0;34m\u001b[0m\u001b[0;34m\u001b[0m\u001b[0m\n\u001b[0m\u001b[1;32m      2\u001b[0m \u001b[0;32massert\u001b[0m \u001b[0mlista_narc\u001b[0m\u001b[0;34m(\u001b[0m\u001b[0;36m1\u001b[0m\u001b[0;34m)\u001b[0m \u001b[0;34m==\u001b[0m \u001b[0;34m[\u001b[0m\u001b[0;36m0\u001b[0m\u001b[0;34m]\u001b[0m\u001b[0;34m\u001b[0m\u001b[0;34m\u001b[0m\u001b[0m\n\u001b[1;32m      3\u001b[0m \u001b[0;32massert\u001b[0m \u001b[0mlista_narc\u001b[0m\u001b[0;34m(\u001b[0m\u001b[0;36m11\u001b[0m\u001b[0;34m)\u001b[0m \u001b[0;34m==\u001b[0m \u001b[0;34m[\u001b[0m\u001b[0;36m0\u001b[0m\u001b[0;34m,\u001b[0m \u001b[0;36m1\u001b[0m\u001b[0;34m,\u001b[0m \u001b[0;36m2\u001b[0m\u001b[0;34m,\u001b[0m \u001b[0;36m3\u001b[0m\u001b[0;34m,\u001b[0m \u001b[0;36m4\u001b[0m\u001b[0;34m,\u001b[0m \u001b[0;36m5\u001b[0m\u001b[0;34m,\u001b[0m \u001b[0;36m6\u001b[0m\u001b[0;34m,\u001b[0m \u001b[0;36m7\u001b[0m\u001b[0;34m,\u001b[0m \u001b[0;36m8\u001b[0m\u001b[0;34m,\u001b[0m \u001b[0;36m9\u001b[0m\u001b[0;34m,\u001b[0m \u001b[0;36m153\u001b[0m\u001b[0;34m]\u001b[0m\u001b[0;34m\u001b[0m\u001b[0;34m\u001b[0m\u001b[0m\n\u001b[1;32m      4\u001b[0m \u001b[0;32massert\u001b[0m \u001b[0mlista_narc\u001b[0m\u001b[0;34m(\u001b[0m\u001b[0;36m20\u001b[0m\u001b[0;34m)\u001b[0m \u001b[0;34m==\u001b[0m \u001b[0;34m[\u001b[0m\u001b[0;36m0\u001b[0m\u001b[0;34m,\u001b[0m \u001b[0;36m1\u001b[0m\u001b[0;34m,\u001b[0m \u001b[0;36m2\u001b[0m\u001b[0;34m,\u001b[0m \u001b[0;36m3\u001b[0m\u001b[0;34m,\u001b[0m \u001b[0;36m4\u001b[0m\u001b[0;34m,\u001b[0m \u001b[0;36m5\u001b[0m\u001b[0;34m,\u001b[0m \u001b[0;36m6\u001b[0m\u001b[0;34m,\u001b[0m \u001b[0;36m7\u001b[0m\u001b[0;34m,\u001b[0m \u001b[0;36m8\u001b[0m\u001b[0;34m,\u001b[0m \u001b[0;36m9\u001b[0m\u001b[0;34m,\u001b[0m \u001b[0;36m153\u001b[0m\u001b[0;34m,\u001b[0m \u001b[0;36m370\u001b[0m\u001b[0;34m,\u001b[0m \u001b[0;36m371\u001b[0m\u001b[0;34m,\u001b[0m \u001b[0;36m407\u001b[0m\u001b[0;34m,\u001b[0m \u001b[0;36m1634\u001b[0m\u001b[0;34m,\u001b[0m \u001b[0;36m8208\u001b[0m\u001b[0;34m,\u001b[0m \u001b[0;36m9474\u001b[0m\u001b[0;34m,\u001b[0m \u001b[0;36m54748\u001b[0m\u001b[0;34m,\u001b[0m \u001b[0;36m92727\u001b[0m\u001b[0;34m,\u001b[0m \u001b[0;36m93084\u001b[0m\u001b[0;34m]\u001b[0m\u001b[0;34m\u001b[0m\u001b[0;34m\u001b[0m\u001b[0m\n",
      "\u001b[0;31mNameError\u001b[0m: name 'lista_narc' is not defined"
     ]
    }
   ],
   "source": [
    "assert lista_narc(0) == []\n",
    "assert lista_narc(1) == [0]\n",
    "assert lista_narc(11) == [0, 1, 2, 3, 4, 5, 6, 7, 8, 9, 153]\n",
    "assert lista_narc(20) == [0, 1, 2, 3, 4, 5, 6, 7, 8, 9, 153, 370, 371, 407, 1634, 8208, 9474, 54748, 92727, 93084]"
   ]
  },
  {
   "cell_type": "markdown",
   "id": "b1556e0d-ebfd-4f6a-8aa9-58474bfaf534",
   "metadata": {},
   "source": [
    "## Questão 2"
   ]
  },
  {
   "cell_type": "markdown",
   "id": "992001a5-fa6f-4d08-9da7-8e433731ae41",
   "metadata": {},
   "source": [
    "O arquivo `customers.csv` contém dados dos clientes de determinada empresa.\n",
    "\n",
    "### (a)\n",
    "\n",
    "Importe esse arquivo como um `dataframe` cujo índice seja a coluna `Customer Id`. A coluna `Index`, que consta no arquivo, não deve constar no `dataframe`. Em seguida, mostre os 3 primeiros clientes desse dataframe  \n",
    "\n",
    "### (b) \n",
    "\n",
    "Mostre 4 clientes aleatórios  \n",
    "\n",
    "### (c) \n",
    "Crie um dataframe com os 10 países com o maior número de clientes e o número de clientes em cada um (em ordem decrescente). Seu dataframe deve ficar igual à figura `df.png`, reproduzida abaixo:\n",
    "\n",
    "![df](df.png)\n",
    "\n",
    "### (d)\n",
    "Faça um gráfico de barras a partir do `dataframe` das sua questão anterior. O gráfico deve ter título `Número de clientes por país` e seus eixos devem ser chamados de `Número de clientes` (eixo Y) e `País` (eixo X). \n",
    "\n",
    "O gráfico de barras deve ficar como na figura `plot.png`, reproduzida abaixo:\n",
    "\n",
    "![plot](plot.png)\n",
    "\n"
   ]
  },
  {
   "cell_type": "code",
   "execution_count": 23,
   "id": "df03a7bc-eb35-4669-8c6f-f267fe72d77e",
   "metadata": {
    "execution": {
     "iopub.execute_input": "2023-03-24T16:38:02.342805Z",
     "iopub.status.busy": "2023-03-24T16:38:02.342086Z",
     "iopub.status.idle": "2023-03-24T16:38:02.349510Z",
     "shell.execute_reply": "2023-03-24T16:38:02.348046Z",
     "shell.execute_reply.started": "2023-03-24T16:38:02.342748Z"
    },
    "tags": []
   },
   "outputs": [],
   "source": []
  },
  {
   "cell_type": "markdown",
   "id": "5066657b-a175-4262-af3f-84a4aebff8a4",
   "metadata": {},
   "source": [
    "## Questão 3"
   ]
  },
  {
   "cell_type": "markdown",
   "id": "81dc0cfc-0a9e-4db2-a21b-fac570c8d994",
   "metadata": {},
   "source": [
    "Crie uma classe chamada `ListaTelefonica` com os seguintes atributos e métodos:\n",
    "\n",
    "__atributos:__\n",
    "### (a)\n",
    "`values`: contém um dicionário com todos os nomes da lista e seus respectivos telefones, p.ex. `{'Sam': 911111111, 'Alex': 922222222, 'Clover': 933333333}`\n",
    "\n",
    "__métodos:__\n",
    "### (b)\n",
    "`add(nome, telefone)` : acrescente um contato à lista telefônica\n",
    "### (c)\n",
    "`tel(nome)` : retorne o telefone de `nome`. Por exemplo, `tel(Alex)` deve retornar `922222222`.\n",
    "### (d)\n",
    "`print()` : Imprima a lista telefônica com um contato em cada linha, assim:\n",
    "\n",
    "Sam : 911111111  \n",
    "Alex : 922222222  \n",
    "Clover : 933333333  "
   ]
  },
  {
   "cell_type": "code",
   "execution_count": null,
   "id": "ba1d36ac-c063-4679-9cd6-6c436ddc435e",
   "metadata": {},
   "outputs": [],
   "source": []
  },
  {
   "cell_type": "code",
   "execution_count": 2,
   "id": "f8af3481-ebfc-4928-b63a-a82abbb15f85",
   "metadata": {
    "execution": {
     "iopub.execute_input": "2023-03-24T19:16:41.997369Z",
     "iopub.status.busy": "2023-03-24T19:16:41.996747Z",
     "iopub.status.idle": "2023-03-24T19:16:42.009700Z",
     "shell.execute_reply": "2023-03-24T19:16:42.008237Z",
     "shell.execute_reply.started": "2023-03-24T19:16:41.997331Z"
    },
    "tags": []
   },
   "outputs": [
    {
     "ename": "NameError",
     "evalue": "name 'ListaTelefonica' is not defined",
     "output_type": "error",
     "traceback": [
      "\u001b[0;31m---------------------------------------------------------------------------\u001b[0m",
      "\u001b[0;31mNameError\u001b[0m                                 Traceback (most recent call last)",
      "\u001b[0;32m/tmp/ipykernel_1880/2774160940.py\u001b[0m in \u001b[0;36m<module>\u001b[0;34m\u001b[0m\n\u001b[0;32m----> 1\u001b[0;31m \u001b[0mlt\u001b[0m \u001b[0;34m=\u001b[0m \u001b[0mListaTelefonica\u001b[0m\u001b[0;34m(\u001b[0m\u001b[0;34m)\u001b[0m\u001b[0;34m\u001b[0m\u001b[0;34m\u001b[0m\u001b[0m\n\u001b[0m\u001b[1;32m      2\u001b[0m \u001b[0mlt\u001b[0m\u001b[0;34m.\u001b[0m\u001b[0madd\u001b[0m\u001b[0;34m(\u001b[0m\u001b[0;34m\"Sam\"\u001b[0m\u001b[0;34m,\u001b[0m\u001b[0;36m911111111\u001b[0m\u001b[0;34m)\u001b[0m\u001b[0;34m\u001b[0m\u001b[0;34m\u001b[0m\u001b[0m\n\u001b[1;32m      3\u001b[0m \u001b[0mlt\u001b[0m\u001b[0;34m.\u001b[0m\u001b[0madd\u001b[0m\u001b[0;34m(\u001b[0m\u001b[0;34m\"Alex\"\u001b[0m\u001b[0;34m,\u001b[0m \u001b[0;36m922222222\u001b[0m\u001b[0;34m)\u001b[0m\u001b[0;34m\u001b[0m\u001b[0;34m\u001b[0m\u001b[0m\n\u001b[1;32m      4\u001b[0m \u001b[0mlt\u001b[0m\u001b[0;34m.\u001b[0m\u001b[0madd\u001b[0m\u001b[0;34m(\u001b[0m\u001b[0;34m\"Clover\"\u001b[0m\u001b[0;34m,\u001b[0m\u001b[0;36m933333333\u001b[0m\u001b[0;34m)\u001b[0m\u001b[0;34m\u001b[0m\u001b[0;34m\u001b[0m\u001b[0m\n\u001b[1;32m      5\u001b[0m \u001b[0;34m\u001b[0m\u001b[0m\n",
      "\u001b[0;31mNameError\u001b[0m: name 'ListaTelefonica' is not defined"
     ]
    }
   ],
   "source": [
    "#== Teste ==#\n",
    "lt = ListaTelefonica()\n",
    "lt.add(\"Sam\",911111111)\n",
    "lt.add(\"Alex\", 922222222)\n",
    "lt.add(\"Clover\",933333333)\n",
    "print(lt.tel(\"Alex\"))"
   ]
  },
  {
   "cell_type": "code",
   "execution_count": null,
   "id": "75c39bf7-b5cc-4183-a06d-3e57ca50b0ff",
   "metadata": {
    "execution": {
     "iopub.execute_input": "2023-03-24T18:46:05.897295Z",
     "iopub.status.busy": "2023-03-24T18:46:05.896706Z",
     "iopub.status.idle": "2023-03-24T18:46:05.906047Z",
     "shell.execute_reply": "2023-03-24T18:46:05.904963Z",
     "shell.execute_reply.started": "2023-03-24T18:46:05.897257Z"
    },
    "tags": []
   },
   "outputs": [
    {
     "data": {
      "text/plain": [
       "922222222"
      ]
     },
     "execution_count": 11,
     "metadata": {},
     "output_type": "execute_result"
    }
   ],
   "source": [
    "lt.print()"
   ]
  },
  {
   "cell_type": "code",
   "execution_count": null,
   "id": "7a893bc4-bcf6-49df-a793-9c5aa0d3b19b",
   "metadata": {},
   "outputs": [],
   "source": []
  }
 ],
 "metadata": {
  "kernelspec": {
   "display_name": "Python 3 (ipykernel)",
   "language": "python",
   "name": "python3"
  },
  "language_info": {
   "codemirror_mode": {
    "name": "ipython",
    "version": 3
   },
   "file_extension": ".py",
   "mimetype": "text/x-python",
   "name": "python",
   "nbconvert_exporter": "python",
   "pygments_lexer": "ipython3",
   "version": "3.7.9"
  }
 },
 "nbformat": 4,
 "nbformat_minor": 5
}
