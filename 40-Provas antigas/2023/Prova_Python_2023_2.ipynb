{
  "nbformat": 4,
  "nbformat_minor": 0,
  "metadata": {
    "colab": {
      "provenance": [],
      "toc_visible": true
    },
    "kernelspec": {
      "name": "python3",
      "display_name": "Python 3"
    },
    "language_info": {
      "name": "python"
    }
  },
  "cells": [
    {
      "cell_type": "markdown",
      "source": [
        "# Prova 2023.2 (Python para Análise de Dados)\n",
        "***"
      ],
      "metadata": {
        "id": "7AOpy3jzlWXD"
      }
    },
    {
      "cell_type": "markdown",
      "source": [
        "## Questão 1"
      ],
      "metadata": {
        "id": "dXm74lzfLBeY"
      }
    },
    {
      "cell_type": "markdown",
      "source": [
        "### (a) Quadrado\n",
        "Faça uma função chamada `quadrado` que recebe um número inteiro $n$ e retorne um conjunto de $n^2$ pontos organizados na forma de um quadrado.\n",
        "\n",
        "Por exemplo, `quadrado(4)` deverá retornar um conjunto de 16 pontos, organizados em um quadrado, assim:\n",
        "\n",
        "![image.png](data:image/png;base64,iVBORw0KGgoAAAANSUhEUgAAAEcAAABLCAYAAAAicppkAAAA90lEQVR4nO3YQXHEMBQFQSVQRMFwjMLgxMJsBMAhkEzFp+TQfVeta+pd9n88z/MMvvX51x/wn4kTxAniBHGCOEGcIE74dZz7vsdxHOM8z7H3fv1D13WNOedYa71+u9Yac85xXdfrt3vvcZ7nOI5j3Pf96q3lhA9/H35mOUGcIE4QJ4gTxAniBHGCOEGcIE4QJ4gTxAmOXcFygmNXsJwgThAniBPECeIEcYI4QZwgThAniBPECeIEcYJLYLCc4BIYLCeIE8QJ4gRxgjhBnCBOECeIE8QJ4gRxgjjBsStYTnDsCpYTxAniBHGCOEGcIE4QJ4gTxAnihC859Wp2zUYlMQAAAABJRU5ErkJggg==)\n",
        "\n",
        "\n"
      ],
      "metadata": {
        "id": "HQRCOORvl4O-"
      }
    },
    {
      "cell_type": "code",
      "execution_count": null,
      "metadata": {
        "colab": {
          "base_uri": "https://localhost:8080/"
        },
        "id": "tUfrZOdklNKy",
        "outputId": "0b60c283-7057-404a-e9f5-94b7fbabd463"
      },
      "outputs": [
        {
          "output_type": "stream",
          "name": "stdout",
          "text": [
            ". . . . \n",
            ". . . . \n",
            ". . . . \n",
            ". . . . \n"
          ]
        }
      ],
      "source": []
    },
    {
      "cell_type": "markdown",
      "source": [
        "### (b) Duplo fatorial\n",
        "\n",
        "O duplo fatorial de um número $n$ é o produto de todos os números entre $1$ e $n$ que tenham a mesma paridade de $n$.\n",
        "\n",
        "O duplo fatorial de 5, por exemplo, é o produto de todos os números _ímpares_ até 5:\n",
        "\n",
        "$$\n",
        "1 \\times 3 \\times 5 = 15\n",
        "$$\n",
        "\n",
        "Já o duplo fatorial de 6 é o produto de todos os números _pares_ até 6:\n",
        "\n",
        "$$\n",
        "2 \\times 4 \\times 6 = 48\n",
        "$$\n",
        "\n",
        "Crie uma função chamada _duplo_fatorial_ que receba um número $n$ e retorne o seu duplo fatorial."
      ],
      "metadata": {
        "id": "-wnK6vYwpZad"
      }
    },
    {
      "cell_type": "code",
      "source": [],
      "metadata": {
        "colab": {
          "base_uri": "https://localhost:8080/"
        },
        "id": "gTirHp7KpY1A",
        "outputId": "2dad2b80-98be-4fb8-cee0-2621b98cd8ed"
      },
      "execution_count": null,
      "outputs": [
        {
          "output_type": "execute_result",
          "data": {
            "text/plain": [
              "(15, 48)"
            ]
          },
          "metadata": {},
          "execution_count": 12
        }
      ]
    },
    {
      "cell_type": "markdown",
      "source": [
        "## Questão 2\n",
        "\n",
        "No link abaixo, você encontra uma base de dados com informações sobre todos os municípios do Brasil.\n"
      ],
      "metadata": {
        "id": "Oz8dbu3TuPvF"
      }
    },
    {
      "cell_type": "code",
      "source": [
        "url = \"https://raw.githubusercontent.com/mapaslivres/municipios-br/main/tabelas/municipios.csv\""
      ],
      "metadata": {
        "id": "TSFF3FYqtEF9"
      },
      "execution_count": null,
      "outputs": []
    },
    {
      "cell_type": "markdown",
      "source": [
        "\n",
        "### (a)\n",
        "\n",
        "Importe a base e mostre uma tupla contendo quantas linhas e colunas a base possui.\n",
        "\n",
        "Em seguida, mostre 5 linhas aleatórias da base."
      ],
      "metadata": {
        "id": "-NkiKHFeCUGB"
      }
    },
    {
      "cell_type": "code",
      "source": [],
      "metadata": {
        "colab": {
          "base_uri": "https://localhost:8080/"
        },
        "id": "4oPjhuqdx_YK",
        "outputId": "d821f6f5-fdbd-4d5b-8a6f-47b6a936669b"
      },
      "execution_count": null,
      "outputs": [
        {
          "output_type": "execute_result",
          "data": {
            "text/plain": [
              "(5570, 18)"
            ]
          },
          "metadata": {},
          "execution_count": 26
        }
      ]
    },
    {
      "cell_type": "markdown",
      "source": [
        "### (b)\n",
        "\n",
        "Neste exercício, vamos utilizar apenas as colunas `municipio`, `name`,`uf_code`, `lat` e `pop_21`.\n",
        "\n",
        "* Selecione apenas essas variáveis\n",
        "* Coloque `municipio` para ser o índice do dataframe\n",
        "* Altere o nome da coluna `name` para `nome` e `uf_code` para `uf`\n"
      ],
      "metadata": {
        "id": "tK9LiXci0gSs"
      }
    },
    {
      "cell_type": "code",
      "source": [],
      "metadata": {
        "id": "wB2PL8nP1QMB"
      },
      "execution_count": null,
      "outputs": []
    },
    {
      "cell_type": "markdown",
      "source": [
        "### (c)\n",
        "\n",
        "No Brasil, a maior parte dos municípios estão no hemisfério Sul e, por isso, têm latitude negativa. Mas o Brasil também tem cidades no hemisféio Norte, cuja latitude é positiva.\n",
        "\n",
        "Crie um dataframe contendo apenas as cidades brasileiras que estão no hemisfério Norte. Ordene esse dataframe da cidade mais ao Norte para a cidade mais próxima ao Equador.\n",
        "\n",
        "Mostre as 5 cidades mais ao Norte do Brasil.  \n",
        "Mostra também as 5 cidades mais ao Sul, dentre as que estão no hemisfério Norte.  \n",
        "Por fim, mostre quantas cidades o Brasil possui no hemisfério Norte."
      ],
      "metadata": {
        "id": "ufLQVDxA1isA"
      }
    },
    {
      "cell_type": "code",
      "source": [],
      "metadata": {
        "id": "lqU18Dmy1gst"
      },
      "execution_count": null,
      "outputs": []
    },
    {
      "cell_type": "markdown",
      "source": [
        "### (d)\n",
        "\n",
        "Quantos municípios o Brasil possui no hemisfério Norte?  \n",
        "Como essas cidades se distribuem em cada estado?\n",
        "(Ignore os estados que nao possuem nenhum município no hemisfério Norte)"
      ],
      "metadata": {
        "id": "oT0AiBY647d0"
      }
    },
    {
      "cell_type": "code",
      "source": [],
      "metadata": {
        "id": "i-NLzrWk1QD4"
      },
      "execution_count": null,
      "outputs": []
    },
    {
      "cell_type": "markdown",
      "source": [
        "### (e)\n",
        "\n",
        "Qual a população total de cada estado, vivendo em municípios do hemisfério Norte? (Ignore os estados que não possuem nenhum município no hemisfério Norte)"
      ],
      "metadata": {
        "id": "sxPz-8dc5pP4"
      }
    },
    {
      "cell_type": "code",
      "source": [],
      "metadata": {
        "id": "BPYGNhQw4cLH"
      },
      "execution_count": null,
      "outputs": []
    },
    {
      "cell_type": "markdown",
      "source": [
        "## Questão 3\n",
        "\n",
        "Rode este código:"
      ],
      "metadata": {
        "id": "gRyc7xuiFTcG"
      }
    },
    {
      "cell_type": "code",
      "source": [
        "import requests\n",
        "\n",
        "infos = requests.get(f\"https://swapi.dev/api/people/?page=1\").json()[\"results\"]"
      ],
      "metadata": {
        "id": "rwZK36iHEegy"
      },
      "execution_count": null,
      "outputs": []
    },
    {
      "cell_type": "markdown",
      "source": [
        "A variável `infos` contém uma lista de dicionários. Cada dicionário contém as informações sobre uma personagem da saga Guerra nas Estrelas.\n",
        "\n",
        "### (a)\n",
        "\n",
        "Mostre os 3 primeiros elementos desta lista, para visualizar o que foi dito acima.  "
      ],
      "metadata": {
        "id": "h1xzLH5rFx2k"
      }
    },
    {
      "cell_type": "code",
      "source": [],
      "metadata": {
        "id": "2yW7MU4VEeLr"
      },
      "execution_count": null,
      "outputs": []
    },
    {
      "cell_type": "code",
      "source": [],
      "metadata": {
        "colab": {
          "base_uri": "https://localhost:8080/"
        },
        "id": "nBZW4LZI-RSi",
        "outputId": "029ea3a4-f5bb-4349-d2fa-5a8011d0eb2a"
      },
      "execution_count": null,
      "outputs": [
        {
          "output_type": "execute_result",
          "data": {
            "text/plain": [
              "10"
            ]
          },
          "metadata": {},
          "execution_count": 48
        }
      ]
    },
    {
      "cell_type": "markdown",
      "source": [
        "### (b)\n",
        "\n",
        "Crie uma função chamada `conta_filmes` que recebe uma posição da lista e retorna em quantos filmes a personagem que está naquela posição já apareceu. A lista contida na variável `infos` deve ser passada para esta função por default.\n",
        "\n",
        "Por exemplo, Luke Skywalker está na posição 0 e aparece em 4 filmes. Portanto, `conta_filmes(0)` deve retornar 4."
      ],
      "metadata": {
        "id": "KG-em027HY3f"
      }
    },
    {
      "cell_type": "code",
      "source": [],
      "metadata": {
        "id": "zwJ-qg3e9XBu"
      },
      "execution_count": null,
      "outputs": []
    },
    {
      "cell_type": "code",
      "source": [
        "conta_filmes(1)"
      ],
      "metadata": {
        "colab": {
          "base_uri": "https://localhost:8080/"
        },
        "id": "E1wzB_X0Isrn",
        "outputId": "588da189-b932-412b-e578-0d989ad4a340"
      },
      "execution_count": null,
      "outputs": [
        {
          "output_type": "execute_result",
          "data": {
            "text/plain": [
              "6"
            ]
          },
          "metadata": {},
          "execution_count": 56
        }
      ]
    },
    {
      "cell_type": "markdown",
      "source": [
        "## Questão 4\n",
        "\n",
        "Importe a base de dados contida no link acima e mostre suas 5 primeiras linhas."
      ],
      "metadata": {
        "id": "uVWN4AHlLu9S"
      }
    },
    {
      "cell_type": "code",
      "source": [
        "url = \"https://raw.githubusercontent.com/PacktPublishing/Principles-of-Strategic-Data-Science/main/Datasaurus_data.csv\""
      ],
      "metadata": {
        "id": "pYPktgd3Ivra"
      },
      "execution_count": null,
      "outputs": []
    },
    {
      "cell_type": "code",
      "source": [],
      "metadata": {
        "id": "-D49CxOvO4HZ"
      },
      "execution_count": null,
      "outputs": []
    },
    {
      "cell_type": "markdown",
      "source": [
        "Calcule média e desvio-padrão tanto do X quanto do Y.   \n",
        "Calcule também a correlação entre eles.  \n",
        "Finalmente, faça um gráfico de dispersão do Y em função do X."
      ],
      "metadata": {
        "id": "gCTv36gmNW_G"
      }
    },
    {
      "cell_type": "code",
      "source": [],
      "metadata": {
        "id": "A0ZgCmp2NU5h"
      },
      "execution_count": null,
      "outputs": []
    }
  ]
}