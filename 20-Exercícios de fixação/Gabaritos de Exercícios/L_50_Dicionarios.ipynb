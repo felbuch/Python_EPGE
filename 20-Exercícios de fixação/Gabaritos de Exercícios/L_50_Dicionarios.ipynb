{
 "cells": [
  {
   "cell_type": "markdown",
   "metadata": {},
   "source": [
    "### Lista telefonica\n",
    "\n",
    "1. Construa um dicionario com o telefone de Sam, Alex e Clover:\n",
    "\n",
    "Sam: 91111111 \\\n",
    "Alex: 92222222 \\\n",
    "Clover: 93333333 "
   ]
  },
  {
   "cell_type": "code",
   "execution_count": 5,
   "metadata": {},
   "outputs": [
    {
     "name": "stdout",
     "output_type": "stream",
     "text": [
      "{'Sam': 91111111, 'Alex': 92222222, 'Clover': 93333333}\n"
     ]
    }
   ],
   "source": [
    "telefones = {\n",
    "    \"Sam\":91111111,\n",
    "    \"Alex\": 92222222,\n",
    "    \"Clover\": 93333333,\n",
    "}\n",
    "\n",
    "print(telefones)"
   ]
  },
  {
   "cell_type": "markdown",
   "metadata": {},
   "source": [
    "2. Busque o telefone da Alex"
   ]
  },
  {
   "cell_type": "code",
   "execution_count": 8,
   "metadata": {},
   "outputs": [
    {
     "name": "stdout",
     "output_type": "stream",
     "text": [
      "92222222\n"
     ]
    }
   ],
   "source": [
    "print(telefones[\"Alex\"])"
   ]
  },
  {
   "cell_type": "markdown",
   "metadata": {},
   "source": [
    "3. Acrescente a Mandy no dicionario. O numero dela? 94444444"
   ]
  },
  {
   "cell_type": "code",
   "execution_count": 10,
   "metadata": {},
   "outputs": [
    {
     "name": "stdout",
     "output_type": "stream",
     "text": [
      "{'Sam': 91111111, 'Alex': 92222222, 'Clover': 93333333, 'Mandy': 94444444}\n"
     ]
    }
   ],
   "source": [
    "telefones.update({\"Mandy\":94444444})\n",
    "print(telefones)"
   ]
  },
  {
   "cell_type": "markdown",
   "metadata": {},
   "source": [
    "4. Usando um `for`, mostre todos os nomes que aparecem no dicionario"
   ]
  },
  {
   "cell_type": "code",
   "execution_count": 11,
   "metadata": {},
   "outputs": [
    {
     "name": "stdout",
     "output_type": "stream",
     "text": [
      "Sam\n",
      "Alex\n",
      "Clover\n",
      "Mandy\n"
     ]
    }
   ],
   "source": [
    "for key in telefones:\n",
    "    print(key)"
   ]
  },
  {
   "cell_type": "markdown",
   "metadata": {},
   "source": [
    "5. Usando um `for`, mostre todos os numeros de telefone que aparecem no dicionario"
   ]
  },
  {
   "cell_type": "code",
   "execution_count": 13,
   "metadata": {},
   "outputs": [
    {
     "name": "stdout",
     "output_type": "stream",
     "text": [
      "91111111\n",
      "92222222\n",
      "93333333\n",
      "94444444\n"
     ]
    }
   ],
   "source": [
    "for value in telefones.values():\n",
    "    print(value)"
   ]
  },
  {
   "cell_type": "markdown",
   "metadata": {},
   "source": [
    "6. Escreva o dicionário por extenso, assim:\n",
    "\n",
    "O telefone dá Sam é 91111111  \n",
    "O telefone dá Alex é 92222222  \n",
    "etc."
   ]
  },
  {
   "cell_type": "code",
   "execution_count": 15,
   "metadata": {},
   "outputs": [
    {
     "name": "stdout",
     "output_type": "stream",
     "text": [
      "O telefone dá Sam é 91111111\n",
      "O telefone dá Alex é 92222222\n",
      "O telefone dá Clover é 93333333\n",
      "O telefone dá Mandy é 94444444\n"
     ]
    }
   ],
   "source": [
    "for item in telefones.items():\n",
    "    print(\"O telefone dá\", item[0], \"é\", item[1])"
   ]
  },
  {
   "cell_type": "markdown",
   "metadata": {},
   "source": [
    "### Data Science\n",
    "\n",
    "Um banco deseja construir um modelo para prever se um cliente vai ou nao pagar um emprestimo. O banco quer usar esse modelo para decidir se vai ou nao conceder o emprestimo quando um cliente vier pedir. Para tal, o banco constroi 4 modelos e testa os quatro em 3 criterios: acuracia, precisao e recall (voce vai aprender o que sao essas coisas no curso de Data Science). Os resultados dos modelos sao guardados em um dicionario como o que vemos abaixo:"
   ]
  },
  {
   "cell_type": "code",
   "execution_count": 10,
   "metadata": {},
   "outputs": [],
   "source": [
    "resultados = {'modelo_1': {'acuracia': 0.98, 'precisao': 0.96, 'recall': 0.95},\n",
    "              'modelo_2': {'acuracia': 0.85, 'precisao': 0.86, 'recall': 0.82},\n",
    "              'modelo_3': {'acuracia': 0.90, 'precisao': 0.87, 'recall': 0.91},\n",
    "              'modelo_4': {'acuracia': 0.95, 'precisao': 0.97, 'recall': 0.92}\n",
    "             }"
   ]
  },
  {
   "cell_type": "markdown",
   "metadata": {},
   "source": [
    "1. Usando um comando em Python, mostre na tela a precisao do modelo 4."
   ]
  },
  {
   "cell_type": "code",
   "execution_count": 11,
   "metadata": {},
   "outputs": [
    {
     "name": "stdout",
     "output_type": "stream",
     "text": [
      "0.95\n"
     ]
    }
   ],
   "source": [
    "print(resultados['modelo_1']['recall'])"
   ]
  },
  {
   "cell_type": "markdown",
   "metadata": {},
   "source": [
    "2. Calcule o score F para cada um dos modelos e coloque no dicionario do respectivo modelo. O score F se calcula assim:\n",
    "\n",
    "$$\n",
    "F = 2\\times\\frac{precisao \\times recall}{precisao + recall}\n",
    "$$\n",
    "\n",
    "Agora, mostre o dicionario contendo o score F em cada modelo."
   ]
  },
  {
   "cell_type": "code",
   "execution_count": 17,
   "metadata": {},
   "outputs": [
    {
     "name": "stdout",
     "output_type": "stream",
     "text": [
      "{'modelo_1': {'acuracia': 0.98, 'precisao': 0.96, 'recall': 0.95, 'f_score': 0.95}, 'modelo_2': {'acuracia': 0.85, 'precisao': 0.86, 'recall': 0.82, 'f_score': 0.84}, 'modelo_3': {'acuracia': 0.9, 'precisao': 0.87, 'recall': 0.91, 'f_score': 0.89}, 'modelo_4': {'acuracia': 0.95, 'precisao': 0.97, 'recall': 0.92, 'f_score': 0.94}}\n"
     ]
    }
   ],
   "source": [
    "for modelo, valores in resultados.items():\n",
    "    \n",
    "    #arredondando para 2 casas decimais e atualizando os valores dentro do segundo dicionário\n",
    "    valores.update({'f_score':round(2*(valores[\"precisao\"]*valores[\"recall\"])/(valores[\"precisao\"]+valores[\"recall\"]),2)})\n",
    "\n",
    "print(resultados)"
   ]
  },
  {
   "cell_type": "code",
   "execution_count": null,
   "metadata": {},
   "outputs": [],
   "source": []
  }
 ],
 "metadata": {
  "kernelspec": {
   "display_name": "Python 3 (ipykernel)",
   "language": "python",
   "name": "python3"
  },
  "language_info": {
   "codemirror_mode": {
    "name": "ipython",
    "version": 3
   },
   "file_extension": ".py",
   "mimetype": "text/x-python",
   "name": "python",
   "nbconvert_exporter": "python",
   "pygments_lexer": "ipython3",
   "version": "3.9.12"
  }
 },
 "nbformat": 4,
 "nbformat_minor": 4
}
