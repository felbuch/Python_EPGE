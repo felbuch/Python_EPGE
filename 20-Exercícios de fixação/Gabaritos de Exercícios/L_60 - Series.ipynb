{
 "cells": [
  {
   "cell_type": "markdown",
   "metadata": {},
   "source": [
    "## Bitcoin\n",
    "\n",
    "Antes da gente começar, rode essas células. Elas vão criar as séries que vamos usar nesse exercício:"
   ]
  },
  {
   "cell_type": "code",
   "execution_count": 3,
   "metadata": {},
   "outputs": [
    {
     "name": "stdout",
     "output_type": "stream",
     "text": [
      "Requirement already satisfied: yfinance in g:\\fgv\\anaconda\\lib\\site-packages (0.2.12)\n",
      "Requirement already satisfied: beautifulsoup4>=4.11.1 in g:\\fgv\\anaconda\\lib\\site-packages (from yfinance) (4.11.1)\n",
      "Requirement already satisfied: frozendict>=2.3.4 in g:\\fgv\\anaconda\\lib\\site-packages (from yfinance) (2.3.5)\n",
      "Requirement already satisfied: html5lib>=1.1 in g:\\fgv\\anaconda\\lib\\site-packages (from yfinance) (1.1)\n",
      "Requirement already satisfied: appdirs>=1.4.4 in g:\\fgv\\anaconda\\lib\\site-packages (from yfinance) (1.4.4)\n",
      "Requirement already satisfied: requests>=2.26 in g:\\fgv\\anaconda\\lib\\site-packages (from yfinance) (2.27.1)\n",
      "Requirement already satisfied: numpy>=1.16.5 in g:\\fgv\\anaconda\\lib\\site-packages (from yfinance) (1.21.5)\n",
      "Requirement already satisfied: multitasking>=0.0.7 in g:\\fgv\\anaconda\\lib\\site-packages (from yfinance) (0.0.11)\n",
      "Requirement already satisfied: cryptography>=3.3.2 in g:\\fgv\\anaconda\\lib\\site-packages (from yfinance) (3.4.8)\n",
      "Requirement already satisfied: lxml>=4.9.1 in g:\\fgv\\anaconda\\lib\\site-packages (from yfinance) (4.9.2)\n",
      "Requirement already satisfied: pytz>=2022.5 in g:\\fgv\\anaconda\\lib\\site-packages (from yfinance) (2022.7.1)\n",
      "Requirement already satisfied: pandas>=1.3.0 in g:\\fgv\\anaconda\\lib\\site-packages (from yfinance) (1.4.2)\n",
      "Requirement already satisfied: soupsieve>1.2 in g:\\fgv\\anaconda\\lib\\site-packages (from beautifulsoup4>=4.11.1->yfinance) (2.3.1)\n",
      "Requirement already satisfied: cffi>=1.12 in g:\\fgv\\anaconda\\lib\\site-packages (from cryptography>=3.3.2->yfinance) (1.15.0)\n",
      "Requirement already satisfied: pycparser in g:\\fgv\\anaconda\\lib\\site-packages (from cffi>=1.12->cryptography>=3.3.2->yfinance) (2.21)\n",
      "Requirement already satisfied: webencodings in g:\\fgv\\anaconda\\lib\\site-packages (from html5lib>=1.1->yfinance) (0.5.1)\n",
      "Requirement already satisfied: six>=1.9 in g:\\fgv\\anaconda\\lib\\site-packages (from html5lib>=1.1->yfinance) (1.16.0)\n",
      "Requirement already satisfied: python-dateutil>=2.8.1 in g:\\fgv\\anaconda\\lib\\site-packages (from pandas>=1.3.0->yfinance) (2.8.2)\n",
      "Requirement already satisfied: certifi>=2017.4.17 in g:\\fgv\\anaconda\\lib\\site-packages (from requests>=2.26->yfinance) (2021.10.8)\n",
      "Requirement already satisfied: urllib3<1.27,>=1.21.1 in g:\\fgv\\anaconda\\lib\\site-packages (from requests>=2.26->yfinance) (1.26.9)\n",
      "Requirement already satisfied: charset-normalizer~=2.0.0 in g:\\fgv\\anaconda\\lib\\site-packages (from requests>=2.26->yfinance) (2.0.4)\n",
      "Requirement already satisfied: idna<4,>=2.5 in g:\\fgv\\anaconda\\lib\\site-packages (from requests>=2.26->yfinance) (3.3)\n"
     ]
    }
   ],
   "source": [
    "!pip install yfinance"
   ]
  },
  {
   "cell_type": "code",
   "execution_count": 4,
   "metadata": {},
   "outputs": [],
   "source": [
    "import pandas as pd\n",
    "import yfinance as yf"
   ]
  },
  {
   "cell_type": "code",
   "execution_count": 5,
   "metadata": {},
   "outputs": [
    {
     "name": "stdout",
     "output_type": "stream",
     "text": [
      "[*********************100%***********************]  1 of 1 completed\n",
      "[*********************100%***********************]  1 of 1 completed\n"
     ]
    }
   ],
   "source": [
    "bitcoin= yf.download(\"BTC-USD\",\n",
    "                     period= 'max')\n",
    "preco = bitcoin['Close']\n",
    "retorno = preco.pct_change()\n",
    "dolar = yf.download(\"USDBRL=X\",\n",
    "                     period= 'max')['Close']"
   ]
  },
  {
   "cell_type": "markdown",
   "metadata": {},
   "source": [
    "As séries `preco`, `volume` e `retorno` trazem o preço, o volume negociado e o retorno diário do Bitcoin ao longo do último mês. A série `dolar` traz a série do valor diário do dólar."
   ]
  },
  {
   "cell_type": "markdown",
   "metadata": {},
   "source": [
    "1. Quantos dias temos na série de retorno? Em quantos desses dias o retorno do Bitcoin foi positivo?"
   ]
  },
  {
   "cell_type": "code",
   "execution_count": 6,
   "metadata": {},
   "outputs": [
    {
     "name": "stdout",
     "output_type": "stream",
     "text": [
      "3102 dias\n"
     ]
    }
   ],
   "source": [
    "print(len(pd.Series(retorno).index), 'dias')"
   ]
  },
  {
   "cell_type": "code",
   "execution_count": 7,
   "metadata": {},
   "outputs": [
    {
     "data": {
      "text/plain": [
       "DatetimeIndex(['2014-09-17', '2014-09-18', '2014-09-19', '2014-09-20',\n",
       "               '2014-09-21', '2014-09-22', '2014-09-23', '2014-09-24',\n",
       "               '2014-09-25', '2014-09-26',\n",
       "               ...\n",
       "               '2023-03-06', '2023-03-07', '2023-03-08', '2023-03-09',\n",
       "               '2023-03-10', '2023-03-11', '2023-03-12', '2023-03-13',\n",
       "               '2023-03-14', '2023-03-15'],\n",
       "              dtype='datetime64[ns]', name='Date', length=3102, freq=None)"
      ]
     },
     "execution_count": 7,
     "metadata": {},
     "output_type": "execute_result"
    }
   ],
   "source": [
    "pd.Series(retorno).index"
   ]
  },
  {
   "cell_type": "markdown",
   "metadata": {},
   "source": [
    "O preço do Bitcoin está em dólar. Queremos convertê-lo para reais usando o valor do dólar em cada dia.  \n",
    "\n",
    "Antes de fazermos isso...\n",
    "\n",
    "2. Qual o valor do dólar mais recente disponível na série `dolar`?"
   ]
  },
  {
   "cell_type": "code",
   "execution_count": 8,
   "metadata": {},
   "outputs": [
    {
     "name": "stdout",
     "output_type": "stream",
     "text": [
      "5.295000076293945\n"
     ]
    }
   ],
   "source": [
    "#o método iloc é capaz de localizar os valores a partir das coordenadas fornecidas\n",
    "print(dolar.iloc[-1])"
   ]
  },
  {
   "cell_type": "markdown",
   "metadata": {},
   "source": [
    "3. Converta a série `preço` do Bitcoin para o Real. Para isso, você deve _multiplicar_ o preço do Bitcoin em dólar pelo preço do dólar em cada dia. Chame a nova serie de `preco_real`"
   ]
  },
  {
   "cell_type": "code",
   "execution_count": 23,
   "metadata": {},
   "outputs": [
    {
     "name": "stdout",
     "output_type": "stream",
     "text": [
      "                    Open          High           Low         Close  \\\n",
      "Date                                                                 \n",
      "2014-09-17    465.864014    468.174011    452.421997    457.334015   \n",
      "2014-09-18    456.859985    456.859985    413.104004    424.440002   \n",
      "2014-09-19    424.102997    427.834991    384.532013    394.795990   \n",
      "2014-09-20    394.673004    423.295990    389.882996    408.903992   \n",
      "2014-09-21    408.084991    412.425995    393.181000    398.821014   \n",
      "...                  ...           ...           ...           ...   \n",
      "2023-03-11  20187.876953  20792.525391  20068.660156  20632.410156   \n",
      "2023-03-12  20628.029297  22185.031250  20448.806641  22163.949219   \n",
      "2023-03-13  22156.406250  24550.837891  21918.199219  24197.533203   \n",
      "2023-03-14  24201.765625  26514.716797  24081.183594  24746.074219   \n",
      "2023-03-15  24734.652344  25169.730469  24048.351562  24381.750000   \n",
      "\n",
      "               Adj Close       Volume  \n",
      "Date                                   \n",
      "2014-09-17    457.334015     21056800  \n",
      "2014-09-18    424.440002     34483200  \n",
      "2014-09-19    394.795990     37919700  \n",
      "2014-09-20    408.903992     36863600  \n",
      "2014-09-21    398.821014     26580100  \n",
      "...                  ...          ...  \n",
      "2023-03-11  20632.410156  30180288176  \n",
      "2023-03-12  22163.949219  29279035521  \n",
      "2023-03-13  24197.533203  49466362688  \n",
      "2023-03-14  24746.074219  54622230164  \n",
      "2023-03-15  24381.750000  43647524864  \n",
      "\n",
      "[3102 rows x 6 columns]\n"
     ]
    },
    {
     "data": {
      "text/plain": [
       "Date\n",
       "2003-12-01              NaN\n",
       "2003-12-02              NaN\n",
       "2003-12-03              NaN\n",
       "2003-12-04              NaN\n",
       "2003-12-05              NaN\n",
       "                  ...      \n",
       "2023-03-11              NaN\n",
       "2023-03-12              NaN\n",
       "2023-03-13    126204.654507\n",
       "2023-03-14    129810.478622\n",
       "2023-03-15    129101.368110\n",
       "Name: Close, Length: 5475, dtype: float64"
      ]
     },
     "execution_count": 23,
     "metadata": {},
     "output_type": "execute_result"
    }
   ],
   "source": [
    "print(bitcoin)\n",
    "dolar*bitcoin[\"Close\"]"
   ]
  },
  {
   "cell_type": "markdown",
   "metadata": {},
   "source": [
    "\n",
    "Ótimo! Agora eu vou calcular pra você o retorno diário do Bitcoin em reais:"
   ]
  },
  {
   "cell_type": "code",
   "execution_count": 8,
   "metadata": {},
   "outputs": [],
   "source": [
    "#Resposta\n"
   ]
  },
  {
   "cell_type": "markdown",
   "metadata": {},
   "source": [
    "Você vai aprender a medir o risco de uma ação quando estudar Finanças. Por enquanto, vamos usar esta medida daqui:\n",
    "\n",
    "$$\n",
    "\\text{Risco} = \\left(\\frac{\\text{valor máximo do retorno} - \\text{valor mínimo do retorno}}{\\text{valor médio do retorno}} \\right)\\times 100\n",
    "$$\n",
    "\n",
    "4. Calcule esse valor para duas séries:\n",
    "* `retorno`, que mede o retorno diário do Bitcoin em dólar (ou seja, para o investidor americano)\n",
    "* `retorno_real`, que mede o retorno diário do Bitcoin em reais (ou seja, para o investidor brasileiro)\n",
    "\n",
    "Qual é maior?"
   ]
  },
  {
   "cell_type": "code",
   "execution_count": 9,
   "metadata": {},
   "outputs": [],
   "source": [
    "#Para a série em dólar\n"
   ]
  },
  {
   "cell_type": "code",
   "execution_count": 10,
   "metadata": {},
   "outputs": [],
   "source": [
    "#Para a série em reais\n"
   ]
  },
  {
   "cell_type": "markdown",
   "metadata": {},
   "source": [
    "Por que o risco em real é maior do que o risco em dólar?\n",
    "\n",
    "Parabéns! Você acaba de aprender o que é **risco cambial** de um investimento! :)"
   ]
  }
 ],
 "metadata": {
  "kernelspec": {
   "display_name": "Python 3 (ipykernel)",
   "language": "python",
   "name": "python3"
  },
  "language_info": {
   "codemirror_mode": {
    "name": "ipython",
    "version": 3
   },
   "file_extension": ".py",
   "mimetype": "text/x-python",
   "name": "python",
   "nbconvert_exporter": "python",
   "pygments_lexer": "ipython3",
   "version": "3.9.12"
  }
 },
 "nbformat": 4,
 "nbformat_minor": 4
}
