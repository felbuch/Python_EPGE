{
 "cells": [
  {
   "cell_type": "markdown",
   "metadata": {},
   "source": [
    "### For loops fora da função\n",
    "\n",
    "1. Liste o quadrado de todos os números, de 1 a 10, inclusive.  \n",
    "Eu vou dificultar isso um pouquinho: cuidado para não incluir o zero e não parar no 81."
   ]
  },
  {
   "cell_type": "code",
   "execution_count": 3,
   "metadata": {},
   "outputs": [
    {
     "name": "stdout",
     "output_type": "stream",
     "text": [
      "1\n",
      "4\n",
      "9\n",
      "16\n",
      "25\n",
      "36\n",
      "49\n",
      "64\n",
      "81\n",
      "100\n"
     ]
    }
   ],
   "source": [
    "for i in range(10):\n",
    "    print((i+1)**2)"
   ]
  },
  {
   "cell_type": "markdown",
   "metadata": {},
   "source": [
    "2. Liste o quadrado de todos os números entre 1 a 10, saltando de 3 em 3"
   ]
  },
  {
   "cell_type": "code",
   "execution_count": 4,
   "metadata": {},
   "outputs": [
    {
     "name": "stdout",
     "output_type": "stream",
     "text": [
      "9\n",
      "36\n",
      "81\n"
     ]
    }
   ],
   "source": [
    "for i in range(10):\n",
    "    if (i+1)%3 == 0:\n",
    "        print((i+1)**2)"
   ]
  },
  {
   "cell_type": "markdown",
   "metadata": {},
   "source": [
    "3. A função a seguir dá o n-ésimo termo da série de Fibonacci. Use ela para listar os 10 primeiros termos da série de Fibonacci."
   ]
  },
  {
   "cell_type": "code",
   "execution_count": 10,
   "metadata": {},
   "outputs": [],
   "source": [
    "def fib(n):\n",
    "    if (n == 0) | (n == 1):\n",
    "        return(1)\n",
    "    else:\n",
    "        return(fib(n-1) + fib(n-2))"
   ]
  },
  {
   "cell_type": "code",
   "execution_count": 12,
   "metadata": {},
   "outputs": [
    {
     "name": "stdout",
     "output_type": "stream",
     "text": [
      "1\n",
      "2\n",
      "3\n",
      "5\n",
      "8\n",
      "13\n",
      "21\n",
      "34\n",
      "55\n",
      "89\n"
     ]
    }
   ],
   "source": [
    "for i in range(10):\n",
    "    print(fib(i+1))\n"
   ]
  },
  {
   "cell_type": "markdown",
   "metadata": {},
   "source": [
    "### For loops dentro da função\n",
    "\n",
    "1. Faça uma função que some os $n$ primeiros números ímpares. \n",
    "\n",
    "Note que essa função é diferente da que vimos em aula, onde somávamos todos os ímpares até $n$. \n",
    "\n",
    "Aqui, queremos uma função que, ao receber $n = 3$, some 1, 3 e 5, que são os 3 primeiros ímpares, e retorne 1 + 3 + 5 = 9.\n",
    "\n",
    "Dica: o n-ésimo número ímpar (começando a contar do zero) é $2n+1$"
   ]
  },
  {
   "cell_type": "code",
   "execution_count": 102,
   "metadata": {},
   "outputs": [
    {
     "data": {
      "text/plain": [
       "25"
      ]
     },
     "execution_count": 102,
     "metadata": {},
     "output_type": "execute_result"
    }
   ],
   "source": [
    "#alternativa 1\n",
    "def soma_imp1(n):\n",
    "    #define a soma como uma variável\n",
    "    var = 0\n",
    "    \n",
    "    #colocar para aplicar função de acordo com o número de vez em n\n",
    "    for i in range(n):\n",
    "        \n",
    "        #a variável de soma\n",
    "        var += (2 * i) + 1\n",
    "    return var\n",
    "\n",
    "#####################################################\n",
    "\n",
    "#alternativa 2\n",
    "def soma_imp2(n):\n",
    "    #cria uma lista contendo apenas o primeiro valor\n",
    "    lista = [1]\n",
    "    \n",
    "    #adequa o número escrito para o número de elementos que queremos dentro da lista, pois já teremos um elemento nela\n",
    "    n = n-1\n",
    "    \n",
    "    #cria uma variável que será utilizada no loop\n",
    "    var = 1\n",
    "    \n",
    "    #realiza o loop com o valor máximo sendo igual à equação escrita 2n+1\n",
    "    while var <= 2*n+1:\n",
    "        \n",
    "        #muda a variável adicionando mais 2, já que é a diferença entre os valores\n",
    "        var = var + 2\n",
    "        \n",
    "        #adiciona os valores na lista conforme a variável muda\n",
    "        lista.append(var)\n",
    "    \n",
    "    #criar um loop com os valores na lista\n",
    "    for i in lista:\n",
    "        \n",
    "        #retornar a soma da lista e tirar o último número, que vai retornar com uma posição posterior\n",
    "        return sum(lista) - lista[-1]\n",
    "\n",
    "soma_imp2(5)"
   ]
  },
  {
   "cell_type": "markdown",
   "metadata": {},
   "source": [
    "O código abaixo lista o resultado da função acima para todos os valores de $n$, de 1 a 10, inclusive. Compare com a sua resposta para a primeira pergunta dessa lista, onde você listou o quadrado de todos os números de 1 a 10. Parece familiar?"
   ]
  },
  {
   "cell_type": "code",
   "execution_count": 103,
   "metadata": {},
   "outputs": [
    {
     "name": "stdout",
     "output_type": "stream",
     "text": [
      "1\n",
      "4\n",
      "9\n",
      "16\n",
      "25\n",
      "36\n",
      "49\n",
      "64\n",
      "81\n",
      "100\n"
     ]
    }
   ],
   "source": [
    "for i in range(1,11):\n",
    "    print(soma_imp1(i))"
   ]
  },
  {
   "cell_type": "markdown",
   "metadata": {},
   "source": [
    "## Números primos\n",
    "\n",
    "Um número é primo caso ele não seja divisível por nenhum outro número menor que ele, exceto 1. \n",
    "\n",
    "Assim, 2, 3, 5, e 11 são primos.  \n",
    "8, 9 e 21 não são. \n",
    "\n",
    "Faça uma função para verificar se um número $n$ qualquer é primo.\n",
    "Sua função deve se chamar `primo` e retornar um booleano (True ou False)\n",
    "\n",
    "Para te ajudar, você pode usar a função abaixo, que verifica se um número é divisível por outro:"
   ]
  },
  {
   "cell_type": "code",
   "execution_count": 2,
   "metadata": {},
   "outputs": [],
   "source": [
    "def divisivel(a,b):\n",
    "    return(a % b == 0)"
   ]
  },
  {
   "cell_type": "code",
   "execution_count": 3,
   "metadata": {},
   "outputs": [
    {
     "data": {
      "text/plain": [
       "True"
      ]
     },
     "execution_count": 3,
     "metadata": {},
     "output_type": "execute_result"
    }
   ],
   "source": [
    "def primo(n):\n",
    "    if n <= 1:\n",
    "        return False\n",
    "    for i in range(2, n):\n",
    "        if divisivel(n, i):\n",
    "            return False\n",
    "    return True\n",
    "\n",
    "primo(5)"
   ]
  },
  {
   "cell_type": "markdown",
   "metadata": {},
   "source": [
    "## Raiz quadrada pelo método babilônico\n",
    "\n",
    "Os babilônicos calculavam a raiz quadrada de um número assim...\n",
    "\n",
    "Digamos que a gente queira calcular a raiz de 50 e não saiba quanto é.\n",
    "A gente chuta: é 10!\n",
    "Bom, 50 dividido por 10 é uns 5.\n",
    "Então a raiz deve estar entre 10 e 5. Vamos na média: 7.5\n",
    "Esse é nosso novo chute, com o qual a gente repete o processo...\n",
    "\n",
    "Em suma, para calcular  raiz de um número $Q$:\n",
    "\n",
    "1. Chuta um valor $x$ (\"x\" de \"chute\")\n",
    "2. Divide $Q$ por $x$. CIhama esse valor de $y$\n",
    "3. Tira a média entre $x$ e $y$. Esse vira o novo valor de $x$.\n",
    "4. Volta ao passo 2 e repete\n",
    "\n",
    "Quando é que a gente pára de repetir?\n",
    "Quando a diferença entre $x$ e $y$ fica pequena o suficiente para ser desprezada. Isso significa ser menor do que um valor pequeno, chamado tolerância.\n",
    "\n",
    "Faça uma função que calcule a raiz quadrada de um número $Q$ usando o método babilônico. Essa função deve receber 3 parâmetros:\n",
    "1. O número $Q$, cuja raiz quadrada queremos calcular\n",
    "2. O chute inicial, $x$. Por default, esse valor deve ser igual a 1.\n",
    "3. A tolerância, `tol`. Por default, esse valor deve ser igual a 0.01.\n",
    "\n",
    "A função deve se chamar `bsqrt`"
   ]
  },
  {
   "cell_type": "code",
   "execution_count": 9,
   "metadata": {},
   "outputs": [],
   "source": [
    "#definindo a função\n",
    "def bsqrt(Q, x=1, tol=0.01):\n",
    "    \n",
    "    #seguindo o passo 2\n",
    "    y = Q/x\n",
    "    \n",
    "    #criando um loop até que a condição de (x-y) ser menor que a tolerância seja atingida\n",
    "    while abs(x-y) > tol:\n",
    "        x = (x+y)/2\n",
    "        y = Q/x\n",
    "    return x\n"
   ]
  }
 ],
 "metadata": {
  "kernelspec": {
   "display_name": "Python 3 (ipykernel)",
   "language": "python",
   "name": "python3"
  },
  "language_info": {
   "codemirror_mode": {
    "name": "ipython",
    "version": 3
   },
   "file_extension": ".py",
   "mimetype": "text/x-python",
   "name": "python",
   "nbconvert_exporter": "python",
   "pygments_lexer": "ipython3",
   "version": "3.9.12"
  }
 },
 "nbformat": 4,
 "nbformat_minor": 4
}
