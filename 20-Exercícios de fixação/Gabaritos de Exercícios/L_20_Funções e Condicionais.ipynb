{
 "cells": [
  {
   "cell_type": "markdown",
   "metadata": {},
   "source": [
    "## Superpotência\n",
    "\n",
    "1. Faça uma função chamada `superpot` que eleve um número a si próprio. Por exemplo, ao receber 2, ela retorne $2^2 = 4$. Ao receber $3$, ela retorne $3^3 = 27$. Ao receber $4$, ela retorne $4^4 = 256$. E assim por diante... Teste sua função com 2, 3 e 4, e veja se você realmente obtém esses valores."
   ]
  },
  {
   "cell_type": "code",
   "execution_count": 4,
   "metadata": {},
   "outputs": [
    {
     "data": {
      "text/plain": [
       "27"
      ]
     },
     "execution_count": 4,
     "metadata": {},
     "output_type": "execute_result"
    }
   ],
   "source": [
    "def superpot(a):\n",
    "    return a**a\n",
    "\n",
    "superport(3)"
   ]
  },
  {
   "cell_type": "markdown",
   "metadata": {},
   "source": [
    "2. Use sua função para descobrir quanto é $1000^{1000}$"
   ]
  },
  {
   "cell_type": "code",
   "execution_count": 5,
   "metadata": {},
   "outputs": [
    {
     "data": {
      "text/plain": [
       "1000000000000000000000000000000000000000000000000000000000000000000000000000000000000000000000000000000000000000000000000000000000000000000000000000000000000000000000000000000000000000000000000000000000000000000000000000000000000000000000000000000000000000000000000000000000000000000000000000000000000000000000000000000000000000000000000000000000000000000000000000000000000000000000000000000000000000000000000000000000000000000000000000000000000000000000000000000000000000000000000000000000000000000000000000000000000000000000000000000000000000000000000000000000000000000000000000000000000000000000000000000000000000000000000000000000000000000000000000000000000000000000000000000000000000000000000000000000000000000000000000000000000000000000000000000000000000000000000000000000000000000000000000000000000000000000000000000000000000000000000000000000000000000000000000000000000000000000000000000000000000000000000000000000000000000000000000000000000000000000000000000000000000000000000000000000000000000000000000000000000000000000000000000000000000000000000000000000000000000000000000000000000000000000000000000000000000000000000000000000000000000000000000000000000000000000000000000000000000000000000000000000000000000000000000000000000000000000000000000000000000000000000000000000000000000000000000000000000000000000000000000000000000000000000000000000000000000000000000000000000000000000000000000000000000000000000000000000000000000000000000000000000000000000000000000000000000000000000000000000000000000000000000000000000000000000000000000000000000000000000000000000000000000000000000000000000000000000000000000000000000000000000000000000000000000000000000000000000000000000000000000000000000000000000000000000000000000000000000000000000000000000000000000000000000000000000000000000000000000000000000000000000000000000000000000000000000000000000000000000000000000000000000000000000000000000000000000000000000000000000000000000000000000000000000000000000000000000000000000000000000000000000000000000000000000000000000000000000000000000000000000000000000000000000000000000000000000000000000000000000000000000000000000000000000000000000000000000000000000000000000000000000000000000000000000000000000000000000000000000000000000000000000000000000000000000000000000000000000000000000000000000000000000000000000000000000000000000000000000000000000000000000000000000000000000000000000000000000000000000000000000000000000000000000000000000000000000000000000000000000000000000000000000000000000000000000000000000000000000000000000000000000000000000000000000000000000000000000000000000000000000000000000000000000000000000000000000000000000000000000000000000000000000000000000000000000000000000000000000000000000000000000000000000000000000000000000000000000000000000000000000000000000000000000000000000000000000000000000000000000000000000000000000000000000000000000000000000000000000000000000000000000000000000000000000000000000000000000000000000000000000000000000000000000000000000000000000000000000000000000"
      ]
     },
     "execution_count": 5,
     "metadata": {},
     "output_type": "execute_result"
    }
   ],
   "source": [
    "superpot(1000)"
   ]
  },
  {
   "cell_type": "markdown",
   "metadata": {},
   "source": [
    "3. A função a seguir conta quantos dígitos um número tem. Use essa função e a função que você definiu acima para contar quantos dígitos tem $1000^{1000}$"
   ]
  },
  {
   "cell_type": "code",
   "execution_count": 6,
   "metadata": {},
   "outputs": [],
   "source": [
    "def n_digitos(x):\n",
    "    return(len(str(x)))"
   ]
  },
  {
   "cell_type": "code",
   "execution_count": 7,
   "metadata": {},
   "outputs": [
    {
     "data": {
      "text/plain": [
       "3001"
      ]
     },
     "execution_count": 7,
     "metadata": {},
     "output_type": "execute_result"
    }
   ],
   "source": [
    "var = superpot(1000)\n",
    "\n",
    "n_digitos(var)"
   ]
  },
  {
   "cell_type": "markdown",
   "metadata": {},
   "source": [
    "## Valor futuro\n",
    "\n",
    "Crie uma função que calcule o valor de um investimento de renda fixa após determinado tempo. A função deve receber 3 inputs:\n",
    "* $P$, o valor investido (chamado _principal_)\n",
    "* $i$, o rendimento da aplicação\n",
    "* $n$, o número de períodos de capitalização do investimento.\n",
    "\n",
    "O valor do investimento é dado por\n",
    "\n",
    "$$\n",
    "V = P \\cdot (1+i)^n\n",
    "$$\n"
   ]
  },
  {
   "cell_type": "code",
   "execution_count": 9,
   "metadata": {},
   "outputs": [
    {
     "data": {
      "text/plain": [
       "1610.51"
      ]
     },
     "execution_count": 9,
     "metadata": {},
     "output_type": "execute_result"
    }
   ],
   "source": [
    "P = 1000\n",
    "i = 0.1\n",
    "n = 5\n",
    "\n",
    "def valor_inv(a,b,c):\n",
    "    return round(a*(1+b)**c,2)\n",
    "\n",
    "valor_inv(P,i,n)"
   ]
  },
  {
   "cell_type": "markdown",
   "metadata": {},
   "source": [
    "### Collatz \n",
    "\n",
    "A sequência de Collatz é muito bonitinha. Ela recebe um número $n$ inteiro e devolve outro, calculado da seguinte maneira:\n",
    "\n",
    "* se $n$ for par, ela devolve $\\frac{n}{2}$\n",
    "* se $n$ for impar, ela devolve $3n + 1$\n",
    "\n",
    "Aparentemente, se você ficar repetindo esses passos várias vezes, você sempre chega a 1, independente do número do qual você começou. Sim, isso é estranho. E ninguém sabe o porquê.\n",
    "\n",
    "Faça uma função chamada `collatz` que receba um número `n` e devolva o próximo termo da sequência de Collatz. Isso é, se $n$ for par, ela deve retornar $\\frac{n}{2}$, e se $n$ for ímpar, $3n + 1$."
   ]
  },
  {
   "cell_type": "code",
   "execution_count": 11,
   "metadata": {},
   "outputs": [
    {
     "data": {
      "text/plain": [
       "1.0"
      ]
     },
     "execution_count": 11,
     "metadata": {},
     "output_type": "execute_result"
    }
   ],
   "source": [
    "def collatz(n): \n",
    "    if n%2 == 0:\n",
    "        return n/2\n",
    "    else:\n",
    "        return 3*n+1\n",
    "\n",
    "collatz(2)"
   ]
  },
  {
   "cell_type": "markdown",
   "metadata": {},
   "source": [
    "Nós voltaremos a falar sobre a sequência de Collatz em outra lista, mais à frente."
   ]
  },
  {
   "cell_type": "markdown",
   "metadata": {},
   "source": [
    "### Máximo divisor comum (Recursão)"
   ]
  },
  {
   "cell_type": "markdown",
   "metadata": {},
   "source": [
    "Euclides tinha um jeito muito esperto de calcular o máximo divisor comum entre dois números, $a$ e $b$:\n",
    "\n",
    "* Se $b = 0$, então o máximo divisor comum era $a$.\n",
    "* Se não, ele calculava o máximo divisor comum entre $b$ e o resto da divisão de $a$ por $b$.\n",
    "\n",
    "1. Pegue um papel e caneta e calcule o máximo divisor comum de 12 e 8, usando esse algoritmo. Não use Python. Você não precisa dar uma resposta formal a essa pergunta. Só faça, para você entender como uma recusão funciona.\n",
    "2. Crie uma função chamada `mdc` que implemente esse algoritmo:"
   ]
  },
  {
   "cell_type": "code",
   "execution_count": 10,
   "metadata": {},
   "outputs": [],
   "source": [
    "#a lógica do mdc é a seguinte, considerando 2 valores: a e b, o Maior Divisor Comum é aquele, no qual, se formos dividir os números entre si, o resto é 0\n",
    "#Assim, a equação de Euclides tem como objetivo ficar dividindo os valores de a e b até que, finalmente, dê 0\n",
    "'''\n",
    "#sem recursão\n",
    "def mdc(a, b):\n",
    "    while b != 0:\n",
    "        resto = a%b\n",
    "        a = b\n",
    "        b = resto\n",
    "    return a\n",
    "'''\n",
    "\n",
    "'''\n",
    "#com recursão\n",
    "def mdc(a, b):\n",
    "    if b != 0:\n",
    "        resto = a%b\n",
    "        a = b\n",
    "        b = resto\n",
    "        mdc(a,b)\n",
    "    else:\n",
    "        return a\n",
    "    \n",
    "mdc(9,12)\n",
    "'''"
   ]
  },
  {
   "cell_type": "markdown",
   "metadata": {},
   "source": [
    "### Importando uma função de um pacote"
   ]
  },
  {
   "cell_type": "markdown",
   "metadata": {},
   "source": [
    "Importe a função `log10` do pacote `math` e calcule o logaritmo de 1000 na base 10."
   ]
  },
  {
   "cell_type": "code",
   "execution_count": 1,
   "metadata": {},
   "outputs": [
    {
     "data": {
      "text/plain": [
       "3.0"
      ]
     },
     "execution_count": 1,
     "metadata": {},
     "output_type": "execute_result"
    }
   ],
   "source": [
    "from math import log10\n",
    "\n",
    "log10(1000)"
   ]
  },
  {
   "cell_type": "code",
   "execution_count": null,
   "metadata": {},
   "outputs": [],
   "source": []
  }
 ],
 "metadata": {
  "kernelspec": {
   "display_name": "Python 3 (ipykernel)",
   "language": "python",
   "name": "python3"
  },
  "language_info": {
   "codemirror_mode": {
    "name": "ipython",
    "version": 3
   },
   "file_extension": ".py",
   "mimetype": "text/x-python",
   "name": "python",
   "nbconvert_exporter": "python",
   "pygments_lexer": "ipython3",
   "version": "3.9.12"
  }
 },
 "nbformat": 4,
 "nbformat_minor": 4
}
