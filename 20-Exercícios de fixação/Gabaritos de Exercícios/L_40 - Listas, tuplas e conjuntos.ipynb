{
 "cells": [
  {
   "cell_type": "markdown",
   "metadata": {},
   "source": [
    "### Manipulação de listas\n",
    "\n",
    "1. Coloque o seu nome na lista de grandes pensadores da humanidade:"
   ]
  },
  {
   "cell_type": "code",
   "execution_count": 1,
   "metadata": {},
   "outputs": [],
   "source": [
    "grandes_pensadores = ['Socrates','Aristoteles','Platao']"
   ]
  },
  {
   "cell_type": "code",
   "execution_count": 2,
   "metadata": {},
   "outputs": [
    {
     "name": "stdout",
     "output_type": "stream",
     "text": [
      "['Socrates', 'Aristoteles', 'Platao', 'lucas cuan']\n"
     ]
    }
   ],
   "source": [
    "grandes_pensadores.append('lucas cuan')\n",
    "print(grandes_pensadores)"
   ]
  },
  {
   "cell_type": "markdown",
   "metadata": {},
   "source": [
    "2. Crie uma lista chamada `divisores_de_144` com os divisores de 144.\n",
    "Tome o cuidado de incluir o número 144, já que todo número divide a si próprio."
   ]
  },
  {
   "cell_type": "code",
   "execution_count": 8,
   "metadata": {},
   "outputs": [
    {
     "name": "stdout",
     "output_type": "stream",
     "text": [
      "[1, 2, 3, 4, 6, 8, 9, 12, 16, 18, 24, 36, 48, 72]\n"
     ]
    }
   ],
   "source": [
    "divisores_de_144 = []\n",
    "\n",
    "for i in range(1,144):\n",
    "    if 144%i == 0:\n",
    "        divisores_de_144.append(i)\n",
    "    else:\n",
    "        pass\n",
    "\n",
    "print(divisores_de_144)"
   ]
  },
  {
   "cell_type": "markdown",
   "metadata": {},
   "source": [
    "3. Quantos divisores tem o número 144?"
   ]
  },
  {
   "cell_type": "code",
   "execution_count": 10,
   "metadata": {},
   "outputs": [
    {
     "name": "stdout",
     "output_type": "stream",
     "text": [
      "14 divisores\n"
     ]
    }
   ],
   "source": [
    "print(len(divisores_de_144), 'divisores')"
   ]
  },
  {
   "cell_type": "markdown",
   "metadata": {},
   "source": [
    "4. Crie uma lista (`divisores_favoritos`) com os terceiro, quarto e quinto divisores de 144."
   ]
  },
  {
   "cell_type": "code",
   "execution_count": 13,
   "metadata": {},
   "outputs": [
    {
     "name": "stdout",
     "output_type": "stream",
     "text": [
      "[3, 4, 6]\n"
     ]
    }
   ],
   "source": [
    "divisores_favoritos = divisores_de_144[2:5]\n",
    "print(divisores_favoritos)"
   ]
  },
  {
   "cell_type": "markdown",
   "metadata": {},
   "source": [
    "5. Ordene a lista `divisores_de_144` em ordem decrescente"
   ]
  },
  {
   "cell_type": "code",
   "execution_count": 15,
   "metadata": {},
   "outputs": [
    {
     "name": "stdout",
     "output_type": "stream",
     "text": [
      "[72, 48, 36, 24, 18, 16, 12, 9, 8, 6, 4, 3, 2, 1]\n"
     ]
    }
   ],
   "source": [
    "divisores_de_144.sort(reverse=True)\n",
    "print(divisores_de_144)"
   ]
  },
  {
   "cell_type": "markdown",
   "metadata": {},
   "source": [
    "6. Calcule a soma de todos os divisores de 144"
   ]
  },
  {
   "cell_type": "code",
   "execution_count": 16,
   "metadata": {},
   "outputs": [
    {
     "name": "stdout",
     "output_type": "stream",
     "text": [
      "259\n"
     ]
    }
   ],
   "source": [
    "print(sum(divisores_de_144))"
   ]
  },
  {
   "cell_type": "markdown",
   "metadata": {},
   "source": [
    "7. Calcule a média de todos os divisores de 144"
   ]
  },
  {
   "cell_type": "code",
   "execution_count": 17,
   "metadata": {},
   "outputs": [
    {
     "name": "stdout",
     "output_type": "stream",
     "text": [
      "18.5\n"
     ]
    }
   ],
   "source": [
    "print(sum(divisores_de_144)/len(divisores_de_144))"
   ]
  },
  {
   "cell_type": "markdown",
   "metadata": {},
   "source": [
    "8. Aplique a função $f(x) = 2x + 1$ a todos os divisores de 144"
   ]
  },
  {
   "cell_type": "code",
   "execution_count": 18,
   "metadata": {},
   "outputs": [
    {
     "name": "stdout",
     "output_type": "stream",
     "text": [
      "145\n",
      "97\n",
      "73\n",
      "49\n",
      "37\n",
      "33\n",
      "25\n",
      "19\n",
      "17\n",
      "13\n",
      "9\n",
      "7\n",
      "5\n",
      "3\n"
     ]
    }
   ],
   "source": [
    "for i in divisores_de_144:\n",
    "    print(2*i+1)"
   ]
  },
  {
   "cell_type": "markdown",
   "metadata": {},
   "source": [
    "### Fibonacci\n",
    "\n",
    "A função a seguir dá o n-ésimo termo da série de Fibonacci:"
   ]
  },
  {
   "cell_type": "code",
   "execution_count": 4,
   "metadata": {},
   "outputs": [
    {
     "data": {
      "text/plain": [
       "89"
      ]
     },
     "execution_count": 4,
     "metadata": {},
     "output_type": "execute_result"
    }
   ],
   "source": [
    "def fib(n):\n",
    "\n",
    "    #caso n seja igual a 1 ou 0\n",
    "    if n == 0 or n == 1:\n",
    "        return(1)\n",
    "    \n",
    "    #para qualquer outro numero diferente, usando recursão para atingir o valor pedido\n",
    "    else:\n",
    "        return(fib(n-1) + fib(n-2))\n",
    "    \n",
    "fib(10)"
   ]
  },
  {
   "cell_type": "markdown",
   "metadata": {},
   "source": [
    "Crie uma função, `seq_fib`, que receba um número $n$ e retorne uma lista com os $n$ primeiros termos da sequência de Fibonacci. Por exemplo, seq_fib(6) deveria retornar [1, 1, 2, 3, 5, 8]."
   ]
  },
  {
   "cell_type": "code",
   "execution_count": 9,
   "metadata": {},
   "outputs": [
    {
     "data": {
      "text/plain": [
       "[1, 1, 2, 3, 5, 8]"
      ]
     },
     "execution_count": 9,
     "metadata": {},
     "output_type": "execute_result"
    }
   ],
   "source": [
    "def seq_fib(n:int):\n",
    "    lista = []\n",
    "    for i in range(n):\n",
    "        lista.append(fib(i))\n",
    "    return lista\n",
    "\n",
    "seq_fib(6)"
   ]
  },
  {
   "cell_type": "code",
   "execution_count": 11,
   "metadata": {},
   "outputs": [],
   "source": [
    "#seq_fib(6) #isso deve retornar [1,1,2,3,5,8]"
   ]
  },
  {
   "cell_type": "markdown",
   "metadata": {},
   "source": [
    "### Collatz\n",
    "\n",
    "A sequência de Collatz é muito bonitinha. Ela recebe um número $n$ inteiro e devolve outro, calculado da seguinte maneira:\n",
    "\n",
    "* se $n$ for par, ela devolve $\\frac{n}{2}$\n",
    "* se $n$ for impar, ela devolve $3n + 1$\n",
    "\n",
    "Aparentemente, se você ficar repetindo esses passos várias vezes, você sempre chega a 1, independente do número do qual você começou. Sim, isso é estranho. E ninguém sabe o porquê.\n",
    "\n",
    "A função `collatz` recebe um número `n` e devolve o próximo termo da sequência de Collatz."
   ]
  },
  {
   "cell_type": "code",
   "execution_count": 24,
   "metadata": {},
   "outputs": [
    {
     "data": {
      "text/plain": [
       "10"
      ]
     },
     "execution_count": 24,
     "metadata": {},
     "output_type": "execute_result"
    }
   ],
   "source": [
    "def collatz(n):\n",
    "    \n",
    "    #se for divisível por 2\n",
    "    if n%2 == 0:\n",
    "        return(n/2)\n",
    "    \n",
    "    #se não for divisível por 2\n",
    "    else:\n",
    "        return(3*n + 1)\n",
    "\n",
    "collatz(3)"
   ]
  },
  {
   "cell_type": "markdown",
   "metadata": {},
   "source": [
    "1. Faça uma função chamada `seq_collatz` que, a partir de um número $n$, devolva uma lista com todos os termos da sequência de Collatz até que o número 1 seja atingido. O número 1 deve ser incluído na lista."
   ]
  },
  {
   "cell_type": "code",
   "execution_count": 9,
   "metadata": {},
   "outputs": [
    {
     "data": {
      "text/plain": [
       "[10, 5.0, 16.0, 8.0, 4.0, 2.0, 1.0]"
      ]
     },
     "execution_count": 9,
     "metadata": {},
     "output_type": "execute_result"
    }
   ],
   "source": [
    "def seq_collatz(n:int):\n",
    "    lista = [n]\n",
    "    \n",
    "    #para que o último resultado seja necessariamente 1\n",
    "    while n!=1:\n",
    "        \n",
    "        #condição para os números pares\n",
    "        if n%2 == 0:\n",
    "            n = n/2\n",
    "            lista.append(n)\n",
    "        \n",
    "        #condição para os números ímpares\n",
    "        else:\n",
    "            n = (3*n + 1)\n",
    "            lista.append(n)\n",
    "            \n",
    "    #retornar a lista com os valores adicionados\n",
    "    return lista\n",
    "\n",
    "seq_collatz(10)\n"
   ]
  },
  {
   "cell_type": "code",
   "execution_count": null,
   "metadata": {},
   "outputs": [],
   "source": [
    "#seq_collatz(12) #isso deve retornar [12, 6, 3, 10, 5, 16, 8, 4, 2, 1]\n",
    "seq_collatz(12)"
   ]
  },
  {
   "cell_type": "markdown",
   "metadata": {},
   "source": [
    "2. Crie uma função chamada `comprimento_collatz` que retorne o número de termos em sua sequencia de collatz (isso é, quantos termos demora até que a sequencia chegue em 1)."
   ]
  },
  {
   "cell_type": "code",
   "execution_count": null,
   "metadata": {},
   "outputs": [],
   "source": [
    "def comprimento_collatz(n):\n",
    "    return len(seq_collatz(n))\n",
    "\n",
    "comprimento_collatz(10)"
   ]
  },
  {
   "cell_type": "markdown",
   "metadata": {},
   "source": [
    "3. Construa uma lista chamada `comprimentos` com os comprimentos das sequencias de Collatz iniciando em 1, 2, 3, 4, etc, até 1000. Qual é o maior comprimento dessa lista?"
   ]
  },
  {
   "cell_type": "code",
   "execution_count": null,
   "metadata": {},
   "outputs": [],
   "source": [
    "for i in range(1000):\n",
    "    comprimentos = []\n",
    "    comprimentos.append(comprimento_collatz(i))\n",
    "\n",
    "print(max(comprimentos))"
   ]
  },
  {
   "cell_type": "code",
   "execution_count": null,
   "metadata": {},
   "outputs": [],
   "source": []
  }
 ],
 "metadata": {
  "kernelspec": {
   "display_name": "Python 3",
   "language": "python",
   "name": "python3"
  },
  "language_info": {
   "codemirror_mode": {
    "name": "ipython",
    "version": 3
   },
   "file_extension": ".py",
   "mimetype": "text/x-python",
   "name": "python",
   "nbconvert_exporter": "python",
   "pygments_lexer": "ipython3",
   "version": "3.11.0"
  },
  "vscode": {
   "interpreter": {
    "hash": "c261aea317cc0286b3b3261fbba9abdec21eaa57589985bb7a274bf54d6cc0a7"
   }
  }
 },
 "nbformat": 4,
 "nbformat_minor": 4
}
