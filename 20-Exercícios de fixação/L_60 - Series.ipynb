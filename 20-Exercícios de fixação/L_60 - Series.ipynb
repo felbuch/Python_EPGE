{
 "cells": [
  {
   "cell_type": "markdown",
   "metadata": {},
   "source": [
    "## Bitcoin\n",
    "\n",
    "Antes da gente começar, rode essas células. Elas vão criar as séries que vamos usar nesse exercício:"
   ]
  },
  {
   "cell_type": "code",
   "execution_count": 3,
   "metadata": {},
   "outputs": [
    {
     "name": "stdout",
     "output_type": "stream",
     "text": [
      "Requirement already satisfied: yfinance in g:\\fgv\\anaconda\\lib\\site-packages (0.2.12)\n",
      "Requirement already satisfied: pytz>=2022.5 in g:\\fgv\\anaconda\\lib\\site-packages (from yfinance) (2022.7.1)\n",
      "Requirement already satisfied: lxml>=4.9.1 in g:\\fgv\\anaconda\\lib\\site-packages (from yfinance) (4.9.2)\n",
      "Requirement already satisfied: html5lib>=1.1 in g:\\fgv\\anaconda\\lib\\site-packages (from yfinance) (1.1)\n",
      "Requirement already satisfied: requests>=2.26 in g:\\fgv\\anaconda\\lib\\site-packages (from yfinance) (2.27.1)\n",
      "Requirement already satisfied: numpy>=1.16.5 in g:\\fgv\\anaconda\\lib\\site-packages (from yfinance) (1.21.5)\n",
      "Requirement already satisfied: multitasking>=0.0.7 in g:\\fgv\\anaconda\\lib\\site-packages (from yfinance) (0.0.11)\n",
      "Requirement already satisfied: beautifulsoup4>=4.11.1 in g:\\fgv\\anaconda\\lib\\site-packages (from yfinance) (4.11.1)\n",
      "Requirement already satisfied: cryptography>=3.3.2 in g:\\fgv\\anaconda\\lib\\site-packages (from yfinance) (3.4.8)\n",
      "Requirement already satisfied: appdirs>=1.4.4 in g:\\fgv\\anaconda\\lib\\site-packages (from yfinance) (1.4.4)\n",
      "Requirement already satisfied: pandas>=1.3.0 in g:\\fgv\\anaconda\\lib\\site-packages (from yfinance) (1.4.2)\n",
      "Requirement already satisfied: frozendict>=2.3.4 in g:\\fgv\\anaconda\\lib\\site-packages (from yfinance) (2.3.5)\n",
      "Requirement already satisfied: soupsieve>1.2 in g:\\fgv\\anaconda\\lib\\site-packages (from beautifulsoup4>=4.11.1->yfinance) (2.3.1)\n",
      "Requirement already satisfied: cffi>=1.12 in g:\\fgv\\anaconda\\lib\\site-packages (from cryptography>=3.3.2->yfinance) (1.15.0)\n",
      "Requirement already satisfied: pycparser in g:\\fgv\\anaconda\\lib\\site-packages (from cffi>=1.12->cryptography>=3.3.2->yfinance) (2.21)\n",
      "Requirement already satisfied: six>=1.9 in g:\\fgv\\anaconda\\lib\\site-packages (from html5lib>=1.1->yfinance) (1.16.0)\n",
      "Requirement already satisfied: webencodings in g:\\fgv\\anaconda\\lib\\site-packages (from html5lib>=1.1->yfinance) (0.5.1)\n",
      "Requirement already satisfied: python-dateutil>=2.8.1 in g:\\fgv\\anaconda\\lib\\site-packages (from pandas>=1.3.0->yfinance) (2.8.2)\n",
      "Requirement already satisfied: charset-normalizer~=2.0.0 in g:\\fgv\\anaconda\\lib\\site-packages (from requests>=2.26->yfinance) (2.0.4)\n",
      "Requirement already satisfied: idna<4,>=2.5 in g:\\fgv\\anaconda\\lib\\site-packages (from requests>=2.26->yfinance) (3.3)\n",
      "Requirement already satisfied: certifi>=2017.4.17 in g:\\fgv\\anaconda\\lib\\site-packages (from requests>=2.26->yfinance) (2021.10.8)\n",
      "Requirement already satisfied: urllib3<1.27,>=1.21.1 in g:\\fgv\\anaconda\\lib\\site-packages (from requests>=2.26->yfinance) (1.26.9)\n"
     ]
    }
   ],
   "source": [
    "!pip install yfinance"
   ]
  },
  {
   "cell_type": "code",
   "execution_count": 2,
   "metadata": {},
   "outputs": [],
   "source": [
    "import pandas as pd\n",
    "import yfinance as yf"
   ]
  },
  {
   "cell_type": "code",
   "execution_count": 4,
   "metadata": {},
   "outputs": [
    {
     "name": "stdout",
     "output_type": "stream",
     "text": [
      "[*********************100%***********************]  1 of 1 completed\n",
      "[*********************100%***********************]  1 of 1 completed\n"
     ]
    }
   ],
   "source": [
    "bitcoin= yf.download(\"BTC-USD\",\n",
    "                     period= 'max')\n",
    "preco = bitcoin['Close']\n",
    "retorno = preco.pct_change()\n",
    "dolar = yf.download(\"USDBRL=X\",\n",
    "                     period= 'max')['Close']"
   ]
  },
  {
   "cell_type": "markdown",
   "metadata": {},
   "source": [
    "As séries `preco`, `volume` e `retorno` trazem o preço, o volume negociado e o retorno diário do Bitcoin ao longo do último mês. A série `dolar` traz a série do valor diário do dólar."
   ]
  },
  {
   "cell_type": "markdown",
   "metadata": {},
   "source": [
    "1. Quantos dias temos na série de retorno? Em quantos desses dias o retorno do Bitcoin foi positivo?"
   ]
  },
  {
   "cell_type": "code",
   "execution_count": 23,
   "metadata": {},
   "outputs": [
    {
     "name": "stdout",
     "output_type": "stream",
     "text": [
      "3075 dias\n"
     ]
    }
   ],
   "source": [
    "#Resposta"
   ]
  },
  {
   "cell_type": "code",
   "execution_count": 1,
   "metadata": {},
   "outputs": [],
   "source": [
    "#Resposta"
   ]
  },
  {
   "cell_type": "markdown",
   "metadata": {},
   "source": [
    "O preço do Bitcoin está em dólar. Queremos convertê-lo para reais usando o valor do dólar em cada dia.  \n",
    "\n",
    "Antes de fazermos isso...\n",
    "\n",
    "2. Qual o valor do dólar mais recente disponível na série `dolar`?"
   ]
  },
  {
   "cell_type": "code",
   "execution_count": 6,
   "metadata": {},
   "outputs": [],
   "source": [
    "#Resposta\n"
   ]
  },
  {
   "cell_type": "markdown",
   "metadata": {},
   "source": [
    "3. Converta a série `preço` do Bitcoin para o Real. Para isso, você deve _multiplicar_ o preço do Bitcoin em dólar pelo preço do dólar em cada dia. Chame a nova serie de `preco_real`"
   ]
  },
  {
   "cell_type": "code",
   "execution_count": 7,
   "metadata": {},
   "outputs": [],
   "source": [
    "#Resposta\n"
   ]
  },
  {
   "cell_type": "markdown",
   "metadata": {},
   "source": [
    "Ótimo! Agora eu vou calcular pra você o retorno diário do Bitcoin em reais:"
   ]
  },
  {
   "cell_type": "code",
   "execution_count": 8,
   "metadata": {},
   "outputs": [],
   "source": [
    "#Resposta\n"
   ]
  },
  {
   "cell_type": "markdown",
   "metadata": {},
   "source": [
    "Você vai aprender a medir o risco de uma ação quando estudar Finanças. Por enquanto, vamos usar esta medida daqui:\n",
    "\n",
    "$$\n",
    "\\text{Risco} = \\left(\\frac{\\text{valor máximo do retorno} - \\text{valor mínimo do retorno}}{\\text{valor médio do retorno}} \\right)\\times 100\n",
    "$$\n",
    "\n",
    "4. Calcule esse valor para duas séries:\n",
    "* `retorno`, que mede o retorno diário do Bitcoin em dólar (ou seja, para o investidor americano)\n",
    "* `retorno_real`, que mede o retorno diário do Bitcoin em reais (ou seja, para o investidor brasileiro)\n",
    "\n",
    "Qual é maior?"
   ]
  },
  {
   "cell_type": "code",
   "execution_count": 9,
   "metadata": {},
   "outputs": [],
   "source": [
    "#Para a série em dólar\n"
   ]
  },
  {
   "cell_type": "code",
   "execution_count": 10,
   "metadata": {},
   "outputs": [],
   "source": [
    "#Para a série em reais\n"
   ]
  },
  {
   "cell_type": "markdown",
   "metadata": {},
   "source": [
    "Por que o risco em real é maior do que o risco em dólar?\n",
    "\n",
    "Parabéns! Você acaba de aprender o que é **risco cambial** de um investimento! :)"
   ]
  }
 ],
 "metadata": {
  "kernelspec": {
   "display_name": "Python 3 (ipykernel)",
   "language": "python",
   "name": "python3"
  },
  "language_info": {
   "codemirror_mode": {
    "name": "ipython",
    "version": 3
   },
   "file_extension": ".py",
   "mimetype": "text/x-python",
   "name": "python",
   "nbconvert_exporter": "python",
   "pygments_lexer": "ipython3",
   "version": "3.9.12"
  }
 },
 "nbformat": 4,
 "nbformat_minor": 4
}
