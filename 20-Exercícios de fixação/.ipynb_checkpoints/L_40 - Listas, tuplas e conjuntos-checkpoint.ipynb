{
 "cells": [
  {
   "cell_type": "markdown",
   "metadata": {},
   "source": [
    "### Manipulação de listas\n",
    "\n",
    "1. Coloque o seu nome na lista de grandes pensadores da humanidade:"
   ]
  },
  {
   "cell_type": "code",
   "execution_count": 1,
   "metadata": {},
   "outputs": [],
   "source": [
    "grandes_pensadores = ['Socrates','Aristoteles','Platao']"
   ]
  },
  {
   "cell_type": "code",
   "execution_count": 2,
   "metadata": {},
   "outputs": [],
   "source": [
    "#Resposta\n"
   ]
  },
  {
   "cell_type": "markdown",
   "metadata": {},
   "source": [
    "2. Crie uma lista chamada `divisores_de_144` com os divisores de 144.\n",
    "Tome o cuidado de incluir o número 144, já que todo número divide a si próprio."
   ]
  },
  {
   "cell_type": "code",
   "execution_count": 3,
   "metadata": {},
   "outputs": [],
   "source": [
    "#Resposta\n"
   ]
  },
  {
   "cell_type": "markdown",
   "metadata": {},
   "source": [
    "3. Quantos divisores tem o número 144?"
   ]
  },
  {
   "cell_type": "code",
   "execution_count": 4,
   "metadata": {},
   "outputs": [],
   "source": [
    "#Resposta\n"
   ]
  },
  {
   "cell_type": "markdown",
   "metadata": {},
   "source": [
    "4. Crie uma lista (`divisores_favoritos`) com os terceiro, quarto e quinto divisores de 144."
   ]
  },
  {
   "cell_type": "code",
   "execution_count": 5,
   "metadata": {},
   "outputs": [],
   "source": [
    "#Resposta\n"
   ]
  },
  {
   "cell_type": "markdown",
   "metadata": {},
   "source": [
    "5. Ordene a lista `divisores_de_144` em ordem decrescente"
   ]
  },
  {
   "cell_type": "code",
   "execution_count": 6,
   "metadata": {},
   "outputs": [],
   "source": [
    "#Resposta\n"
   ]
  },
  {
   "cell_type": "markdown",
   "metadata": {},
   "source": [
    "6. Calcule a soma de todos os divisores de 144"
   ]
  },
  {
   "cell_type": "code",
   "execution_count": 7,
   "metadata": {},
   "outputs": [],
   "source": [
    "#Resposta\n"
   ]
  },
  {
   "cell_type": "markdown",
   "metadata": {},
   "source": [
    "7. Calcule a média de todos os divisores de 144"
   ]
  },
  {
   "cell_type": "code",
   "execution_count": 8,
   "metadata": {},
   "outputs": [],
   "source": [
    "#Resposta\n"
   ]
  },
  {
   "cell_type": "markdown",
   "metadata": {},
   "source": [
    "8. Aplique a função $f(x) = 2x + 1$ a todos os divisores de 144"
   ]
  },
  {
   "cell_type": "code",
   "execution_count": 9,
   "metadata": {},
   "outputs": [],
   "source": [
    "#Resposta\n"
   ]
  },
  {
   "cell_type": "markdown",
   "metadata": {},
   "source": [
    "### Fibonacci\n",
    "\n",
    "A função a seguir dá o n-ésimo termo da série de Fibonacci:"
   ]
  },
  {
   "cell_type": "code",
   "execution_count": null,
   "metadata": {},
   "outputs": [],
   "source": [
    "def fib(n):\n",
    "    if (n == 0) | (n == 1):\n",
    "        return(1)\n",
    "    else:\n",
    "        return(fib(n-1) + fib(n-2))"
   ]
  },
  {
   "cell_type": "markdown",
   "metadata": {},
   "source": [
    "Crie uma função, `seq_fib`, que receba um número $n$ e retorne uma lista com os $n$ primeiros termos da sequência de Fibonacci. Por exemplo, seq_fib(6) deveria retornar [1, 1, 2, 3, 5, 8]."
   ]
  },
  {
   "cell_type": "code",
   "execution_count": 10,
   "metadata": {},
   "outputs": [],
   "source": [
    "#Resposta\n"
   ]
  },
  {
   "cell_type": "code",
   "execution_count": 11,
   "metadata": {},
   "outputs": [],
   "source": [
    "#seq_fib(6) #isso deve retornar [1,1,2,3,5,8]"
   ]
  },
  {
   "cell_type": "markdown",
   "metadata": {},
   "source": [
    "### Collatz\n",
    "\n",
    "A sequência de Collatz é muito bonitinha. Ela recebe um número $n$ inteiro e devolve outro, calculado da seguinte maneira:\n",
    "\n",
    "* se $n$ for par, ela devolve $\\frac{n}{2}$\n",
    "* se $n$ for impar, ela devolve $3n + 1$\n",
    "\n",
    "Aparentemente, se você ficar repetindo esses passos várias vezes, você sempre chega a 1, independente do número do qual você começou. Sim, isso é estranho. E ninguém sabe o porquê.\n",
    "\n",
    "A função `collatz` recebe um número `n` e devolve o próximo termo da sequência de Collatz."
   ]
  },
  {
   "cell_type": "code",
   "execution_count": 12,
   "metadata": {},
   "outputs": [],
   "source": [
    "def collatz(n):\n",
    "    if n%2 == 0:\n",
    "        return(n/2)\n",
    "    else:\n",
    "        return(3*n + 1)"
   ]
  },
  {
   "cell_type": "markdown",
   "metadata": {},
   "source": [
    "1. Faça uma função chamada `seq_collatz` que, a partir de um número $n$, devolva uma lista com todos os termos da sequência de Collatz até que o número 1 seja atingido. O número 1 deve ser incluído na lista."
   ]
  },
  {
   "cell_type": "code",
   "execution_count": 13,
   "metadata": {},
   "outputs": [],
   "source": [
    "#Resposta\n"
   ]
  },
  {
   "cell_type": "code",
   "execution_count": 1,
   "metadata": {},
   "outputs": [],
   "source": [
    "#seq_collatz(12) #isso deve retornar [12, 6, 3, 10, 5, 16, 8, 4, 2, 1]\n"
   ]
  },
  {
   "cell_type": "markdown",
   "metadata": {},
   "source": [
    "2. Crie uma função chamada `comprimento_collatz` que retorne o número de termos em sua sequencia de collatz (isso é, quantos termos demora até que a sequencia chegue em 1)."
   ]
  },
  {
   "cell_type": "code",
   "execution_count": 15,
   "metadata": {},
   "outputs": [],
   "source": [
    "#Resposta\n"
   ]
  },
  {
   "cell_type": "markdown",
   "metadata": {},
   "source": [
    "3. Construa uma lista chamada `comprimentos` com os comprimentos das sequencias de Collatz iniciando em 1, 2, 3, 4, etc, até 1000. Qual é o maior comprimento dessa lista?"
   ]
  },
  {
   "cell_type": "code",
   "execution_count": 16,
   "metadata": {},
   "outputs": [],
   "source": [
    "#Resposta\n"
   ]
  }
 ],
 "metadata": {
  "kernelspec": {
   "display_name": "Python 3 (ipykernel)",
   "language": "python",
   "name": "python3"
  },
  "language_info": {
   "codemirror_mode": {
    "name": "ipython",
    "version": 3
   },
   "file_extension": ".py",
   "mimetype": "text/x-python",
   "name": "python",
   "nbconvert_exporter": "python",
   "pygments_lexer": "ipython3",
   "version": "3.9.12"
  }
 },
 "nbformat": 4,
 "nbformat_minor": 4
}
